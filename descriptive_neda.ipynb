{
 "cells": [
  {
   "cell_type": "code",
   "execution_count": 22,
   "metadata": {},
   "outputs": [],
   "source": [
    "import pandas as pd"
   ]
  },
  {
   "cell_type": "markdown",
   "metadata": {},
   "source": [
    "# Descriptive Analysis"
   ]
  },
  {
   "cell_type": "code",
   "execution_count": 23,
   "metadata": {},
   "outputs": [
    {
     "data": {
      "text/html": [
       "<div>\n",
       "<style scoped>\n",
       "    .dataframe tbody tr th:only-of-type {\n",
       "        vertical-align: middle;\n",
       "    }\n",
       "\n",
       "    .dataframe tbody tr th {\n",
       "        vertical-align: top;\n",
       "    }\n",
       "\n",
       "    .dataframe thead th {\n",
       "        text-align: right;\n",
       "    }\n",
       "</style>\n",
       "<table border=\"1\" class=\"dataframe\">\n",
       "  <thead>\n",
       "    <tr style=\"text-align: right;\">\n",
       "      <th></th>\n",
       "      <th>Request_Date</th>\n",
       "      <th>Flight_Date</th>\n",
       "      <th>Departure_hour</th>\n",
       "      <th>flight_unique_id</th>\n",
       "      <th>route_abb</th>\n",
       "      <th>flight_number</th>\n",
       "      <th>Price</th>\n",
       "      <th>Currency</th>\n",
       "    </tr>\n",
       "  </thead>\n",
       "  <tbody>\n",
       "    <tr>\n",
       "      <th>0</th>\n",
       "      <td>2019-07-28T11:00:00Z</td>\n",
       "      <td>2019-07-29</td>\n",
       "      <td>18</td>\n",
       "      <td>2019-07-29 FR 146</td>\n",
       "      <td>SXF-STN</td>\n",
       "      <td>FR 146</td>\n",
       "      <td>73.43</td>\n",
       "      <td>€</td>\n",
       "    </tr>\n",
       "    <tr>\n",
       "      <th>1</th>\n",
       "      <td>2019-07-28T11:00:00Z</td>\n",
       "      <td>2019-07-29</td>\n",
       "      <td>22</td>\n",
       "      <td>2019-07-29 FR 8545</td>\n",
       "      <td>SXF-STN</td>\n",
       "      <td>FR 8545</td>\n",
       "      <td>180.53</td>\n",
       "      <td>€</td>\n",
       "    </tr>\n",
       "    <tr>\n",
       "      <th>2</th>\n",
       "      <td>2019-07-28T11:00:00Z</td>\n",
       "      <td>2019-07-30</td>\n",
       "      <td>6</td>\n",
       "      <td>2019-07-30 FR 144</td>\n",
       "      <td>SXF-STN</td>\n",
       "      <td>FR 144</td>\n",
       "      <td>61.19</td>\n",
       "      <td>€</td>\n",
       "    </tr>\n",
       "    <tr>\n",
       "      <th>3</th>\n",
       "      <td>2019-07-28T23:00:00Z</td>\n",
       "      <td>2019-07-30</td>\n",
       "      <td>6</td>\n",
       "      <td>2019-07-30 FR 144</td>\n",
       "      <td>SXF-STN</td>\n",
       "      <td>FR 144</td>\n",
       "      <td>73.43</td>\n",
       "      <td>€</td>\n",
       "    </tr>\n",
       "    <tr>\n",
       "      <th>4</th>\n",
       "      <td>2019-07-28T11:00:00Z</td>\n",
       "      <td>2019-07-30</td>\n",
       "      <td>10</td>\n",
       "      <td>2019-07-30 FR 8543</td>\n",
       "      <td>SXF-STN</td>\n",
       "      <td>FR 8543</td>\n",
       "      <td>180.53</td>\n",
       "      <td>€</td>\n",
       "    </tr>\n",
       "    <tr>\n",
       "      <th>...</th>\n",
       "      <td>...</td>\n",
       "      <td>...</td>\n",
       "      <td>...</td>\n",
       "      <td>...</td>\n",
       "      <td>...</td>\n",
       "      <td>...</td>\n",
       "      <td>...</td>\n",
       "      <td>...</td>\n",
       "    </tr>\n",
       "    <tr>\n",
       "      <th>5119</th>\n",
       "      <td>2019-07-31T23:00:00Z</td>\n",
       "      <td>2019-09-10</td>\n",
       "      <td>10</td>\n",
       "      <td>2019-09-10 FR 8543</td>\n",
       "      <td>SXF-STN</td>\n",
       "      <td>FR 8543</td>\n",
       "      <td>35.69</td>\n",
       "      <td>€</td>\n",
       "    </tr>\n",
       "    <tr>\n",
       "      <th>5120</th>\n",
       "      <td>2019-08-01T11:00:00Z</td>\n",
       "      <td>2019-09-10</td>\n",
       "      <td>10</td>\n",
       "      <td>2019-09-10 FR 8543</td>\n",
       "      <td>SXF-STN</td>\n",
       "      <td>FR 8543</td>\n",
       "      <td>35.69</td>\n",
       "      <td>€</td>\n",
       "    </tr>\n",
       "    <tr>\n",
       "      <th>5121</th>\n",
       "      <td>2019-08-01T23:00:00Z</td>\n",
       "      <td>2019-09-10</td>\n",
       "      <td>10</td>\n",
       "      <td>2019-09-10 FR 8543</td>\n",
       "      <td>SXF-STN</td>\n",
       "      <td>FR 8543</td>\n",
       "      <td>46.83</td>\n",
       "      <td>€</td>\n",
       "    </tr>\n",
       "    <tr>\n",
       "      <th>5122</th>\n",
       "      <td>2019-08-02T11:00:00Z</td>\n",
       "      <td>2019-09-10</td>\n",
       "      <td>10</td>\n",
       "      <td>2019-09-10 FR 8543</td>\n",
       "      <td>SXF-STN</td>\n",
       "      <td>FR 8543</td>\n",
       "      <td>46.83</td>\n",
       "      <td>€</td>\n",
       "    </tr>\n",
       "    <tr>\n",
       "      <th>5123</th>\n",
       "      <td>2019-08-02T23:00:00Z</td>\n",
       "      <td>2019-09-10</td>\n",
       "      <td>10</td>\n",
       "      <td>2019-09-10 FR 8543</td>\n",
       "      <td>SXF-STN</td>\n",
       "      <td>FR 8543</td>\n",
       "      <td>39.69</td>\n",
       "      <td>€</td>\n",
       "    </tr>\n",
       "  </tbody>\n",
       "</table>\n",
       "<p>5124 rows × 8 columns</p>\n",
       "</div>"
      ],
      "text/plain": [
       "              Request_Date Flight_Date  Departure_hour    flight_unique_id  \\\n",
       "0     2019-07-28T11:00:00Z  2019-07-29              18   2019-07-29 FR 146   \n",
       "1     2019-07-28T11:00:00Z  2019-07-29              22  2019-07-29 FR 8545   \n",
       "2     2019-07-28T11:00:00Z  2019-07-30               6   2019-07-30 FR 144   \n",
       "3     2019-07-28T23:00:00Z  2019-07-30               6   2019-07-30 FR 144   \n",
       "4     2019-07-28T11:00:00Z  2019-07-30              10  2019-07-30 FR 8543   \n",
       "...                    ...         ...             ...                 ...   \n",
       "5119  2019-07-31T23:00:00Z  2019-09-10              10  2019-09-10 FR 8543   \n",
       "5120  2019-08-01T11:00:00Z  2019-09-10              10  2019-09-10 FR 8543   \n",
       "5121  2019-08-01T23:00:00Z  2019-09-10              10  2019-09-10 FR 8543   \n",
       "5122  2019-08-02T11:00:00Z  2019-09-10              10  2019-09-10 FR 8543   \n",
       "5123  2019-08-02T23:00:00Z  2019-09-10              10  2019-09-10 FR 8543   \n",
       "\n",
       "     route_abb flight_number   Price Currency  \n",
       "0      SXF-STN        FR 146   73.43        €  \n",
       "1      SXF-STN       FR 8545  180.53        €  \n",
       "2      SXF-STN        FR 144   61.19        €  \n",
       "3      SXF-STN        FR 144   73.43        €  \n",
       "4      SXF-STN       FR 8543  180.53        €  \n",
       "...        ...           ...     ...      ...  \n",
       "5119   SXF-STN       FR 8543   35.69        €  \n",
       "5120   SXF-STN       FR 8543   35.69        €  \n",
       "5121   SXF-STN       FR 8543   46.83        €  \n",
       "5122   SXF-STN       FR 8543   46.83        €  \n",
       "5123   SXF-STN       FR 8543   39.69        €  \n",
       "\n",
       "[5124 rows x 8 columns]"
      ]
     },
     "execution_count": 23,
     "metadata": {},
     "output_type": "execute_result"
    }
   ],
   "source": [
    "data = pd.read_csv(\"./data/test.csv\")\n",
    "data"
   ]
  },
  {
   "cell_type": "code",
   "execution_count": 24,
   "metadata": {},
   "outputs": [
    {
     "data": {
      "text/plain": [
       "Request_Date         object\n",
       "Flight_Date          object\n",
       "Departure_hour        int64\n",
       "flight_unique_id     object\n",
       "route_abb            object\n",
       "flight_number        object\n",
       "Price               float64\n",
       "Currency             object\n",
       "dtype: object"
      ]
     },
     "execution_count": 24,
     "metadata": {},
     "output_type": "execute_result"
    }
   ],
   "source": [
    "##date is an object and has string format \n",
    "data.dtypes"
   ]
  },
  {
   "cell_type": "code",
   "execution_count": 25,
   "metadata": {},
   "outputs": [
    {
     "data": {
      "text/plain": [
       "0    11\n",
       "1    11\n",
       "2    11\n",
       "3    23\n",
       "4    11\n",
       "Name: Request_Date, dtype: int32"
      ]
     },
     "execution_count": 25,
     "metadata": {},
     "output_type": "execute_result"
    }
   ],
   "source": [
    "##compute hour of requested flight date \n",
    "## convert returned data from str to int\n",
    "data.Request_Date.str.slice(-9, -7).astype(int).head()"
   ]
  },
  {
   "cell_type": "code",
   "execution_count": 28,
   "metadata": {},
   "outputs": [],
   "source": [
    "data['Flight_Date'] = pd.to_datetime(data['Flight_Date'])"
   ]
  },
  {
   "cell_type": "code",
   "execution_count": 29,
   "metadata": {},
   "outputs": [
    {
     "data": {
      "text/plain": [
       "Request_Date                object\n",
       "Flight_Date         datetime64[ns]\n",
       "Departure_hour               int64\n",
       "flight_unique_id            object\n",
       "route_abb                   object\n",
       "flight_number               object\n",
       "Price                      float64\n",
       "Currency                    object\n",
       "dtype: object"
      ]
     },
     "execution_count": 29,
     "metadata": {},
     "output_type": "execute_result"
    }
   ],
   "source": [
    "data.dtypes"
   ]
  },
  {
   "cell_type": "code",
   "execution_count": 50,
   "metadata": {},
   "outputs": [
    {
     "ename": "AttributeError",
     "evalue": "'Series' object has no attribute 'data'",
     "output_type": "error",
     "traceback": [
      "\u001b[1;31m---------------------------------------------------------------------------\u001b[0m",
      "\u001b[1;31mAttributeError\u001b[0m                            Traceback (most recent call last)",
      "\u001b[1;32m<ipython-input-50-74e65d8a4da0>\u001b[0m in \u001b[0;36m<module>\u001b[1;34m\u001b[0m\n\u001b[0;32m      1\u001b[0m \u001b[1;31m#data['Flight_Date'] = pd.to_datetime(data.Flight_Date)\u001b[0m\u001b[1;33m\u001b[0m\u001b[1;33m\u001b[0m\u001b[1;33m\u001b[0m\u001b[0m\n\u001b[1;32m----> 2\u001b[1;33m \u001b[0mdata\u001b[0m\u001b[1;33m[\u001b[0m\u001b[1;34m'Flight_Date'\u001b[0m\u001b[1;33m]\u001b[0m \u001b[1;33m=\u001b[0m \u001b[0mpd\u001b[0m\u001b[1;33m.\u001b[0m\u001b[0mto_datetime\u001b[0m\u001b[1;33m(\u001b[0m\u001b[0mdata\u001b[0m\u001b[1;33m[\u001b[0m\u001b[1;34m'Flight_Date'\u001b[0m\u001b[1;33m]\u001b[0m\u001b[1;33m.\u001b[0m\u001b[0mdata\u001b[0m\u001b[1;33m.\u001b[0m\u001b[0mstrftime\u001b[0m\u001b[1;33m(\u001b[0m\u001b[1;34m'%m/%d/%Y'\u001b[0m\u001b[1;33m)\u001b[0m\u001b[1;33m)\u001b[0m\u001b[1;33m\u001b[0m\u001b[1;33m\u001b[0m\u001b[0m\n\u001b[0m\u001b[0;32m      3\u001b[0m \u001b[0mdata\u001b[0m\u001b[1;33m.\u001b[0m\u001b[0mhead\u001b[0m\u001b[1;33m(\u001b[0m\u001b[1;33m)\u001b[0m\u001b[1;33m\u001b[0m\u001b[1;33m\u001b[0m\u001b[0m\n",
      "\u001b[1;32m~\\.conda\\envs\\Jupyter_Projects\\lib\\site-packages\\pandas\\core\\generic.py\u001b[0m in \u001b[0;36m__getattr__\u001b[1;34m(self, name)\u001b[0m\n\u001b[0;32m   5272\u001b[0m             \u001b[1;32mif\u001b[0m \u001b[0mself\u001b[0m\u001b[1;33m.\u001b[0m\u001b[0m_info_axis\u001b[0m\u001b[1;33m.\u001b[0m\u001b[0m_can_hold_identifiers_and_holds_name\u001b[0m\u001b[1;33m(\u001b[0m\u001b[0mname\u001b[0m\u001b[1;33m)\u001b[0m\u001b[1;33m:\u001b[0m\u001b[1;33m\u001b[0m\u001b[1;33m\u001b[0m\u001b[0m\n\u001b[0;32m   5273\u001b[0m                 \u001b[1;32mreturn\u001b[0m \u001b[0mself\u001b[0m\u001b[1;33m[\u001b[0m\u001b[0mname\u001b[0m\u001b[1;33m]\u001b[0m\u001b[1;33m\u001b[0m\u001b[1;33m\u001b[0m\u001b[0m\n\u001b[1;32m-> 5274\u001b[1;33m             \u001b[1;32mreturn\u001b[0m \u001b[0mobject\u001b[0m\u001b[1;33m.\u001b[0m\u001b[0m__getattribute__\u001b[0m\u001b[1;33m(\u001b[0m\u001b[0mself\u001b[0m\u001b[1;33m,\u001b[0m \u001b[0mname\u001b[0m\u001b[1;33m)\u001b[0m\u001b[1;33m\u001b[0m\u001b[1;33m\u001b[0m\u001b[0m\n\u001b[0m\u001b[0;32m   5275\u001b[0m \u001b[1;33m\u001b[0m\u001b[0m\n\u001b[0;32m   5276\u001b[0m     \u001b[1;32mdef\u001b[0m \u001b[0m__setattr__\u001b[0m\u001b[1;33m(\u001b[0m\u001b[0mself\u001b[0m\u001b[1;33m,\u001b[0m \u001b[0mname\u001b[0m\u001b[1;33m:\u001b[0m \u001b[0mstr\u001b[0m\u001b[1;33m,\u001b[0m \u001b[0mvalue\u001b[0m\u001b[1;33m)\u001b[0m \u001b[1;33m->\u001b[0m \u001b[1;32mNone\u001b[0m\u001b[1;33m:\u001b[0m\u001b[1;33m\u001b[0m\u001b[1;33m\u001b[0m\u001b[0m\n",
      "\u001b[1;31mAttributeError\u001b[0m: 'Series' object has no attribute 'data'"
     ]
    }
   ],
   "source": [
    "#data['Flight_Date'] = pd.to_datetime(data.Flight_Date)\n",
    "data['Flight_Date'] = pd.to_datetime(data['Flight_Date'].data.strftime('%m/%d/%Y'))\n",
    "data.head()"
   ]
  },
  {
   "cell_type": "code",
   "execution_count": null,
   "metadata": {},
   "outputs": [],
   "source": []
  }
 ],
 "metadata": {
  "kernelspec": {
   "display_name": "Python 3",
   "language": "python",
   "name": "python3"
  },
  "language_info": {
   "codemirror_mode": {
    "name": "ipython",
    "version": 3
   },
   "file_extension": ".py",
   "mimetype": "text/x-python",
   "name": "python",
   "nbconvert_exporter": "python",
   "pygments_lexer": "ipython3",
   "version": "3.7.7"
  }
 },
 "nbformat": 4,
 "nbformat_minor": 4
}
