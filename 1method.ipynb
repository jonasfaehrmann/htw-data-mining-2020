{
 "cells": [
  {
   "cell_type": "markdown",
   "metadata": {},
   "source": [
    "# k-Nearest-Neighbour classifiers\n",
    "Here we use the k-nearest-neighbor method on the converted data from the descriptive_analysis.ipynb.\n",
    "As reference we use dataMining_R_8_ml.Rmd (./uebung/knn_uebung/) from the lecture."
   ]
  },
  {
   "cell_type": "code",
   "execution_count": 120,
   "metadata": {},
   "outputs": [],
   "source": [
    "import pandas as pd\n",
    "import matplotlib.pyplot as plt\n",
    "import numpy as np\n",
    "from sklearn import preprocessing\n",
    "from sklearn import neighbors\n",
    "from sklearn.model_selection import train_test_split\n",
    "from sklearn.model_selection import KFold\n",
    "from sklearn import utils\n",
    "from sklearn.feature_extraction.text import TfidfVectorizer\n",
    "from sklearn.model_selection import KFold\n",
    "from sklearn.model_selection import cross_val_score\n",
    "from sklearn.pipeline import make_pipeline, Pipeline\n",
    "from sklearn.preprocessing import RobustScaler\n",
    "from sklearn.ensemble import GradientBoostingRegressor\n",
    "from sklearn.model_selection import GridSearchCV\n",
    "from lightgbm import LGBMRegressor\n",
    "from xgboost import XGBRegressor  \n",
    "from sklearn.svm import SVR\n",
    "from sklearn.metrics import mean_squared_error\n",
    "from mlxtend.regressor import StackingCVRegressor\n",
    "from sklearn.kernel_ridge import KernelRidge\n",
    "from sklearn.ensemble import RandomForestRegressor\n",
    "from scipy.special import boxcox1p\n",
    "from scipy.stats import boxcox_normmax"
   ]
  },
  {
   "cell_type": "code",
   "execution_count": 121,
   "metadata": {},
   "outputs": [],
   "source": [
    "test = pd.read_csv('./data/converted_test_2020_07_09_00-15-27.csv', index_col=0, parse_dates=['Flight_Date','Request_Date'])\n",
    "train = pd.read_csv('./data/converted_train_2020_07_09_00-15-27.csv', index_col=0, parse_dates=['Flight_Date','Request_Date'])"
   ]
  },
  {
   "cell_type": "code",
   "execution_count": 122,
   "metadata": {},
   "outputs": [
    {
     "name": "stdout",
     "output_type": "stream",
     "text": [
      "False\n",
      "False\n"
     ]
    }
   ],
   "source": [
    "# Check for nulls\n",
    "print(train.isnull().values.any())\n",
    "print(test.isnull().values.any())"
   ]
  },
  {
   "cell_type": "code",
   "execution_count": 123,
   "metadata": {},
   "outputs": [],
   "source": [
    "# storing number of rows as an a variable for later use\n",
    "len_train=train.shape[0]"
   ]
  },
  {
   "cell_type": "code",
   "execution_count": 124,
   "metadata": {},
   "outputs": [
    {
     "data": {
      "text/plain": [
       "(89207, 17)"
      ]
     },
     "execution_count": 124,
     "metadata": {},
     "output_type": "execute_result"
    }
   ],
   "source": [
    "#coalescing the two columns for data treatment\n",
    "train=train.append(test, sort=False)\n",
    "train=train.reset_index()\n",
    "train=train.drop('index',axis=1)\n",
    "train.shape"
   ]
  },
  {
   "cell_type": "code",
   "execution_count": 125,
   "metadata": {},
   "outputs": [
    {
     "data": {
      "text/html": [
       "<div>\n",
       "<style scoped>\n",
       "    .dataframe tbody tr th:only-of-type {\n",
       "        vertical-align: middle;\n",
       "    }\n",
       "\n",
       "    .dataframe tbody tr th {\n",
       "        vertical-align: top;\n",
       "    }\n",
       "\n",
       "    .dataframe thead th {\n",
       "        text-align: right;\n",
       "    }\n",
       "</style>\n",
       "<table border=\"1\" class=\"dataframe\">\n",
       "  <thead>\n",
       "    <tr style=\"text-align: right;\">\n",
       "      <th></th>\n",
       "      <th>Request_Date</th>\n",
       "      <th>Flight_Date</th>\n",
       "      <th>Duration_Time</th>\n",
       "      <th>Departure_hour</th>\n",
       "      <th>flight_unique_id</th>\n",
       "      <th>route_abb</th>\n",
       "      <th>flight_number</th>\n",
       "      <th>Price</th>\n",
       "      <th>Currency</th>\n",
       "      <th>min_future_price</th>\n",
       "      <th>price_in_eur</th>\n",
       "      <th>min_future_price_in_eur</th>\n",
       "      <th>Request_Weekday</th>\n",
       "      <th>Request_timeofday</th>\n",
       "      <th>Departure_timeofday</th>\n",
       "      <th>flight_distance_km</th>\n",
       "      <th>Request_hour</th>\n",
       "    </tr>\n",
       "  </thead>\n",
       "  <tbody>\n",
       "    <tr>\n",
       "      <th>0</th>\n",
       "      <td>2019-06-03</td>\n",
       "      <td>2019-06-05</td>\n",
       "      <td>4.043051</td>\n",
       "      <td>19:00</td>\n",
       "      <td>2019-06-05 FR 146</td>\n",
       "      <td>SXF-STN</td>\n",
       "      <td>FR 146</td>\n",
       "      <td>208.07</td>\n",
       "      <td>€</td>\n",
       "      <td>259.07</td>\n",
       "      <td>5.342669</td>\n",
       "      <td>5.560951</td>\n",
       "      <td>Monday</td>\n",
       "      <td>Morning</td>\n",
       "      <td>Evening</td>\n",
       "      <td>907.2</td>\n",
       "      <td>11:00</td>\n",
       "    </tr>\n",
       "    <tr>\n",
       "      <th>1</th>\n",
       "      <td>2019-06-03</td>\n",
       "      <td>2019-06-05</td>\n",
       "      <td>3.806662</td>\n",
       "      <td>19:00</td>\n",
       "      <td>2019-06-05 FR 146</td>\n",
       "      <td>SXF-STN</td>\n",
       "      <td>FR 146</td>\n",
       "      <td>259.07</td>\n",
       "      <td>€</td>\n",
       "      <td>259.07</td>\n",
       "      <td>5.560951</td>\n",
       "      <td>5.560951</td>\n",
       "      <td>Monday</td>\n",
       "      <td>Night</td>\n",
       "      <td>Evening</td>\n",
       "      <td>907.2</td>\n",
       "      <td>23:00</td>\n",
       "    </tr>\n",
       "    <tr>\n",
       "      <th>2</th>\n",
       "      <td>2019-06-04</td>\n",
       "      <td>2019-06-05</td>\n",
       "      <td>3.496508</td>\n",
       "      <td>19:00</td>\n",
       "      <td>2019-06-05 FR 146</td>\n",
       "      <td>SXF-STN</td>\n",
       "      <td>FR 146</td>\n",
       "      <td>259.07</td>\n",
       "      <td>€</td>\n",
       "      <td>259.07</td>\n",
       "      <td>5.560951</td>\n",
       "      <td>5.560951</td>\n",
       "      <td>Tuesday</td>\n",
       "      <td>Morning</td>\n",
       "      <td>Evening</td>\n",
       "      <td>907.2</td>\n",
       "      <td>11:00</td>\n",
       "    </tr>\n",
       "    <tr>\n",
       "      <th>3</th>\n",
       "      <td>2019-06-04</td>\n",
       "      <td>2019-06-05</td>\n",
       "      <td>3.044522</td>\n",
       "      <td>19:00</td>\n",
       "      <td>2019-06-05 FR 146</td>\n",
       "      <td>SXF-STN</td>\n",
       "      <td>FR 146</td>\n",
       "      <td>259.07</td>\n",
       "      <td>€</td>\n",
       "      <td>259.07</td>\n",
       "      <td>5.560951</td>\n",
       "      <td>5.560951</td>\n",
       "      <td>Tuesday</td>\n",
       "      <td>Night</td>\n",
       "      <td>Evening</td>\n",
       "      <td>907.2</td>\n",
       "      <td>23:00</td>\n",
       "    </tr>\n",
       "    <tr>\n",
       "      <th>4</th>\n",
       "      <td>2019-06-03</td>\n",
       "      <td>2019-06-05</td>\n",
       "      <td>4.077537</td>\n",
       "      <td>21:00</td>\n",
       "      <td>2019-06-05 FR 147</td>\n",
       "      <td>STN-SXF</td>\n",
       "      <td>FR 147</td>\n",
       "      <td>127.49</td>\n",
       "      <td>£</td>\n",
       "      <td>223.37</td>\n",
       "      <td>4.736015</td>\n",
       "      <td>5.293034</td>\n",
       "      <td>Monday</td>\n",
       "      <td>Morning</td>\n",
       "      <td>Night</td>\n",
       "      <td>907.2</td>\n",
       "      <td>11:00</td>\n",
       "    </tr>\n",
       "    <tr>\n",
       "      <th>...</th>\n",
       "      <td>...</td>\n",
       "      <td>...</td>\n",
       "      <td>...</td>\n",
       "      <td>...</td>\n",
       "      <td>...</td>\n",
       "      <td>...</td>\n",
       "      <td>...</td>\n",
       "      <td>...</td>\n",
       "      <td>...</td>\n",
       "      <td>...</td>\n",
       "      <td>...</td>\n",
       "      <td>...</td>\n",
       "      <td>...</td>\n",
       "      <td>...</td>\n",
       "      <td>...</td>\n",
       "      <td>...</td>\n",
       "      <td>...</td>\n",
       "    </tr>\n",
       "    <tr>\n",
       "      <th>89202</th>\n",
       "      <td>2019-07-30</td>\n",
       "      <td>2019-08-02</td>\n",
       "      <td>4.276666</td>\n",
       "      <td>22:00</td>\n",
       "      <td>2019-08-02 FR 8545</td>\n",
       "      <td>SXF-STN</td>\n",
       "      <td>FR 8545</td>\n",
       "      <td>42.83</td>\n",
       "      <td>€</td>\n",
       "      <td>NaN</td>\n",
       "      <td>3.780319</td>\n",
       "      <td>NaN</td>\n",
       "      <td>Tuesday</td>\n",
       "      <td>Night</td>\n",
       "      <td>Night</td>\n",
       "      <td>907.2</td>\n",
       "      <td>23:00</td>\n",
       "    </tr>\n",
       "    <tr>\n",
       "      <th>89203</th>\n",
       "      <td>2019-07-31</td>\n",
       "      <td>2019-08-02</td>\n",
       "      <td>4.094345</td>\n",
       "      <td>22:00</td>\n",
       "      <td>2019-08-02 FR 8545</td>\n",
       "      <td>SXF-STN</td>\n",
       "      <td>FR 8545</td>\n",
       "      <td>50.99</td>\n",
       "      <td>€</td>\n",
       "      <td>NaN</td>\n",
       "      <td>3.951051</td>\n",
       "      <td>NaN</td>\n",
       "      <td>Wednesday</td>\n",
       "      <td>Morning</td>\n",
       "      <td>Night</td>\n",
       "      <td>907.2</td>\n",
       "      <td>11:00</td>\n",
       "    </tr>\n",
       "    <tr>\n",
       "      <th>89204</th>\n",
       "      <td>2019-07-31</td>\n",
       "      <td>2019-08-02</td>\n",
       "      <td>3.871201</td>\n",
       "      <td>22:00</td>\n",
       "      <td>2019-08-02 FR 8545</td>\n",
       "      <td>SXF-STN</td>\n",
       "      <td>FR 8545</td>\n",
       "      <td>50.99</td>\n",
       "      <td>€</td>\n",
       "      <td>NaN</td>\n",
       "      <td>3.951051</td>\n",
       "      <td>NaN</td>\n",
       "      <td>Wednesday</td>\n",
       "      <td>Night</td>\n",
       "      <td>Night</td>\n",
       "      <td>907.2</td>\n",
       "      <td>23:00</td>\n",
       "    </tr>\n",
       "    <tr>\n",
       "      <th>89205</th>\n",
       "      <td>2019-08-01</td>\n",
       "      <td>2019-08-02</td>\n",
       "      <td>3.583519</td>\n",
       "      <td>22:00</td>\n",
       "      <td>2019-08-02 FR 8545</td>\n",
       "      <td>SXF-STN</td>\n",
       "      <td>FR 8545</td>\n",
       "      <td>50.99</td>\n",
       "      <td>€</td>\n",
       "      <td>NaN</td>\n",
       "      <td>3.951051</td>\n",
       "      <td>NaN</td>\n",
       "      <td>Thursday</td>\n",
       "      <td>Morning</td>\n",
       "      <td>Night</td>\n",
       "      <td>907.2</td>\n",
       "      <td>11:00</td>\n",
       "    </tr>\n",
       "    <tr>\n",
       "      <th>89206</th>\n",
       "      <td>2019-08-01</td>\n",
       "      <td>2019-08-02</td>\n",
       "      <td>3.178054</td>\n",
       "      <td>22:00</td>\n",
       "      <td>2019-08-02 FR 8545</td>\n",
       "      <td>SXF-STN</td>\n",
       "      <td>FR 8545</td>\n",
       "      <td>50.99</td>\n",
       "      <td>€</td>\n",
       "      <td>NaN</td>\n",
       "      <td>3.951051</td>\n",
       "      <td>NaN</td>\n",
       "      <td>Thursday</td>\n",
       "      <td>Night</td>\n",
       "      <td>Night</td>\n",
       "      <td>907.2</td>\n",
       "      <td>23:00</td>\n",
       "    </tr>\n",
       "  </tbody>\n",
       "</table>\n",
       "<p>89207 rows × 17 columns</p>\n",
       "</div>"
      ],
      "text/plain": [
       "      Request_Date Flight_Date  Duration_Time Departure_hour  \\\n",
       "0       2019-06-03  2019-06-05       4.043051          19:00   \n",
       "1       2019-06-03  2019-06-05       3.806662          19:00   \n",
       "2       2019-06-04  2019-06-05       3.496508          19:00   \n",
       "3       2019-06-04  2019-06-05       3.044522          19:00   \n",
       "4       2019-06-03  2019-06-05       4.077537          21:00   \n",
       "...            ...         ...            ...            ...   \n",
       "89202   2019-07-30  2019-08-02       4.276666          22:00   \n",
       "89203   2019-07-31  2019-08-02       4.094345          22:00   \n",
       "89204   2019-07-31  2019-08-02       3.871201          22:00   \n",
       "89205   2019-08-01  2019-08-02       3.583519          22:00   \n",
       "89206   2019-08-01  2019-08-02       3.178054          22:00   \n",
       "\n",
       "         flight_unique_id route_abb flight_number   Price Currency  \\\n",
       "0       2019-06-05 FR 146   SXF-STN        FR 146  208.07        €   \n",
       "1       2019-06-05 FR 146   SXF-STN        FR 146  259.07        €   \n",
       "2       2019-06-05 FR 146   SXF-STN        FR 146  259.07        €   \n",
       "3       2019-06-05 FR 146   SXF-STN        FR 146  259.07        €   \n",
       "4       2019-06-05 FR 147   STN-SXF        FR 147  127.49        £   \n",
       "...                   ...       ...           ...     ...      ...   \n",
       "89202  2019-08-02 FR 8545   SXF-STN       FR 8545   42.83        €   \n",
       "89203  2019-08-02 FR 8545   SXF-STN       FR 8545   50.99        €   \n",
       "89204  2019-08-02 FR 8545   SXF-STN       FR 8545   50.99        €   \n",
       "89205  2019-08-02 FR 8545   SXF-STN       FR 8545   50.99        €   \n",
       "89206  2019-08-02 FR 8545   SXF-STN       FR 8545   50.99        €   \n",
       "\n",
       "       min_future_price  price_in_eur  min_future_price_in_eur  \\\n",
       "0                259.07      5.342669                 5.560951   \n",
       "1                259.07      5.560951                 5.560951   \n",
       "2                259.07      5.560951                 5.560951   \n",
       "3                259.07      5.560951                 5.560951   \n",
       "4                223.37      4.736015                 5.293034   \n",
       "...                 ...           ...                      ...   \n",
       "89202               NaN      3.780319                      NaN   \n",
       "89203               NaN      3.951051                      NaN   \n",
       "89204               NaN      3.951051                      NaN   \n",
       "89205               NaN      3.951051                      NaN   \n",
       "89206               NaN      3.951051                      NaN   \n",
       "\n",
       "      Request_Weekday Request_timeofday Departure_timeofday  \\\n",
       "0              Monday           Morning             Evening   \n",
       "1              Monday             Night             Evening   \n",
       "2             Tuesday           Morning             Evening   \n",
       "3             Tuesday             Night             Evening   \n",
       "4              Monday           Morning               Night   \n",
       "...               ...               ...                 ...   \n",
       "89202         Tuesday             Night               Night   \n",
       "89203       Wednesday           Morning               Night   \n",
       "89204       Wednesday             Night               Night   \n",
       "89205        Thursday           Morning               Night   \n",
       "89206        Thursday             Night               Night   \n",
       "\n",
       "       flight_distance_km Request_hour  \n",
       "0                   907.2        11:00  \n",
       "1                   907.2        23:00  \n",
       "2                   907.2        11:00  \n",
       "3                   907.2        23:00  \n",
       "4                   907.2        11:00  \n",
       "...                   ...          ...  \n",
       "89202               907.2        23:00  \n",
       "89203               907.2        11:00  \n",
       "89204               907.2        23:00  \n",
       "89205               907.2        11:00  \n",
       "89206               907.2        23:00  \n",
       "\n",
       "[89207 rows x 17 columns]"
      ]
     },
     "execution_count": 125,
     "metadata": {},
     "output_type": "execute_result"
    }
   ],
   "source": [
    "# Scale numeric columns\n",
    "# scaler = preprocessing.MinMaxScaler()\n",
    "\n",
    "# Compute logarithmic values\n",
    "trainFeatures = [['min_future_price_in_eur', 'Duration_Time', 'price_in_eur']]\n",
    "for feature in trainFeatures:\n",
    "    train[feature] = np.log1p(train[feature])\n",
    "train"
   ]
  },
  {
   "cell_type": "code",
   "execution_count": 126,
   "metadata": {},
   "outputs": [],
   "source": [
    "# Hot encoding for categorical values\n",
    "train = pd.get_dummies(train, columns=['Request_Date', 'Flight_Date', 'flight_number', 'Request_Weekday', 'Request_timeofday', 'Departure_timeofday', 'Departure_hour', 'Request_hour'], drop_first=True)"
   ]
  },
  {
   "cell_type": "code",
   "execution_count": 127,
   "metadata": {},
   "outputs": [],
   "source": [
    "# Drop columns we do not need from train\n",
    "train_dropped = train.drop(columns=['route_abb', 'Currency', 'flight_unique_id', 'Price', 'flight_distance_km'])"
   ]
  },
  {
   "cell_type": "code",
   "execution_count": 128,
   "metadata": {},
   "outputs": [],
   "source": [
    "# Splitting test and train data\n",
    "train_df=train_dropped[:len_train]\n",
    "test_df=train_dropped[len_train:]"
   ]
  },
  {
   "cell_type": "code",
   "execution_count": 129,
   "metadata": {},
   "outputs": [],
   "source": [
    "# Generate test and target / Figure out which features to drop. 'min_future_price_in_eur' needs to be dropped!\n",
    "x = train_df.drop(columns=['min_future_price_in_eur'])\n",
    "y = train_df['min_future_price_in_eur'].values"
   ]
  },
  {
   "cell_type": "markdown",
   "metadata": {},
   "source": [
    "# Build model"
   ]
  },
  {
   "cell_type": "code",
   "execution_count": 130,
   "metadata": {},
   "outputs": [],
   "source": [
    "# Writing a function to evaluate model performance using KFOLD and cross validation\n",
    "def rmsle_cv(model):\n",
    "    kfold=KFold(n_splits=2, shuffle=True, random_state=10).get_n_splits(x)\n",
    "    rmse=np.sqrt(-cross_val_score(model,x,y,cv=kfold, scoring='neg_mean_squared_error'))\n",
    "    return rmse"
   ]
  },
  {
   "cell_type": "code",
   "execution_count": 131,
   "metadata": {},
   "outputs": [],
   "source": [
    "lightgbm=LGBMRegressor(objective= 'regression',\n",
    "         boosting= 'gbdt',\n",
    "         num_iterations= 3000,   \n",
    "         learning_rate= 0.06,  \n",
    "         num_leaves= 40,  \n",
    "         max_depth= 24,   \n",
    "         min_data_in_leaf=11,  \n",
    "         max_bin= 4, \n",
    "         metric= 'l2_root')"
   ]
  },
  {
   "cell_type": "code",
   "execution_count": 132,
   "metadata": {},
   "outputs": [],
   "source": [
    "xgb=XGBRegressor(max_depth=9, \n",
    "                   learning_rate=0.5, \n",
    "                   n_estimators=112, \n",
    "                   objective='reg:squarederror', \n",
    "                   booster='gbtree', \n",
    "                   n_jobs=1, \n",
    "                   nthread=None, \n",
    "                   gamma=0, \n",
    "                   min_child_weight=1, \n",
    "                   max_delta_step=0, \n",
    "                   subsample=1, \n",
    "                   colsample_bytree=1, \n",
    "                   colsample_bylevel=1, \n",
    "                   reg_alpha=0.89, \n",
    "                   reg_lambda=1, \n",
    "                   scale_pos_weight=1, \n",
    "                   base_score=0.5, \n",
    "                   random_state=0, \n",
    "                   seed=None)"
   ]
  },
  {
   "cell_type": "code",
   "execution_count": 133,
   "metadata": {},
   "outputs": [],
   "source": [
    "grb=GradientBoostingRegressor(learning_rate=0.1,n_estimators=400, max_depth=12\n",
    "                              ,subsample=0.8,\n",
    "                              verbose=False,random_state=10)"
   ]
  },
  {
   "cell_type": "code",
   "execution_count": 134,
   "metadata": {},
   "outputs": [],
   "source": [
    "svr = Pipeline([('Scaler',RobustScaler()), ('SVR',SVR(C= 10000, epsilon= 0.008, gamma=0.009))])"
   ]
  },
  {
   "cell_type": "code",
   "execution_count": 135,
   "metadata": {},
   "outputs": [],
   "source": [
    "krr=KernelRidge(alpha=1, kernel='polynomial', gamma=0.001,degree=3,coef0=5)"
   ]
  },
  {
   "cell_type": "code",
   "execution_count": 136,
   "metadata": {},
   "outputs": [],
   "source": [
    "rf=RandomForestRegressor(n_estimators=3000, oob_score = False, n_jobs = -1,random_state =50, max_features = \"auto\", min_samples_leaf = 2,warm_start=True,criterion='mse',max_depth=50)"
   ]
  },
  {
   "cell_type": "code",
   "execution_count": 137,
   "metadata": {},
   "outputs": [],
   "source": [
    "# Final ensemble that uses outputs from each model regressor and the original data in the meta regressor XGB\n",
    "avg=StackingCVRegressor(regressors=(lightgbm,\n",
    "                                    grb\n",
    "                                    #svr,\n",
    "                                    #krr,\n",
    "                                    #rf\n",
    "                                   ),meta_regressor=xgb, use_features_in_secondary=True)"
   ]
  },
  {
   "cell_type": "code",
   "execution_count": 138,
   "metadata": {},
   "outputs": [],
   "source": [
    "# Function to calculate RMSE error of the complete model for reference, similiar to rmsle_cv without KFOLD CV\n",
    "def rmsle(y, y_pred):\n",
    "    return np.sqrt(mean_squared_error(y, y_pred))"
   ]
  },
  {
   "cell_type": "code",
   "execution_count": 139,
   "metadata": {},
   "outputs": [
    {
     "name": "stderr",
     "output_type": "stream",
     "text": [
      "/usr/local/lib/python3.7/site-packages/lightgbm/engine.py:148: UserWarning: Found `num_iterations` in params. Will use it instead of argument\n",
      "  warnings.warn(\"Found `{}` in params. Will use it instead of argument\".format(alias))\n"
     ]
    }
   ],
   "source": [
    "X=np.array(x)\n",
    "Y=np.array(y)\n",
    "# Fitting the model on the train data and predicting the min future price values\n",
    "lightgbm.fit(X,Y)\n",
    "y_pred=lightgbm.predict(X)"
   ]
  },
  {
   "cell_type": "code",
   "execution_count": 140,
   "metadata": {},
   "outputs": [
    {
     "data": {
      "text/plain": [
       "[<matplotlib.lines.Line2D at 0x129124cd0>]"
      ]
     },
     "execution_count": 140,
     "metadata": {},
     "output_type": "execute_result"
    },
    {
     "data": {
      "image/png": "[encoded data removed]",
      "text/plain": [
       "<Figure size 432x288 with 1 Axes>"
      ]
     },
     "metadata": {
      "needs_background": "light"
     },
     "output_type": "display_data"
    }
   ],
   "source": [
    "# Plot of the model prediction with the original price values in the training data set to undestand model fit\n",
    "plt.scatter(list(y_pred),y)\n",
    "plt.plot(range(7,13),range(7,13),'r')"
   ]
  },
  {
   "cell_type": "code",
   "execution_count": 141,
   "metadata": {},
   "outputs": [
    {
     "data": {
      "text/plain": [
       "0.10697572900396474"
      ]
     },
     "execution_count": 141,
     "metadata": {},
     "output_type": "execute_result"
    }
   ],
   "source": [
    "# RMSE value of the model on training data\n",
    "rmsle(y,y_pred)"
   ]
  },
  {
   "cell_type": "code",
   "execution_count": 142,
   "metadata": {},
   "outputs": [],
   "source": [
    "# Predictions of test data\n",
    "Predict=lightgbm.predict(np.array(test_df.drop('min_future_price_in_eur',axis=1)))\n",
    "# Converting min future price back to original scale and making it integer\n",
    "Predict=np.exp(Predict)\n",
    "Predict=Predict.astype(float)\n",
    "# Converting predicted values to dataframe\n",
    "Submission=pd.DataFrame(Predict,columns=['min_future_price_in_eur'])\n",
    "# Final Submission\n",
    "Submission.to_excel('Submission_rf.xlsx')"
   ]
  },
  {
   "cell_type": "code",
   "execution_count": null,
   "metadata": {},
   "outputs": [],
   "source": []
  }
 ],
 "metadata": {
  "kernelspec": {
   "display_name": "Python 3",
   "language": "python",
   "name": "python3"
  },
  "language_info": {
   "codemirror_mode": {
    "name": "ipython",
    "version": 3
   },
   "file_extension": ".py",
   "mimetype": "text/x-python",
   "name": "python",
   "nbconvert_exporter": "python",
   "pygments_lexer": "ipython3",
   "version": "3.7.7"
  }
 },
 "nbformat": 4,
 "nbformat_minor": 4
}
