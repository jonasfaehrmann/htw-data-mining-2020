{
 "cells": [
  {
   "cell_type": "markdown",
   "metadata": {},
   "source": [
    "# Multiple Linear Regression\n",
    "Here we use the Linear Regression method on the converted data from the descriptive_analysis.ipynb.\n",
    "\n",
    "https://www.ritchieng.com/machine-learning-evaluate-linear-regression-model/"
   ]
  },
  {
   "cell_type": "code",
   "execution_count": 67,
   "metadata": {},
   "outputs": [],
   "source": [
    "import pandas as pd\n",
    "import matplotlib.pyplot as plt\n",
    "import numpy as np\n",
    "from sklearn import preprocessing\n",
    "from sklearn import neighbors\n",
    "from sklearn.model_selection import train_test_split\n",
    "from sklearn.model_selection import KFold, cross_val_score, cross_val_predict\n",
    "from sklearn import utils\n",
    "from sklearn.feature_extraction.text import TfidfVectorizer\n",
    "from sklearn.model_selection import KFold\n",
    "from sklearn.model_selection import cross_val_score\n",
    "from sklearn.pipeline import make_pipeline, Pipeline\n",
    "from sklearn.feature_selection import SelectFromModel\n",
    "from sklearn import metrics\n",
    "from sklearn.linear_model import LassoCV\n",
    "from datetime import datetime, timedelta\n",
    "from scipy import stats\n",
    "np.random.seed(1)"
   ]
  },
  {
   "cell_type": "code",
   "execution_count": 68,
   "metadata": {},
   "outputs": [
    {
     "data": {
      "text/html": [
       "<div>\n",
       "<style scoped>\n",
       "    .dataframe tbody tr th:only-of-type {\n",
       "        vertical-align: middle;\n",
       "    }\n",
       "\n",
       "    .dataframe tbody tr th {\n",
       "        vertical-align: top;\n",
       "    }\n",
       "\n",
       "    .dataframe thead th {\n",
       "        text-align: right;\n",
       "    }\n",
       "</style>\n",
       "<table border=\"1\" class=\"dataframe\">\n",
       "  <thead>\n",
       "    <tr style=\"text-align: right;\">\n",
       "      <th></th>\n",
       "      <th>Request_Date</th>\n",
       "      <th>Flight_Date</th>\n",
       "      <th>Duration_Time</th>\n",
       "      <th>Departure_hour</th>\n",
       "      <th>flight_unique_id</th>\n",
       "      <th>route_abb</th>\n",
       "      <th>flight_number</th>\n",
       "      <th>Price</th>\n",
       "      <th>Currency</th>\n",
       "      <th>min_future_price</th>\n",
       "      <th>...</th>\n",
       "      <th>min_future_price_in_eur</th>\n",
       "      <th>Request_Weekday</th>\n",
       "      <th>Request_timeofday</th>\n",
       "      <th>Departure_timeofday</th>\n",
       "      <th>flight_distance_km</th>\n",
       "      <th>Request_hour</th>\n",
       "      <th>Request_Date_Month</th>\n",
       "      <th>Flight_Date_Month</th>\n",
       "      <th>route_abb_from</th>\n",
       "      <th>route_abb_to</th>\n",
       "    </tr>\n",
       "  </thead>\n",
       "  <tbody>\n",
       "    <tr>\n",
       "      <th>0</th>\n",
       "      <td>2019-06-03 11:00:00</td>\n",
       "      <td>2019-06-05 19:00:00</td>\n",
       "      <td>56.0</td>\n",
       "      <td>19</td>\n",
       "      <td>2019-06-05 FR 146</td>\n",
       "      <td>SXF-STN</td>\n",
       "      <td>FR 146</td>\n",
       "      <td>208.07</td>\n",
       "      <td>€</td>\n",
       "      <td>259.07</td>\n",
       "      <td>...</td>\n",
       "      <td>259.070000</td>\n",
       "      <td>Monday</td>\n",
       "      <td>Morning</td>\n",
       "      <td>Evening</td>\n",
       "      <td>907.2</td>\n",
       "      <td>11</td>\n",
       "      <td>6</td>\n",
       "      <td>6</td>\n",
       "      <td>SXF</td>\n",
       "      <td>STN</td>\n",
       "    </tr>\n",
       "    <tr>\n",
       "      <th>1</th>\n",
       "      <td>2019-06-03 23:00:00</td>\n",
       "      <td>2019-06-05 19:00:00</td>\n",
       "      <td>44.0</td>\n",
       "      <td>19</td>\n",
       "      <td>2019-06-05 FR 146</td>\n",
       "      <td>SXF-STN</td>\n",
       "      <td>FR 146</td>\n",
       "      <td>259.07</td>\n",
       "      <td>€</td>\n",
       "      <td>259.07</td>\n",
       "      <td>...</td>\n",
       "      <td>259.070000</td>\n",
       "      <td>Monday</td>\n",
       "      <td>Night</td>\n",
       "      <td>Evening</td>\n",
       "      <td>907.2</td>\n",
       "      <td>23</td>\n",
       "      <td>6</td>\n",
       "      <td>6</td>\n",
       "      <td>SXF</td>\n",
       "      <td>STN</td>\n",
       "    </tr>\n",
       "    <tr>\n",
       "      <th>2</th>\n",
       "      <td>2019-06-04 11:00:00</td>\n",
       "      <td>2019-06-05 19:00:00</td>\n",
       "      <td>32.0</td>\n",
       "      <td>19</td>\n",
       "      <td>2019-06-05 FR 146</td>\n",
       "      <td>SXF-STN</td>\n",
       "      <td>FR 146</td>\n",
       "      <td>259.07</td>\n",
       "      <td>€</td>\n",
       "      <td>259.07</td>\n",
       "      <td>...</td>\n",
       "      <td>259.070000</td>\n",
       "      <td>Tuesday</td>\n",
       "      <td>Morning</td>\n",
       "      <td>Evening</td>\n",
       "      <td>907.2</td>\n",
       "      <td>11</td>\n",
       "      <td>6</td>\n",
       "      <td>6</td>\n",
       "      <td>SXF</td>\n",
       "      <td>STN</td>\n",
       "    </tr>\n",
       "    <tr>\n",
       "      <th>3</th>\n",
       "      <td>2019-06-04 23:00:00</td>\n",
       "      <td>2019-06-05 19:00:00</td>\n",
       "      <td>20.0</td>\n",
       "      <td>19</td>\n",
       "      <td>2019-06-05 FR 146</td>\n",
       "      <td>SXF-STN</td>\n",
       "      <td>FR 146</td>\n",
       "      <td>259.07</td>\n",
       "      <td>€</td>\n",
       "      <td>259.07</td>\n",
       "      <td>...</td>\n",
       "      <td>259.070000</td>\n",
       "      <td>Tuesday</td>\n",
       "      <td>Night</td>\n",
       "      <td>Evening</td>\n",
       "      <td>907.2</td>\n",
       "      <td>23</td>\n",
       "      <td>6</td>\n",
       "      <td>6</td>\n",
       "      <td>SXF</td>\n",
       "      <td>STN</td>\n",
       "    </tr>\n",
       "    <tr>\n",
       "      <th>4</th>\n",
       "      <td>2019-06-03 11:00:00</td>\n",
       "      <td>2019-06-05 21:00:00</td>\n",
       "      <td>58.0</td>\n",
       "      <td>21</td>\n",
       "      <td>2019-06-05 FR 147</td>\n",
       "      <td>STN-SXF</td>\n",
       "      <td>FR 147</td>\n",
       "      <td>127.49</td>\n",
       "      <td>£</td>\n",
       "      <td>223.37</td>\n",
       "      <td>...</td>\n",
       "      <td>252.059401</td>\n",
       "      <td>Monday</td>\n",
       "      <td>Morning</td>\n",
       "      <td>Night</td>\n",
       "      <td>907.2</td>\n",
       "      <td>11</td>\n",
       "      <td>6</td>\n",
       "      <td>6</td>\n",
       "      <td>STN</td>\n",
       "      <td>SXF</td>\n",
       "    </tr>\n",
       "  </tbody>\n",
       "</table>\n",
       "<p>5 rows × 21 columns</p>\n",
       "</div>"
      ],
      "text/plain": [
       "          Request_Date          Flight_Date  Duration_Time  Departure_hour  \\\n",
       "0  2019-06-03 11:00:00  2019-06-05 19:00:00           56.0              19   \n",
       "1  2019-06-03 23:00:00  2019-06-05 19:00:00           44.0              19   \n",
       "2  2019-06-04 11:00:00  2019-06-05 19:00:00           32.0              19   \n",
       "3  2019-06-04 23:00:00  2019-06-05 19:00:00           20.0              19   \n",
       "4  2019-06-03 11:00:00  2019-06-05 21:00:00           58.0              21   \n",
       "\n",
       "    flight_unique_id route_abb flight_number   Price Currency  \\\n",
       "0  2019-06-05 FR 146   SXF-STN        FR 146  208.07        €   \n",
       "1  2019-06-05 FR 146   SXF-STN        FR 146  259.07        €   \n",
       "2  2019-06-05 FR 146   SXF-STN        FR 146  259.07        €   \n",
       "3  2019-06-05 FR 146   SXF-STN        FR 146  259.07        €   \n",
       "4  2019-06-05 FR 147   STN-SXF        FR 147  127.49        £   \n",
       "\n",
       "   min_future_price  ...  min_future_price_in_eur  Request_Weekday  \\\n",
       "0            259.07  ...               259.070000           Monday   \n",
       "1            259.07  ...               259.070000           Monday   \n",
       "2            259.07  ...               259.070000          Tuesday   \n",
       "3            259.07  ...               259.070000          Tuesday   \n",
       "4            223.37  ...               252.059401           Monday   \n",
       "\n",
       "  Request_timeofday Departure_timeofday flight_distance_km  Request_hour  \\\n",
       "0           Morning             Evening              907.2            11   \n",
       "1             Night             Evening              907.2            23   \n",
       "2           Morning             Evening              907.2            11   \n",
       "3             Night             Evening              907.2            23   \n",
       "4           Morning               Night              907.2            11   \n",
       "\n",
       "   Request_Date_Month  Flight_Date_Month  route_abb_from route_abb_to  \n",
       "0                   6                  6             SXF          STN  \n",
       "1                   6                  6             SXF          STN  \n",
       "2                   6                  6             SXF          STN  \n",
       "3                   6                  6             SXF          STN  \n",
       "4                   6                  6             STN          SXF  \n",
       "\n",
       "[5 rows x 21 columns]"
      ]
     },
     "execution_count": 68,
     "metadata": {},
     "output_type": "execute_result"
    }
   ],
   "source": [
    "# Read in data, set index to column 0, parse dates and display first 5 rows\n",
    "test = pd.read_csv('./data/converted_test_2020_07_17_12-15-40.csv', index_col=0)\n",
    "train = pd.read_csv('./data/converted_train_2020_07_17_12-15-40.csv', index_col=0)\n",
    "train.head(5)"
   ]
  },
  {
   "cell_type": "code",
   "execution_count": 69,
   "metadata": {
    "tags": []
   },
   "outputs": [
    {
     "name": "stdout",
     "output_type": "stream",
     "text": [
      "False\n",
      "False\n"
     ]
    }
   ],
   "source": [
    "# Check for nulls\n",
    "print(train.isnull().values.any())\n",
    "print(test.isnull().values.any())"
   ]
  },
  {
   "cell_type": "markdown",
   "metadata": {},
   "source": [
    "# Date preperation"
   ]
  },
  {
   "cell_type": "markdown",
   "metadata": {},
   "source": [
    "We will now do some minor modifications to put our data into machine-understandable terms. We will use the Python library Pandas for the data manipulation relying on the structure known as dataframe.\n",
    "\n",
    "The first step is the one-hot-encoding of the data. This process takes categorical variables, such as days of the week and converts it to a numerical representation without an arbitrary ordering."
   ]
  },
  {
   "cell_type": "code",
   "execution_count": 70,
   "metadata": {},
   "outputs": [],
   "source": [
    "# One Hot encoding for categorical values / Drop first category is a must for linear regression\n",
    "train = pd.get_dummies(train, columns=['Request_Weekday', 'Request_timeofday', 'Departure_timeofday', 'route_abb_from', 'route_abb_to'], drop_first=True)\n",
    "test = pd.get_dummies(test, columns=['Request_Weekday', 'Request_timeofday', 'Departure_timeofday', 'route_abb_from', 'route_abb_to'], drop_first=True)"
   ]
  },
  {
   "cell_type": "code",
   "execution_count": 71,
   "metadata": {},
   "outputs": [],
   "source": [
    "# Add train column\n",
    "test['train'] = 0\n",
    "train['train'] = 1\n",
    "\n",
    "# Equal columns across both tables\n",
    "combined = pd.concat([train,test], sort=False)\n",
    "train = combined[combined['train'] == 1]\n",
    "test = combined[combined['train'] == 0]\n",
    "\n",
    "# Fill NaN with 0\n",
    "train = train.fillna(0)\n",
    "test = test.fillna(0)\n",
    "\n",
    "# Drop train column\n",
    "test.drop(['train'], axis=1, inplace=True)\n",
    "train.drop(['train'], axis=1, inplace=True)"
   ]
  },
  {
   "cell_type": "code",
   "execution_count": 72,
   "metadata": {},
   "outputs": [],
   "source": [
    "# Scale train and test data\n",
    "scaler = preprocessing.StandardScaler()\n",
    "training_features_log = [['min_future_price_in_eur', 'Duration_Time', 'price_in_eur', 'flight_distance_km']]\n",
    "for feature in training_features_log:\n",
    "    train[feature] = scaler.fit_transform(train[feature])\n",
    "    \n",
    "\n",
    "testing_features_log = [['Duration_Time', 'price_in_eur', 'flight_distance_km']]\n",
    "for feature in testing_features_log:\n",
    "    test[feature] = scaler.fit_transform(test[feature])"
   ]
  },
  {
   "cell_type": "code",
   "execution_count": 73,
   "metadata": {},
   "outputs": [],
   "source": [
    "# Drop columns we do not need from train\n",
    "train_dropped = train.drop(columns=['route_abb', 'min_future_price', 'Currency', 'flight_unique_id', 'Price', 'Request_Date', 'Flight_Date', 'Request_Date_Month', 'Flight_Date_Month', 'Request_hour', 'flight_number'])\n",
    "\n",
    "# Drop columns we do not need from test\n",
    "test_dropped = test.drop(columns=['route_abb', 'min_future_price', 'Currency', 'flight_unique_id', 'Price', 'min_future_price', 'min_future_price_in_eur', 'Request_Date', 'Flight_Date', 'Request_Date_Month', 'Flight_Date_Month', 'Request_hour', 'flight_number'])"
   ]
  },
  {
   "cell_type": "markdown",
   "metadata": {},
   "source": [
    "In the next step we separate the data into the features and target. The target, also known as the label, is the value we want to predict, in this case the min_future_price and the features are all the columns the model uses to make a prediction."
   ]
  },
  {
   "cell_type": "code",
   "execution_count": 74,
   "metadata": {},
   "outputs": [],
   "source": [
    "# Generate test and target\n",
    "X = train_dropped.drop(columns=['min_future_price_in_eur'])\n",
    "y = train_dropped['min_future_price_in_eur'].values"
   ]
  },
  {
   "cell_type": "code",
   "execution_count": 75,
   "metadata": {},
   "outputs": [
    {
     "data": {
      "text/html": [
       "<div>\n",
       "<style scoped>\n",
       "    .dataframe tbody tr th:only-of-type {\n",
       "        vertical-align: middle;\n",
       "    }\n",
       "\n",
       "    .dataframe tbody tr th {\n",
       "        vertical-align: top;\n",
       "    }\n",
       "\n",
       "    .dataframe thead th {\n",
       "        text-align: right;\n",
       "    }\n",
       "</style>\n",
       "<table border=\"1\" class=\"dataframe\">\n",
       "  <thead>\n",
       "    <tr style=\"text-align: right;\">\n",
       "      <th></th>\n",
       "      <th>Duration_Time</th>\n",
       "      <th>Departure_hour</th>\n",
       "      <th>price_in_eur</th>\n",
       "      <th>flight_distance_km</th>\n",
       "      <th>Request_Weekday_Monday</th>\n",
       "      <th>Request_Weekday_Saturday</th>\n",
       "      <th>Request_Weekday_Sunday</th>\n",
       "      <th>Request_Weekday_Thursday</th>\n",
       "      <th>Request_Weekday_Tuesday</th>\n",
       "      <th>Request_Weekday_Wednesday</th>\n",
       "      <th>Request_timeofday_Night</th>\n",
       "      <th>Departure_timeofday_Morning</th>\n",
       "      <th>Departure_timeofday_Night</th>\n",
       "      <th>route_abb_from_STN</th>\n",
       "      <th>route_abb_from_SXF</th>\n",
       "      <th>route_abb_to_STN</th>\n",
       "      <th>route_abb_to_SXF</th>\n",
       "    </tr>\n",
       "  </thead>\n",
       "  <tbody>\n",
       "    <tr>\n",
       "      <th>0</th>\n",
       "      <td>0.257690</td>\n",
       "      <td>7</td>\n",
       "      <td>-0.981366</td>\n",
       "      <td>0.757632</td>\n",
       "      <td>1</td>\n",
       "      <td>0</td>\n",
       "      <td>0</td>\n",
       "      <td>0</td>\n",
       "      <td>0</td>\n",
       "      <td>0</td>\n",
       "      <td>0</td>\n",
       "      <td>1</td>\n",
       "      <td>0</td>\n",
       "      <td>1</td>\n",
       "      <td>0</td>\n",
       "      <td>0</td>\n",
       "      <td>1</td>\n",
       "    </tr>\n",
       "    <tr>\n",
       "      <th>1</th>\n",
       "      <td>0.222206</td>\n",
       "      <td>7</td>\n",
       "      <td>-0.761101</td>\n",
       "      <td>0.757632</td>\n",
       "      <td>1</td>\n",
       "      <td>0</td>\n",
       "      <td>0</td>\n",
       "      <td>0</td>\n",
       "      <td>0</td>\n",
       "      <td>0</td>\n",
       "      <td>1</td>\n",
       "      <td>1</td>\n",
       "      <td>0</td>\n",
       "      <td>1</td>\n",
       "      <td>0</td>\n",
       "      <td>0</td>\n",
       "      <td>1</td>\n",
       "    </tr>\n",
       "    <tr>\n",
       "      <th>2</th>\n",
       "      <td>0.186723</td>\n",
       "      <td>7</td>\n",
       "      <td>-0.762034</td>\n",
       "      <td>0.757632</td>\n",
       "      <td>0</td>\n",
       "      <td>0</td>\n",
       "      <td>0</td>\n",
       "      <td>0</td>\n",
       "      <td>1</td>\n",
       "      <td>0</td>\n",
       "      <td>0</td>\n",
       "      <td>1</td>\n",
       "      <td>0</td>\n",
       "      <td>1</td>\n",
       "      <td>0</td>\n",
       "      <td>0</td>\n",
       "      <td>1</td>\n",
       "    </tr>\n",
       "    <tr>\n",
       "      <th>3</th>\n",
       "      <td>0.151240</td>\n",
       "      <td>7</td>\n",
       "      <td>-0.762034</td>\n",
       "      <td>0.757632</td>\n",
       "      <td>0</td>\n",
       "      <td>0</td>\n",
       "      <td>0</td>\n",
       "      <td>0</td>\n",
       "      <td>1</td>\n",
       "      <td>0</td>\n",
       "      <td>1</td>\n",
       "      <td>1</td>\n",
       "      <td>0</td>\n",
       "      <td>1</td>\n",
       "      <td>0</td>\n",
       "      <td>0</td>\n",
       "      <td>1</td>\n",
       "    </tr>\n",
       "    <tr>\n",
       "      <th>4</th>\n",
       "      <td>0.115757</td>\n",
       "      <td>7</td>\n",
       "      <td>-0.761202</td>\n",
       "      <td>0.757632</td>\n",
       "      <td>0</td>\n",
       "      <td>0</td>\n",
       "      <td>0</td>\n",
       "      <td>0</td>\n",
       "      <td>0</td>\n",
       "      <td>1</td>\n",
       "      <td>0</td>\n",
       "      <td>1</td>\n",
       "      <td>0</td>\n",
       "      <td>1</td>\n",
       "      <td>0</td>\n",
       "      <td>0</td>\n",
       "      <td>1</td>\n",
       "    </tr>\n",
       "    <tr>\n",
       "      <th>...</th>\n",
       "      <td>...</td>\n",
       "      <td>...</td>\n",
       "      <td>...</td>\n",
       "      <td>...</td>\n",
       "      <td>...</td>\n",
       "      <td>...</td>\n",
       "      <td>...</td>\n",
       "      <td>...</td>\n",
       "      <td>...</td>\n",
       "      <td>...</td>\n",
       "      <td>...</td>\n",
       "      <td>...</td>\n",
       "      <td>...</td>\n",
       "      <td>...</td>\n",
       "      <td>...</td>\n",
       "      <td>...</td>\n",
       "      <td>...</td>\n",
       "    </tr>\n",
       "    <tr>\n",
       "      <th>5578</th>\n",
       "      <td>-1.578570</td>\n",
       "      <td>22</td>\n",
       "      <td>-0.787429</td>\n",
       "      <td>0.757632</td>\n",
       "      <td>0</td>\n",
       "      <td>0</td>\n",
       "      <td>0</td>\n",
       "      <td>0</td>\n",
       "      <td>1</td>\n",
       "      <td>0</td>\n",
       "      <td>1</td>\n",
       "      <td>0</td>\n",
       "      <td>1</td>\n",
       "      <td>0</td>\n",
       "      <td>1</td>\n",
       "      <td>1</td>\n",
       "      <td>0</td>\n",
       "    </tr>\n",
       "    <tr>\n",
       "      <th>5579</th>\n",
       "      <td>-1.614053</td>\n",
       "      <td>22</td>\n",
       "      <td>-0.660917</td>\n",
       "      <td>0.757632</td>\n",
       "      <td>0</td>\n",
       "      <td>0</td>\n",
       "      <td>0</td>\n",
       "      <td>0</td>\n",
       "      <td>0</td>\n",
       "      <td>1</td>\n",
       "      <td>0</td>\n",
       "      <td>0</td>\n",
       "      <td>1</td>\n",
       "      <td>0</td>\n",
       "      <td>1</td>\n",
       "      <td>1</td>\n",
       "      <td>0</td>\n",
       "    </tr>\n",
       "    <tr>\n",
       "      <th>5580</th>\n",
       "      <td>-1.649537</td>\n",
       "      <td>22</td>\n",
       "      <td>-0.660917</td>\n",
       "      <td>0.757632</td>\n",
       "      <td>0</td>\n",
       "      <td>0</td>\n",
       "      <td>0</td>\n",
       "      <td>0</td>\n",
       "      <td>0</td>\n",
       "      <td>1</td>\n",
       "      <td>1</td>\n",
       "      <td>0</td>\n",
       "      <td>1</td>\n",
       "      <td>0</td>\n",
       "      <td>1</td>\n",
       "      <td>1</td>\n",
       "      <td>0</td>\n",
       "    </tr>\n",
       "    <tr>\n",
       "      <th>5581</th>\n",
       "      <td>-1.685020</td>\n",
       "      <td>22</td>\n",
       "      <td>-0.660917</td>\n",
       "      <td>0.757632</td>\n",
       "      <td>0</td>\n",
       "      <td>0</td>\n",
       "      <td>0</td>\n",
       "      <td>1</td>\n",
       "      <td>0</td>\n",
       "      <td>0</td>\n",
       "      <td>0</td>\n",
       "      <td>0</td>\n",
       "      <td>1</td>\n",
       "      <td>0</td>\n",
       "      <td>1</td>\n",
       "      <td>1</td>\n",
       "      <td>0</td>\n",
       "    </tr>\n",
       "    <tr>\n",
       "      <th>5582</th>\n",
       "      <td>-1.720503</td>\n",
       "      <td>22</td>\n",
       "      <td>-0.660917</td>\n",
       "      <td>0.757632</td>\n",
       "      <td>0</td>\n",
       "      <td>0</td>\n",
       "      <td>0</td>\n",
       "      <td>1</td>\n",
       "      <td>0</td>\n",
       "      <td>0</td>\n",
       "      <td>1</td>\n",
       "      <td>0</td>\n",
       "      <td>1</td>\n",
       "      <td>0</td>\n",
       "      <td>1</td>\n",
       "      <td>1</td>\n",
       "      <td>0</td>\n",
       "    </tr>\n",
       "  </tbody>\n",
       "</table>\n",
       "<p>5583 rows × 17 columns</p>\n",
       "</div>"
      ],
      "text/plain": [
       "      Duration_Time  Departure_hour  price_in_eur  flight_distance_km  \\\n",
       "0          0.257690               7     -0.981366            0.757632   \n",
       "1          0.222206               7     -0.761101            0.757632   \n",
       "2          0.186723               7     -0.762034            0.757632   \n",
       "3          0.151240               7     -0.762034            0.757632   \n",
       "4          0.115757               7     -0.761202            0.757632   \n",
       "...             ...             ...           ...                 ...   \n",
       "5578      -1.578570              22     -0.787429            0.757632   \n",
       "5579      -1.614053              22     -0.660917            0.757632   \n",
       "5580      -1.649537              22     -0.660917            0.757632   \n",
       "5581      -1.685020              22     -0.660917            0.757632   \n",
       "5582      -1.720503              22     -0.660917            0.757632   \n",
       "\n",
       "      Request_Weekday_Monday  Request_Weekday_Saturday  \\\n",
       "0                          1                         0   \n",
       "1                          1                         0   \n",
       "2                          0                         0   \n",
       "3                          0                         0   \n",
       "4                          0                         0   \n",
       "...                      ...                       ...   \n",
       "5578                       0                         0   \n",
       "5579                       0                         0   \n",
       "5580                       0                         0   \n",
       "5581                       0                         0   \n",
       "5582                       0                         0   \n",
       "\n",
       "      Request_Weekday_Sunday  Request_Weekday_Thursday  \\\n",
       "0                          0                         0   \n",
       "1                          0                         0   \n",
       "2                          0                         0   \n",
       "3                          0                         0   \n",
       "4                          0                         0   \n",
       "...                      ...                       ...   \n",
       "5578                       0                         0   \n",
       "5579                       0                         0   \n",
       "5580                       0                         0   \n",
       "5581                       0                         1   \n",
       "5582                       0                         1   \n",
       "\n",
       "      Request_Weekday_Tuesday  Request_Weekday_Wednesday  \\\n",
       "0                           0                          0   \n",
       "1                           0                          0   \n",
       "2                           1                          0   \n",
       "3                           1                          0   \n",
       "4                           0                          1   \n",
       "...                       ...                        ...   \n",
       "5578                        1                          0   \n",
       "5579                        0                          1   \n",
       "5580                        0                          1   \n",
       "5581                        0                          0   \n",
       "5582                        0                          0   \n",
       "\n",
       "      Request_timeofday_Night  Departure_timeofday_Morning  \\\n",
       "0                           0                            1   \n",
       "1                           1                            1   \n",
       "2                           0                            1   \n",
       "3                           1                            1   \n",
       "4                           0                            1   \n",
       "...                       ...                          ...   \n",
       "5578                        1                            0   \n",
       "5579                        0                            0   \n",
       "5580                        1                            0   \n",
       "5581                        0                            0   \n",
       "5582                        1                            0   \n",
       "\n",
       "      Departure_timeofday_Night  route_abb_from_STN  route_abb_from_SXF  \\\n",
       "0                             0                   1                   0   \n",
       "1                             0                   1                   0   \n",
       "2                             0                   1                   0   \n",
       "3                             0                   1                   0   \n",
       "4                             0                   1                   0   \n",
       "...                         ...                 ...                 ...   \n",
       "5578                          1                   0                   1   \n",
       "5579                          1                   0                   1   \n",
       "5580                          1                   0                   1   \n",
       "5581                          1                   0                   1   \n",
       "5582                          1                   0                   1   \n",
       "\n",
       "      route_abb_to_STN  route_abb_to_SXF  \n",
       "0                    0                 1  \n",
       "1                    0                 1  \n",
       "2                    0                 1  \n",
       "3                    0                 1  \n",
       "4                    0                 1  \n",
       "...                ...               ...  \n",
       "5578                 1                 0  \n",
       "5579                 1                 0  \n",
       "5580                 1                 0  \n",
       "5581                 1                 0  \n",
       "5582                 1                 0  \n",
       "\n",
       "[5583 rows x 17 columns]"
      ]
     },
     "execution_count": 75,
     "metadata": {},
     "output_type": "execute_result"
    }
   ],
   "source": [
    "test_dropped"
   ]
  },
  {
   "cell_type": "markdown",
   "metadata": {},
   "source": [
    "# Checking for Linearity"
   ]
  },
  {
   "cell_type": "markdown",
   "metadata": {},
   "source": [
    "Before executing a linear regression model, we check if a linear relationship between the dependent variable (min_future_price_eur) and the independent variables exists."
   ]
  },
  {
   "cell_type": "code",
   "execution_count": 76,
   "metadata": {},
   "outputs": [
    {
     "data": {
      "image/png": "[encoded data removed]",
      "text/plain": [
       "<Figure size 432x288 with 1 Axes>"
      ]
     },
     "metadata": {
      "needs_background": "light"
     },
     "output_type": "display_data"
    }
   ],
   "source": [
    "df_lin = pd.DataFrame(train)\n",
    " \n",
    "plt.scatter(df_lin['price_in_eur'], df_lin['min_future_price_in_eur'], color='red')\n",
    "plt.title('price Vs min future price', fontsize=14)\n",
    "plt.xlabel('Price', fontsize=14)\n",
    "plt.ylabel('Min future price', fontsize=14)\n",
    "plt.grid(True)\n",
    "plt.show()"
   ]
  },
  {
   "cell_type": "markdown",
   "metadata": {},
   "source": [
    "We can see that a linear relationship between the price and the min_future_price exists. Specifically, when the price goes up the min_future_price also goes up."
   ]
  },
  {
   "cell_type": "code",
   "execution_count": 77,
   "metadata": {},
   "outputs": [
    {
     "data": {
      "image/png": "[encoded data removed]",
      "text/plain": [
       "<Figure size 432x288 with 1 Axes>"
      ]
     },
     "metadata": {
      "needs_background": "light"
     },
     "output_type": "display_data"
    }
   ],
   "source": [
    "plt.scatter(df_lin['Duration_Time'], df_lin['min_future_price_in_eur'], color='blue')\n",
    "plt.title('Duration_Time Vs min future price', fontsize=14)\n",
    "plt.xlabel('Duration_Time', fontsize=14)\n",
    "plt.ylabel('Min future price', fontsize=14)\n",
    "plt.grid(True)\n",
    "plt.show()"
   ]
  },
  {
   "cell_type": "markdown",
   "metadata": {},
   "source": [
    "We can see that a linear relationship between the price and the min_future_price exists. Specifically, when the Duration_Time goes up the min_future_price decreases."
   ]
  },
  {
   "cell_type": "code",
   "execution_count": 78,
   "metadata": {},
   "outputs": [
    {
     "data": {
      "image/png": "[encoded data removed]",
      "text/plain": [
       "<Figure size 432x288 with 1 Axes>"
      ]
     },
     "metadata": {
      "needs_background": "light"
     },
     "output_type": "display_data"
    }
   ],
   "source": [
    "plt.scatter(df_lin['flight_distance_km'], df_lin['min_future_price_in_eur'], color='blue')\n",
    "plt.title('Flight Distance Vs min future price', fontsize=14)\n",
    "plt.xlabel('Flight Distance', fontsize=14)\n",
    "plt.ylabel('Min future price', fontsize=14)\n",
    "plt.grid(True)\n",
    "plt.show()"
   ]
  },
  {
   "cell_type": "markdown",
   "metadata": {},
   "source": [
    "There might be a linear relationship between flight distance and min_future_price. But we do not have enough data."
   ]
  },
  {
   "cell_type": "code",
   "execution_count": 79,
   "metadata": {},
   "outputs": [
    {
     "data": {
      "image/png": "[encoded data removed]",
      "text/plain": [
       "<Figure size 432x288 with 1 Axes>"
      ]
     },
     "metadata": {
      "needs_background": "light"
     },
     "output_type": "display_data"
    }
   ],
   "source": [
    "plt.scatter(df_lin['Request_hour'], df_lin['min_future_price_in_eur'], color='purple')\n",
    "plt.title('Request_hour Vs min future price', fontsize=14)\n",
    "plt.xlabel('Request_hour', fontsize=14)\n",
    "plt.ylabel('Min future price', fontsize=14)\n",
    "plt.grid(True)\n",
    "plt.show()"
   ]
  },
  {
   "cell_type": "markdown",
   "metadata": {},
   "source": [
    "There is no linear relationship between request hour and min_future_price"
   ]
  },
  {
   "cell_type": "code",
   "execution_count": 80,
   "metadata": {},
   "outputs": [
    {
     "data": {
      "image/png": "[encoded data removed]",
      "text/plain": [
       "<Figure size 432x288 with 1 Axes>"
      ]
     },
     "metadata": {
      "needs_background": "light"
     },
     "output_type": "display_data"
    }
   ],
   "source": [
    "plt.scatter(df_lin['Departure_hour'], df_lin['min_future_price_in_eur'], color='green')\n",
    "plt.title('Departure_hour Vs min future price', fontsize=14)\n",
    "plt.xlabel('Departure_hour', fontsize=14)\n",
    "plt.ylabel('Min future price', fontsize=14)\n",
    "plt.grid(True)\n",
    "plt.show()"
   ]
  },
  {
   "cell_type": "markdown",
   "metadata": {},
   "source": [
    "There is no linear relationship between departure hour and min_future_price"
   ]
  },
  {
   "cell_type": "code",
   "execution_count": 81,
   "metadata": {},
   "outputs": [
    {
     "name": "stdout",
     "output_type": "stream",
     "text": [
      "PointbiserialrResult(correlation=0.037748327876544946, pvalue=9.278150708744796e-28)\n",
      "PointbiserialrResult(correlation=0.02463582343812651, pvalue=1.0399265762323386e-12)\n",
      "PointbiserialrResult(correlation=-0.037748327876544974, pvalue=9.278150708744796e-28)\n",
      "PointbiserialrResult(correlation=0.07165823092252901, pvalue=1.2684529770642404e-95)\n"
     ]
    }
   ],
   "source": [
    "# https://docs.scipy.org/doc/scipy-0.14.0/reference/generated/scipy.stats.pointbiserialr.html\n",
    "print(stats.pointbiserialr(df_lin['route_abb_from_STN'], df_lin['min_future_price_in_eur']))\n",
    "print(stats.pointbiserialr(df_lin['route_abb_from_SXF'], df_lin['min_future_price_in_eur']))\n",
    "print(stats.pointbiserialr(df_lin['route_abb_to_STN'], df_lin['min_future_price_in_eur']))\n",
    "print(stats.pointbiserialr(df_lin['route_abb_to_SXF'], df_lin['min_future_price_in_eur']))"
   ]
  },
  {
   "cell_type": "markdown",
   "metadata": {},
   "source": [
    "There is no significant relationship between route_abb and min_future_price"
   ]
  },
  {
   "cell_type": "code",
   "execution_count": 82,
   "metadata": {},
   "outputs": [
    {
     "name": "stdout",
     "output_type": "stream",
     "text": [
      "PointbiserialrResult(correlation=-0.01298152445310219, pvalue=0.00017398261320498108)\n",
      "PointbiserialrResult(correlation=-0.005942139934911538, pvalue=0.08573708001252217)\n",
      "PointbiserialrResult(correlation=0.0021226459945999565, pvalue=0.5393380141945227)\n",
      "PointbiserialrResult(correlation=0.008940666499375818, pvalue=0.009724961249875803)\n",
      "PointbiserialrResult(correlation=0.00038380422371196016, pvalue=0.9116273383345177)\n",
      "PointbiserialrResult(correlation=-0.0075970694003589774, pvalue=0.028027210061278195)\n"
     ]
    }
   ],
   "source": [
    "print(stats.pointbiserialr(df_lin['Request_Weekday_Monday'], df_lin['min_future_price_in_eur']))\n",
    "print(stats.pointbiserialr(df_lin['Request_Weekday_Tuesday'], df_lin['min_future_price_in_eur']))\n",
    "print(stats.pointbiserialr(df_lin['Request_Weekday_Wednesday'], df_lin['min_future_price_in_eur']))\n",
    "print(stats.pointbiserialr(df_lin['Request_Weekday_Thursday'], df_lin['min_future_price_in_eur']))\n",
    "print(stats.pointbiserialr(df_lin['Request_Weekday_Saturday'], df_lin['min_future_price_in_eur']))\n",
    "print(stats.pointbiserialr(df_lin['Request_Weekday_Sunday'], df_lin['min_future_price_in_eur']))"
   ]
  },
  {
   "cell_type": "markdown",
   "metadata": {},
   "source": [
    "There is no significant relationship between the request weekday and min_future_price"
   ]
  },
  {
   "cell_type": "markdown",
   "metadata": {},
   "source": [
    "# Feature importance"
   ]
  },
  {
   "cell_type": "markdown",
   "metadata": {},
   "source": [
    "LassoCV to evaluate the most valuable features. From the above analysis only price_in_eur and Duration_Time can be used"
   ]
  },
  {
   "cell_type": "code",
   "execution_count": 83,
   "metadata": {
    "tags": []
   },
   "outputs": [
    {
     "name": "stdout",
     "output_type": "stream",
     "text": [
      "0.8144445916175245\n",
      "[0.12921158 0.00102563 0.81199253 0.         0.         0.\n",
      " 0.         0.         0.         0.         0.         0.\n",
      " 0.         0.         0.         0.         0.        ]\n"
     ]
    }
   ],
   "source": [
    "# Features with the highest absolute coef_ value are considered the most important\n",
    "feature_names = X.columns\n",
    "clf = LassoCV(cv=6).fit(X, y)\n",
    "print(clf.score(X, y))\n",
    "importance = np.abs(clf.coef_)\n",
    "print(importance)"
   ]
  },
  {
   "cell_type": "code",
   "execution_count": 84,
   "metadata": {
    "tags": []
   },
   "outputs": [
    {
     "name": "stdout",
     "output_type": "stream",
     "text": [
      "Selected features: ['price_in_eur' 'Duration_Time']\n"
     ]
    }
   ],
   "source": [
    "idx_third = importance.argsort()[-3]\n",
    "threshold = importance[idx_third] + 0.01\n",
    "\n",
    "idx_features = (-importance).argsort()[:2]\n",
    "name_features = np.array(feature_names)[idx_features]\n",
    "print('Selected features: {}'.format(name_features))\n",
    "\n",
    "sfm = SelectFromModel(clf, threshold=threshold)\n",
    "sfm.fit(X, y)\n",
    "X_transform = sfm.transform(X)\n",
    "\n",
    "n_features = sfm.transform(X).shape[1]"
   ]
  },
  {
   "cell_type": "markdown",
   "metadata": {},
   "source": [
    "LassoCV shows that the features with the highest absolute coef_ value are price_in_eur and Duration_Time. Good!"
   ]
  },
  {
   "cell_type": "code",
   "execution_count": 85,
   "metadata": {},
   "outputs": [],
   "source": [
    "features = name_features\n",
    "X = X[features]"
   ]
  },
  {
   "cell_type": "markdown",
   "metadata": {},
   "source": [
    "# Build model"
   ]
  },
  {
   "cell_type": "markdown",
   "metadata": {},
   "source": [
    "During training, we let the model ‘see’ the answers, in this case the min_future_price_inr_eur, so it can learn how to predict the price from the features. \n",
    "We split 80% of the data to the training set and 20% to the testing set. We set the random state to  1 which means the results will be the same each time I run the split for reproducible results."
   ]
  },
  {
   "cell_type": "code",
   "execution_count": 86,
   "metadata": {},
   "outputs": [],
   "source": [
    "# Split dataset into train and test data (might want to try random_state=0 to randomize each calculation)\n",
    "X_train, X_test, y_train, y_test = train_test_split(X, y, test_size=0.20, random_state=1)"
   ]
  },
  {
   "cell_type": "markdown",
   "metadata": {},
   "source": [
    "We look at the shape of all the data to make sure we did everything correctly. The training features number of columns match the testing feature number of columns and the number of rows match for the respective training and testing features and the labels:"
   ]
  },
  {
   "cell_type": "code",
   "execution_count": 87,
   "metadata": {},
   "outputs": [
    {
     "data": {
      "text/plain": [
       "((66899, 2), (66899,), (16725, 2), (16725,))"
      ]
     },
     "execution_count": 87,
     "metadata": {},
     "output_type": "execute_result"
    }
   ],
   "source": [
    "X_train.shape, y_train.shape, X_test.shape, y_test.shape"
   ]
  },
  {
   "cell_type": "code",
   "execution_count": 88,
   "metadata": {},
   "outputs": [],
   "source": [
    "from sklearn.linear_model import LinearRegression\n",
    "from sklearn.pipeline import Pipeline\n",
    "from sklearn.compose import TransformedTargetRegressor\n",
    "from sklearn.preprocessing import StandardScaler\n",
    "\n",
    "lin_model = lin_reg.fit(X_train, y_train)\n",
    "y_pred = lin_reg.predict(X_test)"
   ]
  },
  {
   "cell_type": "code",
   "execution_count": 89,
   "metadata": {},
   "outputs": [
    {
     "data": {
      "text/html": [
       "<div>\n",
       "<style scoped>\n",
       "    .dataframe tbody tr th:only-of-type {\n",
       "        vertical-align: middle;\n",
       "    }\n",
       "\n",
       "    .dataframe tbody tr th {\n",
       "        vertical-align: top;\n",
       "    }\n",
       "\n",
       "    .dataframe thead th {\n",
       "        text-align: right;\n",
       "    }\n",
       "</style>\n",
       "<table border=\"1\" class=\"dataframe\">\n",
       "  <thead>\n",
       "    <tr style=\"text-align: right;\">\n",
       "      <th></th>\n",
       "      <th>Actual</th>\n",
       "      <th>Predicted</th>\n",
       "    </tr>\n",
       "  </thead>\n",
       "  <tbody>\n",
       "    <tr>\n",
       "      <th>0</th>\n",
       "      <td>0.031005</td>\n",
       "      <td>0.328815</td>\n",
       "    </tr>\n",
       "    <tr>\n",
       "      <th>1</th>\n",
       "      <td>2.616126</td>\n",
       "      <td>3.026287</td>\n",
       "    </tr>\n",
       "    <tr>\n",
       "      <th>2</th>\n",
       "      <td>-0.793637</td>\n",
       "      <td>-0.863541</td>\n",
       "    </tr>\n",
       "    <tr>\n",
       "      <th>3</th>\n",
       "      <td>3.231682</td>\n",
       "      <td>2.241413</td>\n",
       "    </tr>\n",
       "    <tr>\n",
       "      <th>4</th>\n",
       "      <td>-0.089139</td>\n",
       "      <td>0.239162</td>\n",
       "    </tr>\n",
       "    <tr>\n",
       "      <th>...</th>\n",
       "      <td>...</td>\n",
       "      <td>...</td>\n",
       "    </tr>\n",
       "    <tr>\n",
       "      <th>16720</th>\n",
       "      <td>-0.795177</td>\n",
       "      <td>-0.908142</td>\n",
       "    </tr>\n",
       "    <tr>\n",
       "      <th>16721</th>\n",
       "      <td>1.987986</td>\n",
       "      <td>1.640245</td>\n",
       "    </tr>\n",
       "    <tr>\n",
       "      <th>16722</th>\n",
       "      <td>-0.715895</td>\n",
       "      <td>-0.902071</td>\n",
       "    </tr>\n",
       "    <tr>\n",
       "      <th>16723</th>\n",
       "      <td>-0.289374</td>\n",
       "      <td>-0.559172</td>\n",
       "    </tr>\n",
       "    <tr>\n",
       "      <th>16724</th>\n",
       "      <td>-0.011235</td>\n",
       "      <td>-0.179777</td>\n",
       "    </tr>\n",
       "  </tbody>\n",
       "</table>\n",
       "<p>16725 rows × 2 columns</p>\n",
       "</div>"
      ],
      "text/plain": [
       "         Actual  Predicted\n",
       "0      0.031005   0.328815\n",
       "1      2.616126   3.026287\n",
       "2     -0.793637  -0.863541\n",
       "3      3.231682   2.241413\n",
       "4     -0.089139   0.239162\n",
       "...         ...        ...\n",
       "16720 -0.795177  -0.908142\n",
       "16721  1.987986   1.640245\n",
       "16722 -0.715895  -0.902071\n",
       "16723 -0.289374  -0.559172\n",
       "16724 -0.011235  -0.179777\n",
       "\n",
       "[16725 rows x 2 columns]"
      ]
     },
     "execution_count": 89,
     "metadata": {},
     "output_type": "execute_result"
    }
   ],
   "source": [
    "df_pred = pd.DataFrame({'Actual': y_test.flatten(), 'Predicted': y_pred.flatten()})\n",
    "df_pred"
   ]
  },
  {
   "cell_type": "code",
   "execution_count": 90,
   "metadata": {},
   "outputs": [
    {
     "data": {
      "image/png": "[encoded data removed]",
      "text/plain": [
       "<Figure size 1152x720 with 1 Axes>"
      ]
     },
     "metadata": {
      "needs_background": "light"
     },
     "output_type": "display_data"
    }
   ],
   "source": [
    "df_pred.head(25).plot(kind='bar',figsize=(16,10))\n",
    "plt.grid(which='major', linestyle='-', linewidth='0.5', color='green')\n",
    "plt.grid(which='minor', linestyle=':', linewidth='0.5', color='black')\n",
    "plt.show()"
   ]
  },
  {
   "cell_type": "markdown",
   "metadata": {},
   "source": [
    "# Model Evaluation Metrics for Regression"
   ]
  },
  {
   "cell_type": "markdown",
   "metadata": {},
   "source": [
    "We evaluate the performance of the algorithm. For regression algorithms, three evaluation metrics are commonly used. Mean Absolute Error (MAE), Mean Squared Error (MSE) and the Root Mean Squared Error (RMSE). For these metrics we are using the test data. "
   ]
  },
  {
   "cell_type": "code",
   "execution_count": 91,
   "metadata": {
    "tags": []
   },
   "outputs": [
    {
     "name": "stdout",
     "output_type": "stream",
     "text": [
      "Score: 0.8100225118711449\n",
      "Cross-validated scores: [0.74259783 0.78854976 0.81053998 0.78538463 0.76289933 0.77070407]\n"
     ]
    }
   ],
   "source": [
    "# Return the mean accuracy on the given test data and labels\n",
    "print('Score:', lin_reg.score(X_test, y_test))\n",
    "\n",
    "# Return the mean accuracy on the given test data and labels with cross validation \n",
    "scores = cross_val_score(lin_model, X, y, cv=6)\n",
    "print('Cross-validated scores:', scores)"
   ]
  },
  {
   "cell_type": "markdown",
   "metadata": {},
   "source": [
    "With our model we have a mean accuracy of 87.8%. With Cross Validation we have a worse result where 82.6% is the highest. "
   ]
  },
  {
   "cell_type": "code",
   "execution_count": 92,
   "metadata": {
    "tags": []
   },
   "outputs": [
    {
     "name": "stdout",
     "output_type": "stream",
     "text": [
      "Mean Absolute Error: 0.27\n",
      "Mean Squared Error: 0.19\n",
      "Root Mean Squared Error: 0.44\n"
     ]
    }
   ],
   "source": [
    "# Calculate the absolute errors\n",
    "errors = abs(y_pred - y_test)\n",
    "\n",
    "# Print out the mean absolute error (MAE)\n",
    "print('Mean Absolute Error:', round(np.mean(errors), 2))\n",
    "\n",
    "# Print out the mean squared error (MSE)\n",
    "print('Mean Squared Error:', round(np.square(errors).mean(), 2))  \n",
    "\n",
    "# Print out the root mean squared error (RMSE)\n",
    "# Lower values of RMSE indicate better fit\n",
    "print('Root Mean Squared Error:', round(np.sqrt(metrics.mean_squared_error(y_test, y_pred)), 2))"
   ]
  },
  {
   "cell_type": "markdown",
   "metadata": {},
   "source": [
    "# Use on Test Data"
   ]
  },
  {
   "cell_type": "code",
   "execution_count": 93,
   "metadata": {},
   "outputs": [],
   "source": [
    "test_pred = lin_reg.predict(np.array(test_dropped[features]))"
   ]
  },
  {
   "cell_type": "code",
   "execution_count": 94,
   "metadata": {},
   "outputs": [
    {
     "data": {
      "text/html": [
       "<div>\n",
       "<style scoped>\n",
       "    .dataframe tbody tr th:only-of-type {\n",
       "        vertical-align: middle;\n",
       "    }\n",
       "\n",
       "    .dataframe tbody tr th {\n",
       "        vertical-align: top;\n",
       "    }\n",
       "\n",
       "    .dataframe thead th {\n",
       "        text-align: right;\n",
       "    }\n",
       "</style>\n",
       "<table border=\"1\" class=\"dataframe\">\n",
       "  <thead>\n",
       "    <tr style=\"text-align: right;\">\n",
       "      <th></th>\n",
       "      <th>Request_Date</th>\n",
       "      <th>flight_unique_id</th>\n",
       "      <th>price_in_eur</th>\n",
       "      <th>min_future_price_eur</th>\n",
       "    </tr>\n",
       "  </thead>\n",
       "  <tbody>\n",
       "    <tr>\n",
       "      <th>0</th>\n",
       "      <td>2019-06-03 11:00:00</td>\n",
       "      <td>2019-07-02 FR 145</td>\n",
       "      <td>-0.981366</td>\n",
       "      <td>-0.844658</td>\n",
       "    </tr>\n",
       "    <tr>\n",
       "      <th>1</th>\n",
       "      <td>2019-06-03 23:00:00</td>\n",
       "      <td>2019-07-02 FR 145</td>\n",
       "      <td>-0.761101</td>\n",
       "      <td>-0.658046</td>\n",
       "    </tr>\n",
       "    <tr>\n",
       "      <th>2</th>\n",
       "      <td>2019-06-04 11:00:00</td>\n",
       "      <td>2019-07-02 FR 145</td>\n",
       "      <td>-0.762034</td>\n",
       "      <td>-0.653892</td>\n",
       "    </tr>\n",
       "    <tr>\n",
       "      <th>3</th>\n",
       "      <td>2019-06-04 23:00:00</td>\n",
       "      <td>2019-07-02 FR 145</td>\n",
       "      <td>-0.762034</td>\n",
       "      <td>-0.648967</td>\n",
       "    </tr>\n",
       "    <tr>\n",
       "      <th>4</th>\n",
       "      <td>2019-06-05 11:00:00</td>\n",
       "      <td>2019-07-02 FR 145</td>\n",
       "      <td>-0.761202</td>\n",
       "      <td>-0.643357</td>\n",
       "    </tr>\n",
       "    <tr>\n",
       "      <th>...</th>\n",
       "      <td>...</td>\n",
       "      <td>...</td>\n",
       "      <td>...</td>\n",
       "      <td>...</td>\n",
       "    </tr>\n",
       "    <tr>\n",
       "      <th>5578</th>\n",
       "      <td>2019-07-30 23:00:00</td>\n",
       "      <td>2019-08-02 FR 8545</td>\n",
       "      <td>-0.787429</td>\n",
       "      <td>-0.429855</td>\n",
       "    </tr>\n",
       "    <tr>\n",
       "      <th>5579</th>\n",
       "      <td>2019-07-31 11:00:00</td>\n",
       "      <td>2019-08-02 FR 8545</td>\n",
       "      <td>-0.660917</td>\n",
       "      <td>-0.320576</td>\n",
       "    </tr>\n",
       "    <tr>\n",
       "      <th>5580</th>\n",
       "      <td>2019-07-31 23:00:00</td>\n",
       "      <td>2019-08-02 FR 8545</td>\n",
       "      <td>-0.660917</td>\n",
       "      <td>-0.315651</td>\n",
       "    </tr>\n",
       "    <tr>\n",
       "      <th>5581</th>\n",
       "      <td>2019-08-01 11:00:00</td>\n",
       "      <td>2019-08-02 FR 8545</td>\n",
       "      <td>-0.660917</td>\n",
       "      <td>-0.310727</td>\n",
       "    </tr>\n",
       "    <tr>\n",
       "      <th>5582</th>\n",
       "      <td>2019-08-01 23:00:00</td>\n",
       "      <td>2019-08-02 FR 8545</td>\n",
       "      <td>-0.660917</td>\n",
       "      <td>-0.305803</td>\n",
       "    </tr>\n",
       "  </tbody>\n",
       "</table>\n",
       "<p>5583 rows × 4 columns</p>\n",
       "</div>"
      ],
      "text/plain": [
       "             Request_Date    flight_unique_id  price_in_eur  \\\n",
       "0     2019-06-03 11:00:00   2019-07-02 FR 145     -0.981366   \n",
       "1     2019-06-03 23:00:00   2019-07-02 FR 145     -0.761101   \n",
       "2     2019-06-04 11:00:00   2019-07-02 FR 145     -0.762034   \n",
       "3     2019-06-04 23:00:00   2019-07-02 FR 145     -0.762034   \n",
       "4     2019-06-05 11:00:00   2019-07-02 FR 145     -0.761202   \n",
       "...                   ...                 ...           ...   \n",
       "5578  2019-07-30 23:00:00  2019-08-02 FR 8545     -0.787429   \n",
       "5579  2019-07-31 11:00:00  2019-08-02 FR 8545     -0.660917   \n",
       "5580  2019-07-31 23:00:00  2019-08-02 FR 8545     -0.660917   \n",
       "5581  2019-08-01 11:00:00  2019-08-02 FR 8545     -0.660917   \n",
       "5582  2019-08-01 23:00:00  2019-08-02 FR 8545     -0.660917   \n",
       "\n",
       "      min_future_price_eur  \n",
       "0                -0.844658  \n",
       "1                -0.658046  \n",
       "2                -0.653892  \n",
       "3                -0.648967  \n",
       "4                -0.643357  \n",
       "...                    ...  \n",
       "5578             -0.429855  \n",
       "5579             -0.320576  \n",
       "5580             -0.315651  \n",
       "5581             -0.310727  \n",
       "5582             -0.305803  \n",
       "\n",
       "[5583 rows x 4 columns]"
      ]
     },
     "execution_count": 94,
     "metadata": {},
     "output_type": "execute_result"
    }
   ],
   "source": [
    "final_pred = pd.DataFrame({'Request_Date': test['Request_Date'], 'flight_unique_id': test['flight_unique_id'], 'price_in_eur': test['price_in_eur'], 'min_future_price_eur': test_pred})\n",
    "final_pred"
   ]
  },
  {
   "cell_type": "markdown",
   "metadata": {},
   "source": [
    "# Compute Buy False/True"
   ]
  },
  {
   "cell_type": "code",
   "execution_count": 95,
   "metadata": {
    "tags": []
   },
   "outputs": [
    {
     "name": "stderr",
     "output_type": "stream",
     "text": [
      "/usr/local/lib/python3.7/site-packages/ipykernel_launcher.py:6: FutureWarning: set_value is deprecated and will be removed in a future release. Please use .at[] or .iat[] accessors instead\n",
      "  \n",
      "/usr/local/lib/python3.7/site-packages/ipykernel_launcher.py:4: FutureWarning: set_value is deprecated and will be removed in a future release. Please use .at[] or .iat[] accessors instead\n",
      "  after removing the cwd from sys.path.\n"
     ]
    },
    {
     "name": "stdout",
     "output_type": "stream",
     "text": [
      "             Request_Date    flight_unique_id  price_in_eur  \\\n",
      "0     2019-06-03 11:00:00   2019-07-02 FR 145     -0.981366   \n",
      "1     2019-06-03 23:00:00   2019-07-02 FR 145     -0.761101   \n",
      "2     2019-06-04 11:00:00   2019-07-02 FR 145     -0.762034   \n",
      "3     2019-06-04 23:00:00   2019-07-02 FR 145     -0.762034   \n",
      "4     2019-06-05 11:00:00   2019-07-02 FR 145     -0.761202   \n",
      "...                   ...                 ...           ...   \n",
      "5578  2019-07-30 23:00:00  2019-08-02 FR 8545     -0.787429   \n",
      "5579  2019-07-31 11:00:00  2019-08-02 FR 8545     -0.660917   \n",
      "5580  2019-07-31 23:00:00  2019-08-02 FR 8545     -0.660917   \n",
      "5581  2019-08-01 11:00:00  2019-08-02 FR 8545     -0.660917   \n",
      "5582  2019-08-01 23:00:00  2019-08-02 FR 8545     -0.660917   \n",
      "\n",
      "      min_future_price_eur  buy  \n",
      "0                -0.844658  1.0  \n",
      "1                -0.658046  1.0  \n",
      "2                -0.653892  1.0  \n",
      "3                -0.648967  1.0  \n",
      "4                -0.643357  1.0  \n",
      "...                    ...  ...  \n",
      "5578             -0.429855  1.0  \n",
      "5579             -0.320576  1.0  \n",
      "5580             -0.315651  1.0  \n",
      "5581             -0.310727  1.0  \n",
      "5582             -0.305803  1.0  \n",
      "\n",
      "[5583 rows x 5 columns]\n"
     ]
    }
   ],
   "source": [
    "final_pred['buy'] = np.nan\n",
    "for index, row in final_pred.iterrows():\n",
    "    if row.price_in_eur > row.min_future_price_eur:\n",
    "        final_pred.set_value(index,'buy',0)\n",
    "    else:\n",
    "        final_pred.set_value(index,'buy',1)\n",
    "print(final_pred)\n",
    "# final_pred.to_csv('./data/linear_regression_test.csv', sep=',')"
   ]
  },
  {
   "cell_type": "markdown",
   "metadata": {},
   "source": [
    "# Optimization Performance\n",
    "Das Vorhersagemodell für die Entscheidung Warten oder Kaufen eines Flugtickets soll hinsichtlich der Vorhersagegenauigkeit optimiert werden, d.h. \n",
    "Genauigkeit = Anzahl der richtigen Entscheidungen / Anzahl aller Entscheidungen. "
   ]
  },
  {
   "cell_type": "code",
   "execution_count": 96,
   "metadata": {
    "tags": []
   },
   "outputs": [
    {
     "name": "stdout",
     "output_type": "stream",
     "text": [
      "True: 1264\n",
      "Total: 5583\n"
     ]
    },
    {
     "data": {
      "text/plain": [
       "0.2264015762135053"
      ]
     },
     "execution_count": 96,
     "metadata": {},
     "output_type": "execute_result"
    }
   ],
   "source": [
    "optimize_final_pred = final_pred\n",
    "def getModelScore(data):\n",
    "    data['Request_Date'] = pd.to_datetime(data['Request_Date'], format='%Y-%m-%d %H:%M:%S')\n",
    "    decision_true_total = 0\n",
    "    unique_flights_id = data['flight_unique_id'].unique()\n",
    "    for element in unique_flights_id:\n",
    "        flights = data[data['flight_unique_id'] == element].sort_values('Request_Date', ascending=False)\n",
    "        for index, flight in flights.iterrows():\n",
    "            filtered_flights = flights[flights['Request_Date'] >= flight.Request_Date].sort_values('Request_Date', ascending=False)\n",
    "            if flight.buy == 1:\n",
    "                filtered_flights = filtered_flights[filtered_flights['price_in_eur'] < flight.price_in_eur]\n",
    "            if flight.buy == 0:\n",
    "                filtered_flights = filtered_flights[filtered_flights['price_in_eur'] > flight.price_in_eur]\n",
    "            if len(filtered_flights) == 0:\n",
    "                decision_true_total = decision_true_total + 1\n",
    "    print('True: ' + str(decision_true_total))\n",
    "    print('Total: ' + str(len(data)))\n",
    "    return decision_true_total/len(data)\n",
    "\n",
    "getModelScore(optimize_final_pred)\n",
    "# 1264 ['price_in_eur' 'Duration_Time']"
   ]
  },
  {
   "cell_type": "code",
   "execution_count": 39,
   "metadata": {},
   "outputs": [
    {
     "data": {
      "text/plain": [
       "[datetime.datetime(2019, 5, 1, 0, 0), 0.0, Timestamp('2019-06-03 11:00:00')]"
      ]
     },
     "execution_count": 39,
     "metadata": {},
     "output_type": "execute_result"
    }
   ],
   "source": [
    "check_final_pred = final_pred\n",
    "def checkDateToBuy(data, flight_unique_id, request_date):\n",
    "    flights = data[data['flight_unique_id'] == flight_unique_id].sort_values('Request_Date', ascending=False)\n",
    "    price_saving = 0\n",
    "    if request_date <= flights.iloc[0].Request_Date:\n",
    "        flights['Request_Date'] = pd.to_datetime(flights['Request_Date'], format='%Y-%m-%d %H:%M:%S')\n",
    "        flights = flights[flights['Request_Date'] > request_date].sort_values('Request_Date', ascending=True)\n",
    "        initialPrice = 0\n",
    "        flights = flights.reset_index()\n",
    "        for index, flight in flights.iterrows():\n",
    "            if index == 0:\n",
    "                initialPrice = flight.price_in_eur\n",
    "            if flight.buy == 1:\n",
    "                price_saving = initialPrice - flight.price_in_eur\n",
    "                return [request_date, price_saving, flight.Request_Date]\n",
    "        return 0\n",
    "    else:\n",
    "        print('No data available for the supplied Request_Date')\n",
    "\n",
    "checkDateToBuy(check_final_pred, '2019-07-02 FR 145', datetime(2019, 5, 1))"
   ]
  },
  {
   "cell_type": "markdown",
   "metadata": {},
   "source": [
    "Die Optimierung geschieht nur auf den Trainingsdaten über Kreuzvalidierung.\n",
    "Wir definieren ein weiteres Maß für die Modellgüte, um die potentielle Geldersparnis durch das Modell zu messen. Dem Vorschlag von Gruppe 2(?) folgend gehen wir von folgender Idee aus:\n",
    "\n",
    "a) Wir suchen uns einen Flug aus (flight_unique_id), für den wir ein Ticket kaufen möchten\n",
    "\n",
    "b) Zu einem Zeitpunkt (Request_Date) prüfen wir zum ersten Mal den Preis\n",
    "\n",
    "c) Wir fragen das Modell, ob wir warten oder kaufen sollen\n",
    "\n",
    "d) Wenn das Modell empfiehlt zu kaufen, dann kaufen wir das Ticket; weiter bei Schritt f)\n",
    "\n",
    "e) Wenn das Modell empfiehlt zu warten, dann gehen wir zur zum nächsten Request_Date des Fluges und zurück zu Schritt c); Wenn es keinen nächsten Request_Date für den Flug mehr gibt (letzte Preisabfrage vor Abflug), dann kaufen wir ein Ticket zum aktuellen Preis, egal was es kostet.\n",
    "\n",
    "f) Wir bestimmen die Differenz zwischen Kaufpreis (Price) und optimalem zukünftigen Preis (min_future_price).\n",
    "\n",
    "\n",
    "\n",
    "Um die Modellgüte basierend auf dieser Idee zu messen, führen wir das Protokoll oben für jedes Request_Date in b) aus und addieren so die Differenzen aus f) für jeden Flug (flight_unique_id) auf. Diese Summen addieren wir über alle Flüge auf.\n",
    "\n",
    "Eine effiziente Implementierung wäre, für einen Flug mit dem letzten Request_Date vor dem Abflug zu beginnen und sich dann schrittweise über Request_Date in die Vergangenheit vorzuarbeiten. Beim letzten Request_Date vor Abflug muss ein Ticket gekauft werden, egal was die Empfehlung des Modells ist.\n",
    "\n",
    "Wenn wir einen Schritt in die Vergangenheit gehen und die Kaufempfehlung dort \"warten\" ist, dann berechnen wir die Preisdifferenz zum Schritt davor. Wenn die Kaufempfehlung \"kaufen\" ist, dann berechnen wir die Differenz zwischen Kaufpreis (Price) und optimalem zukünftigen Preis (min_future_price) wie in f).\n",
    "\n",
    "Wir gehen wieder einen Schritt in die Vergangenheit und handeln/rechnen wie zuvor bis wir die erste Preisabfrage für den Flug erreicht haben.\n",
    "\n",
    "Auf den Testdaten werden wir die Genauigkeit aus 1. und das Gütemaß aus 3. bestimmen.\n",
    "Es ist nicht erlaubt, für die Testdaten min_future_price zu berechnen, um die Güte des Modells zu verbessern. Aus Gründen der Fairness möchte ich Sie bitten, hier nicht zu mogeln. Sie dürfen aber für die Testdaten die zusätzlichen Merkmale (Features) berechnen, welche Sie sich für das Modell überlegt haben. Achten Sie dabei bitte darauf, dass Sie keine Informationen aus der Zukunft verwenden, die Sie im Fall einer praktischen Anwendung nicht hätten.\n",
    "Bedenken Sie beim Bau Ihres Modells, dass Sie ein Ticket kaufen müssen, wenn Sie in den Daten das letzte Request_Date vor Abflug erreicht haben. Wir gehen davon aus, dass wir die Information \"letztes Request_Date vor Abflug\" bei der Preisabfrage kennen. Sie können dies also den Daten zufügen.\n",
    "Ich habe das Problem in den Daten behoben, dass für einige Flüge min_future_price scheinbar nicht gestimmt hat. Dies lag daran, dass die letzten Preisabfragen in der Datenaufbereitung fälschlicherweise gelöscht wurden. Weiterhin habe ich die Testdaten neu ausgewählt. Benutzen Sie also bitte die aktuellen Daten in Moodle (ab 17.6. verfügbar).\n",
    "Das Modell für den Entscheidungsprozess aus 3. zu optimieren ist deutlich schwieriger als der Standard aus 1. Für die Bewertung der Arbeit mit einer 1.0 erwarte ich wenigstens eine ansatzweise Implementierung der Optimierung nach 3., für eine 1.3 wenigstens die gute Beschreibung eines Lösungsansatzes. Eine saubere Bearbeitung der anderen Teile ist natürlich trotzdem grundlegende Voraussetzung."
   ]
  },
  {
   "cell_type": "code",
   "execution_count": null,
   "metadata": {},
   "outputs": [],
   "source": []
  },
  {
   "cell_type": "code",
   "execution_count": null,
   "metadata": {},
   "outputs": [],
   "source": []
  }
 ],
 "metadata": {
  "kernelspec": {
   "display_name": "Python 3",
   "language": "python",
   "name": "python3"
  },
  "language_info": {
   "codemirror_mode": {
    "name": "ipython",
    "version": 3
   },
   "file_extension": ".py",
   "mimetype": "text/x-python",
   "name": "python",
   "nbconvert_exporter": "python",
   "pygments_lexer": "ipython3",
   "version": "3.7.7"
  }
 },
 "nbformat": 4,
 "nbformat_minor": 4
}
