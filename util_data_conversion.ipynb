{
 "cells": [
  {
   "cell_type": "markdown",
   "metadata": {},
   "source": [
    "# Descriptive Analysis\n",
    "In this section we look at the data from a descriptive perspective. This gives a good understanding and overview on the test data. "
   ]
  },
  {
   "cell_type": "code",
   "execution_count": 83,
   "metadata": {},
   "outputs": [],
   "source": [
    "import pandas as pd\n",
    "from currency_converter import CurrencyConverter\n",
    "import datetime as dt\n",
    "from datetime import datetime, timedelta\n",
    "current_datetime = \"{:%Y_%m_%d_%H-%M-%S}\".format(datetime.now())"
   ]
  },
  {
   "cell_type": "code",
   "execution_count": 84,
   "metadata": {},
   "outputs": [
    {
     "output_type": "execute_result",
     "data": {
      "text/plain": "                  Request_Date Flight_Date  Departure_hour  \\\n0    2019-06-03 11:00:00+00:00  2019-07-02               7   \n1    2019-06-03 23:00:00+00:00  2019-07-02               7   \n2    2019-06-04 11:00:00+00:00  2019-07-02               7   \n3    2019-06-04 23:00:00+00:00  2019-07-02               7   \n4    2019-06-05 11:00:00+00:00  2019-07-02               7   \n...                        ...         ...             ...   \n5578 2019-07-30 23:00:00+00:00  2019-08-02              22   \n5579 2019-07-31 11:00:00+00:00  2019-08-02              22   \n5580 2019-07-31 23:00:00+00:00  2019-08-02              22   \n5581 2019-08-01 11:00:00+00:00  2019-08-02              22   \n5582 2019-08-01 23:00:00+00:00  2019-08-02              22   \n\n        flight_unique_id route_abb flight_number  Price Currency  \n0      2019-07-02 FR 145   STN-SXF        FR 145  26.87        £  \n1      2019-07-02 FR 145   STN-SXF        FR 145  39.46        £  \n2      2019-07-02 FR 145   STN-SXF        FR 145  39.46        £  \n3      2019-07-02 FR 145   STN-SXF        FR 145  39.46        £  \n4      2019-07-02 FR 145   STN-SXF        FR 145  39.46        £  \n...                  ...       ...           ...    ...      ...  \n5578  2019-08-02 FR 8545   SXF-STN       FR 8545  42.83        €  \n5579  2019-08-02 FR 8545   SXF-STN       FR 8545  50.99        €  \n5580  2019-08-02 FR 8545   SXF-STN       FR 8545  50.99        €  \n5581  2019-08-02 FR 8545   SXF-STN       FR 8545  50.99        €  \n5582  2019-08-02 FR 8545   SXF-STN       FR 8545  50.99        €  \n\n[5583 rows x 8 columns]",
      "text/html": "<div>\n<style scoped>\n    .dataframe tbody tr th:only-of-type {\n        vertical-align: middle;\n    }\n\n    .dataframe tbody tr th {\n        vertical-align: top;\n    }\n\n    .dataframe thead th {\n        text-align: right;\n    }\n</style>\n<table border=\"1\" class=\"dataframe\">\n  <thead>\n    <tr style=\"text-align: right;\">\n      <th></th>\n      <th>Request_Date</th>\n      <th>Flight_Date</th>\n      <th>Departure_hour</th>\n      <th>flight_unique_id</th>\n      <th>route_abb</th>\n      <th>flight_number</th>\n      <th>Price</th>\n      <th>Currency</th>\n    </tr>\n  </thead>\n  <tbody>\n    <tr>\n      <th>0</th>\n      <td>2019-06-03 11:00:00+00:00</td>\n      <td>2019-07-02</td>\n      <td>7</td>\n      <td>2019-07-02 FR 145</td>\n      <td>STN-SXF</td>\n      <td>FR 145</td>\n      <td>26.87</td>\n      <td>£</td>\n    </tr>\n    <tr>\n      <th>1</th>\n      <td>2019-06-03 23:00:00+00:00</td>\n      <td>2019-07-02</td>\n      <td>7</td>\n      <td>2019-07-02 FR 145</td>\n      <td>STN-SXF</td>\n      <td>FR 145</td>\n      <td>39.46</td>\n      <td>£</td>\n    </tr>\n    <tr>\n      <th>2</th>\n      <td>2019-06-04 11:00:00+00:00</td>\n      <td>2019-07-02</td>\n      <td>7</td>\n      <td>2019-07-02 FR 145</td>\n      <td>STN-SXF</td>\n      <td>FR 145</td>\n      <td>39.46</td>\n      <td>£</td>\n    </tr>\n    <tr>\n      <th>3</th>\n      <td>2019-06-04 23:00:00+00:00</td>\n      <td>2019-07-02</td>\n      <td>7</td>\n      <td>2019-07-02 FR 145</td>\n      <td>STN-SXF</td>\n      <td>FR 145</td>\n      <td>39.46</td>\n      <td>£</td>\n    </tr>\n    <tr>\n      <th>4</th>\n      <td>2019-06-05 11:00:00+00:00</td>\n      <td>2019-07-02</td>\n      <td>7</td>\n      <td>2019-07-02 FR 145</td>\n      <td>STN-SXF</td>\n      <td>FR 145</td>\n      <td>39.46</td>\n      <td>£</td>\n    </tr>\n    <tr>\n      <th>...</th>\n      <td>...</td>\n      <td>...</td>\n      <td>...</td>\n      <td>...</td>\n      <td>...</td>\n      <td>...</td>\n      <td>...</td>\n      <td>...</td>\n    </tr>\n    <tr>\n      <th>5578</th>\n      <td>2019-07-30 23:00:00+00:00</td>\n      <td>2019-08-02</td>\n      <td>22</td>\n      <td>2019-08-02 FR 8545</td>\n      <td>SXF-STN</td>\n      <td>FR 8545</td>\n      <td>42.83</td>\n      <td>€</td>\n    </tr>\n    <tr>\n      <th>5579</th>\n      <td>2019-07-31 11:00:00+00:00</td>\n      <td>2019-08-02</td>\n      <td>22</td>\n      <td>2019-08-02 FR 8545</td>\n      <td>SXF-STN</td>\n      <td>FR 8545</td>\n      <td>50.99</td>\n      <td>€</td>\n    </tr>\n    <tr>\n      <th>5580</th>\n      <td>2019-07-31 23:00:00+00:00</td>\n      <td>2019-08-02</td>\n      <td>22</td>\n      <td>2019-08-02 FR 8545</td>\n      <td>SXF-STN</td>\n      <td>FR 8545</td>\n      <td>50.99</td>\n      <td>€</td>\n    </tr>\n    <tr>\n      <th>5581</th>\n      <td>2019-08-01 11:00:00+00:00</td>\n      <td>2019-08-02</td>\n      <td>22</td>\n      <td>2019-08-02 FR 8545</td>\n      <td>SXF-STN</td>\n      <td>FR 8545</td>\n      <td>50.99</td>\n      <td>€</td>\n    </tr>\n    <tr>\n      <th>5582</th>\n      <td>2019-08-01 23:00:00+00:00</td>\n      <td>2019-08-02</td>\n      <td>22</td>\n      <td>2019-08-02 FR 8545</td>\n      <td>SXF-STN</td>\n      <td>FR 8545</td>\n      <td>50.99</td>\n      <td>€</td>\n    </tr>\n  </tbody>\n</table>\n<p>5583 rows × 8 columns</p>\n</div>"
     },
     "metadata": {},
     "execution_count": 84
    }
   ],
   "source": [
    "data = pd.read_csv('./data/test.csv',parse_dates=['Flight_Date','Request_Date'])\n",
    "train = pd.read_csv('./data/train.csv',parse_dates=['Flight_Date','Request_Date'])\n",
    "data"
   ]
  },
  {
   "cell_type": "code",
   "execution_count": 85,
   "metadata": {},
   "outputs": [],
   "source": [
    "# Compute pound values to eur (currency_in_eur)\n",
    "c = CurrencyConverter(fallback_on_missing_rate=True)\n",
    "def convert_to_eur(row, column):\n",
    "    if row['Currency'] == '£':\n",
    "        dateString = datetime.strftime(row['Request_Date'], '%Y-%m-%d')\n",
    "        date = dt.datetime.strptime(dateString, \"%Y-%m-%d\")\n",
    "        return c.convert(row[column], 'EUR', 'GBP', date=datetime(date.year, date.month, date.day))\n",
    "    return row[column]\n",
    "\n",
    "data['price_in_eur'] = data.apply(lambda row : convert_to_eur(row, 'Price'), axis=1)\n",
    "train['price_in_eur'] = train.apply(lambda row : convert_to_eur(row, 'Price'), axis=1)\n",
    "train['min_future_price_in_eur'] = train.apply(lambda row : convert_to_eur(row, 'min_future_price'), axis=1)"
   ]
  },
  {
   "cell_type": "code",
   "execution_count": 86,
   "metadata": {},
   "outputs": [],
   "source": [
    "def modify_date_columns(data):\n",
    "    # Formatting necessary to do duration calculation\n",
    "    data['Departure_hour'] = pd.to_numeric(data['Departure_hour'])\n",
    "    data['Request_Date'] = data['Request_Date'].apply(lambda x: datetime.strftime(x, '%Y-%m-%d %H:%M:%S'))\n",
    "    data['Flight_Date'] = data['Flight_Date'] + pd.to_timedelta(data['Departure_hour'], 'h')\n",
    "    data['Request_Date'] = pd.to_datetime(data['Request_Date'])\n",
    "    # Calculate duration between flight_date and request_date in hours\n",
    "    Duration_Time = data['Flight_Date'] - data['Request_Date']\n",
    "    Duration_Time = Duration_Time.apply(lambda x: x.total_seconds())     \n",
    "    Duration_Time = divmod(Duration_Time, 3600)[0]\n",
    "    data.insert(2, \"Duration_Time\", Duration_Time, True)\n",
    "    return data\n",
    "\n",
    "data = modify_date_columns(data)\n",
    "train = modify_date_columns(train)"
   ]
  },
  {
   "cell_type": "code",
   "execution_count": 87,
   "metadata": {},
   "outputs": [],
   "source": [
    "# New feature: Compute weekday from Request_date\n",
    "data['Request_Weekday'] = data['Request_Date'].dt.day_name()\n",
    "train['Request_Weekday'] = train['Request_Date'].dt.day_name()"
   ]
  },
  {
   "cell_type": "code",
   "execution_count": 88,
   "metadata": {},
   "outputs": [],
   "source": [
    "# New feature: Compute day, noon, night from Request_date\n",
    "def get_departureReq(req):\n",
    "    req = req.hour\n",
    "    if (req >= 6 and req < 12):\n",
    "        return 'Morning'\n",
    "    elif (req >= 12 and req < 17):\n",
    "        return 'Noon'\n",
    "    elif (req >= 17 and req < 20):\n",
    "        return 'Evening'\n",
    "    else:\n",
    "        return 'Night'\n",
    "\n",
    "data['Request_timeofday'] = data['Request_Date'].apply(get_departureReq)\n",
    "train['Request_timeofday'] = train['Request_Date'].apply(get_departureReq)"
   ]
  },
  {
   "cell_type": "code",
   "execution_count": 89,
   "metadata": {},
   "outputs": [
    {
     "output_type": "execute_result",
     "data": {
      "text/plain": "            Request_Date         Flight_Date  Duration_Time  Departure_hour  \\\n0    2019-06-03 11:00:00 2019-07-02 07:00:00          692.0               7   \n1    2019-06-03 23:00:00 2019-07-02 07:00:00          680.0               7   \n2    2019-06-04 11:00:00 2019-07-02 07:00:00          668.0               7   \n3    2019-06-04 23:00:00 2019-07-02 07:00:00          656.0               7   \n4    2019-06-05 11:00:00 2019-07-02 07:00:00          644.0               7   \n...                  ...                 ...            ...             ...   \n5578 2019-07-30 23:00:00 2019-08-02 22:00:00           71.0              22   \n5579 2019-07-31 11:00:00 2019-08-02 22:00:00           59.0              22   \n5580 2019-07-31 23:00:00 2019-08-02 22:00:00           47.0              22   \n5581 2019-08-01 11:00:00 2019-08-02 22:00:00           35.0              22   \n5582 2019-08-01 23:00:00 2019-08-02 22:00:00           23.0              22   \n\n        flight_unique_id route_abb flight_number  Price Currency  \\\n0      2019-07-02 FR 145   STN-SXF        FR 145  26.87        £   \n1      2019-07-02 FR 145   STN-SXF        FR 145  39.46        £   \n2      2019-07-02 FR 145   STN-SXF        FR 145  39.46        £   \n3      2019-07-02 FR 145   STN-SXF        FR 145  39.46        £   \n4      2019-07-02 FR 145   STN-SXF        FR 145  39.46        £   \n...                  ...       ...           ...    ...      ...   \n5578  2019-08-02 FR 8545   SXF-STN       FR 8545  42.83        €   \n5579  2019-08-02 FR 8545   SXF-STN       FR 8545  50.99        €   \n5580  2019-08-02 FR 8545   SXF-STN       FR 8545  50.99        €   \n5581  2019-08-02 FR 8545   SXF-STN       FR 8545  50.99        €   \n5582  2019-08-02 FR 8545   SXF-STN       FR 8545  50.99        €   \n\n      price_in_eur Request_Weekday Request_timeofday Departure_timeofday  \n0        23.811657          Monday           Morning             Morning  \n1        34.968663          Monday             Night             Morning  \n2        35.016015         Tuesday           Morning             Morning  \n3        35.016015         Tuesday             Night             Morning  \n4        34.973793       Wednesday           Morning             Morning  \n...            ...             ...               ...                 ...  \n5578     42.830000         Tuesday             Night               Night  \n5579     50.990000       Wednesday           Morning               Night  \n5580     50.990000       Wednesday             Night               Night  \n5581     50.990000        Thursday           Morning               Night  \n5582     50.990000        Thursday             Night               Night  \n\n[5583 rows x 13 columns]",
      "text/html": "<div>\n<style scoped>\n    .dataframe tbody tr th:only-of-type {\n        vertical-align: middle;\n    }\n\n    .dataframe tbody tr th {\n        vertical-align: top;\n    }\n\n    .dataframe thead th {\n        text-align: right;\n    }\n</style>\n<table border=\"1\" class=\"dataframe\">\n  <thead>\n    <tr style=\"text-align: right;\">\n      <th></th>\n      <th>Request_Date</th>\n      <th>Flight_Date</th>\n      <th>Duration_Time</th>\n      <th>Departure_hour</th>\n      <th>flight_unique_id</th>\n      <th>route_abb</th>\n      <th>flight_number</th>\n      <th>Price</th>\n      <th>Currency</th>\n      <th>price_in_eur</th>\n      <th>Request_Weekday</th>\n      <th>Request_timeofday</th>\n      <th>Departure_timeofday</th>\n    </tr>\n  </thead>\n  <tbody>\n    <tr>\n      <th>0</th>\n      <td>2019-06-03 11:00:00</td>\n      <td>2019-07-02 07:00:00</td>\n      <td>692.0</td>\n      <td>7</td>\n      <td>2019-07-02 FR 145</td>\n      <td>STN-SXF</td>\n      <td>FR 145</td>\n      <td>26.87</td>\n      <td>£</td>\n      <td>23.811657</td>\n      <td>Monday</td>\n      <td>Morning</td>\n      <td>Morning</td>\n    </tr>\n    <tr>\n      <th>1</th>\n      <td>2019-06-03 23:00:00</td>\n      <td>2019-07-02 07:00:00</td>\n      <td>680.0</td>\n      <td>7</td>\n      <td>2019-07-02 FR 145</td>\n      <td>STN-SXF</td>\n      <td>FR 145</td>\n      <td>39.46</td>\n      <td>£</td>\n      <td>34.968663</td>\n      <td>Monday</td>\n      <td>Night</td>\n      <td>Morning</td>\n    </tr>\n    <tr>\n      <th>2</th>\n      <td>2019-06-04 11:00:00</td>\n      <td>2019-07-02 07:00:00</td>\n      <td>668.0</td>\n      <td>7</td>\n      <td>2019-07-02 FR 145</td>\n      <td>STN-SXF</td>\n      <td>FR 145</td>\n      <td>39.46</td>\n      <td>£</td>\n      <td>35.016015</td>\n      <td>Tuesday</td>\n      <td>Morning</td>\n      <td>Morning</td>\n    </tr>\n    <tr>\n      <th>3</th>\n      <td>2019-06-04 23:00:00</td>\n      <td>2019-07-02 07:00:00</td>\n      <td>656.0</td>\n      <td>7</td>\n      <td>2019-07-02 FR 145</td>\n      <td>STN-SXF</td>\n      <td>FR 145</td>\n      <td>39.46</td>\n      <td>£</td>\n      <td>35.016015</td>\n      <td>Tuesday</td>\n      <td>Night</td>\n      <td>Morning</td>\n    </tr>\n    <tr>\n      <th>4</th>\n      <td>2019-06-05 11:00:00</td>\n      <td>2019-07-02 07:00:00</td>\n      <td>644.0</td>\n      <td>7</td>\n      <td>2019-07-02 FR 145</td>\n      <td>STN-SXF</td>\n      <td>FR 145</td>\n      <td>39.46</td>\n      <td>£</td>\n      <td>34.973793</td>\n      <td>Wednesday</td>\n      <td>Morning</td>\n      <td>Morning</td>\n    </tr>\n    <tr>\n      <th>...</th>\n      <td>...</td>\n      <td>...</td>\n      <td>...</td>\n      <td>...</td>\n      <td>...</td>\n      <td>...</td>\n      <td>...</td>\n      <td>...</td>\n      <td>...</td>\n      <td>...</td>\n      <td>...</td>\n      <td>...</td>\n      <td>...</td>\n    </tr>\n    <tr>\n      <th>5578</th>\n      <td>2019-07-30 23:00:00</td>\n      <td>2019-08-02 22:00:00</td>\n      <td>71.0</td>\n      <td>22</td>\n      <td>2019-08-02 FR 8545</td>\n      <td>SXF-STN</td>\n      <td>FR 8545</td>\n      <td>42.83</td>\n      <td>€</td>\n      <td>42.830000</td>\n      <td>Tuesday</td>\n      <td>Night</td>\n      <td>Night</td>\n    </tr>\n    <tr>\n      <th>5579</th>\n      <td>2019-07-31 11:00:00</td>\n      <td>2019-08-02 22:00:00</td>\n      <td>59.0</td>\n      <td>22</td>\n      <td>2019-08-02 FR 8545</td>\n      <td>SXF-STN</td>\n      <td>FR 8545</td>\n      <td>50.99</td>\n      <td>€</td>\n      <td>50.990000</td>\n      <td>Wednesday</td>\n      <td>Morning</td>\n      <td>Night</td>\n    </tr>\n    <tr>\n      <th>5580</th>\n      <td>2019-07-31 23:00:00</td>\n      <td>2019-08-02 22:00:00</td>\n      <td>47.0</td>\n      <td>22</td>\n      <td>2019-08-02 FR 8545</td>\n      <td>SXF-STN</td>\n      <td>FR 8545</td>\n      <td>50.99</td>\n      <td>€</td>\n      <td>50.990000</td>\n      <td>Wednesday</td>\n      <td>Night</td>\n      <td>Night</td>\n    </tr>\n    <tr>\n      <th>5581</th>\n      <td>2019-08-01 11:00:00</td>\n      <td>2019-08-02 22:00:00</td>\n      <td>35.0</td>\n      <td>22</td>\n      <td>2019-08-02 FR 8545</td>\n      <td>SXF-STN</td>\n      <td>FR 8545</td>\n      <td>50.99</td>\n      <td>€</td>\n      <td>50.990000</td>\n      <td>Thursday</td>\n      <td>Morning</td>\n      <td>Night</td>\n    </tr>\n    <tr>\n      <th>5582</th>\n      <td>2019-08-01 23:00:00</td>\n      <td>2019-08-02 22:00:00</td>\n      <td>23.0</td>\n      <td>22</td>\n      <td>2019-08-02 FR 8545</td>\n      <td>SXF-STN</td>\n      <td>FR 8545</td>\n      <td>50.99</td>\n      <td>€</td>\n      <td>50.990000</td>\n      <td>Thursday</td>\n      <td>Night</td>\n      <td>Night</td>\n    </tr>\n  </tbody>\n</table>\n<p>5583 rows × 13 columns</p>\n</div>"
     },
     "metadata": {},
     "execution_count": 89
    }
   ],
   "source": [
    "# New feature: Compute day, noon, night from Departure_Date\n",
    "def get_departureDep(dep):\n",
    "    if (dep >= 6 and dep < 12):\n",
    "        return 'Morning'\n",
    "    elif (dep >= 12 and dep < 17):\n",
    "        return 'Noon'\n",
    "    elif (dep >= 17 and dep < 20):\n",
    "        return 'Evening'\n",
    "    else:\n",
    "        return 'Night'\n",
    "\n",
    "data['Departure_timeofday'] = data['Departure_hour'].apply(get_departureDep)\n",
    "train['Departure_timeofday'] = train['Departure_hour'].apply(get_departureDep)\n",
    "data"
   ]
  },
  {
   "cell_type": "code",
   "execution_count": 90,
   "metadata": {},
   "outputs": [],
   "source": [
    "# New feature: Distance travelled\n",
    "# https://www.aircalculator.com/flightplan.php?from=SXF&to=STN\n",
    "def getDistance(route):\n",
    "    if (route == 'STN-SXF' or route == 'SXF-STN'):\n",
    "        return 907.20\n",
    "    elif (route == 'FRA-STN' or route == 'STN-FRA'):\n",
    "        return 618.63\n",
    "\n",
    "data['flight_distance_km'] = data['route_abb'].apply(getDistance)\n",
    "train['flight_distance_km'] = train['route_abb'].apply(getDistance)"
   ]
  },
  {
   "cell_type": "code",
   "execution_count": 91,
   "metadata": {},
   "outputs": [],
   "source": [
    "# New feature: Request hour\n",
    "data['Request_hour'] = data['Request_Date'].apply(lambda x: x.hour)\n",
    "train['Request_hour'] = train['Request_Date'].apply(lambda x: x.hour)"
   ]
  },
  {
   "cell_type": "code",
   "execution_count": 92,
   "metadata": {},
   "outputs": [],
   "source": [
    "# Remove hour from date in Request and Flight date\n",
    "data['Request_Date'] = data['Request_Date'].apply(lambda x: x.strftime('%x'))\n",
    "data['Flight_Date'] = data['Flight_Date'].apply(lambda x: x.strftime('%x'))\n",
    "train['Request_Date'] = train['Request_Date'].apply(lambda x: x.strftime('%x'))\n",
    "train['Flight_Date'] = train['Flight_Date'].apply(lambda x: x.strftime('%x'))"
   ]
  },
  {
   "cell_type": "code",
   "execution_count": 93,
   "metadata": {},
   "outputs": [
    {
     "output_type": "execute_result",
     "data": {
      "text/plain": "     Request_Date Flight_Date  Duration_Time  Departure_hour  \\\n0        06/03/19    07/02/19          692.0               7   \n1        06/03/19    07/02/19          680.0               7   \n2        06/04/19    07/02/19          668.0               7   \n3        06/04/19    07/02/19          656.0               7   \n4        06/05/19    07/02/19          644.0               7   \n...           ...         ...            ...             ...   \n5578     07/30/19    08/02/19           71.0              22   \n5579     07/31/19    08/02/19           59.0              22   \n5580     07/31/19    08/02/19           47.0              22   \n5581     08/01/19    08/02/19           35.0              22   \n5582     08/01/19    08/02/19           23.0              22   \n\n        flight_unique_id route_abb flight_number  Price Currency  \\\n0      2019-07-02 FR 145   STN-SXF        FR 145  26.87        £   \n1      2019-07-02 FR 145   STN-SXF        FR 145  39.46        £   \n2      2019-07-02 FR 145   STN-SXF        FR 145  39.46        £   \n3      2019-07-02 FR 145   STN-SXF        FR 145  39.46        £   \n4      2019-07-02 FR 145   STN-SXF        FR 145  39.46        £   \n...                  ...       ...           ...    ...      ...   \n5578  2019-08-02 FR 8545   SXF-STN       FR 8545  42.83        €   \n5579  2019-08-02 FR 8545   SXF-STN       FR 8545  50.99        €   \n5580  2019-08-02 FR 8545   SXF-STN       FR 8545  50.99        €   \n5581  2019-08-02 FR 8545   SXF-STN       FR 8545  50.99        €   \n5582  2019-08-02 FR 8545   SXF-STN       FR 8545  50.99        €   \n\n      price_in_eur Request_Weekday Request_timeofday Departure_timeofday  \\\n0        23.811657          Monday           Morning             Morning   \n1        34.968663          Monday             Night             Morning   \n2        35.016015         Tuesday           Morning             Morning   \n3        35.016015         Tuesday             Night             Morning   \n4        34.973793       Wednesday           Morning             Morning   \n...            ...             ...               ...                 ...   \n5578     42.830000         Tuesday             Night               Night   \n5579     50.990000       Wednesday           Morning               Night   \n5580     50.990000       Wednesday             Night               Night   \n5581     50.990000        Thursday           Morning               Night   \n5582     50.990000        Thursday             Night               Night   \n\n      flight_distance_km  Request_hour  \n0                  907.2            11  \n1                  907.2            23  \n2                  907.2            11  \n3                  907.2            23  \n4                  907.2            11  \n...                  ...           ...  \n5578               907.2            23  \n5579               907.2            11  \n5580               907.2            23  \n5581               907.2            11  \n5582               907.2            23  \n\n[5583 rows x 15 columns]",
      "text/html": "<div>\n<style scoped>\n    .dataframe tbody tr th:only-of-type {\n        vertical-align: middle;\n    }\n\n    .dataframe tbody tr th {\n        vertical-align: top;\n    }\n\n    .dataframe thead th {\n        text-align: right;\n    }\n</style>\n<table border=\"1\" class=\"dataframe\">\n  <thead>\n    <tr style=\"text-align: right;\">\n      <th></th>\n      <th>Request_Date</th>\n      <th>Flight_Date</th>\n      <th>Duration_Time</th>\n      <th>Departure_hour</th>\n      <th>flight_unique_id</th>\n      <th>route_abb</th>\n      <th>flight_number</th>\n      <th>Price</th>\n      <th>Currency</th>\n      <th>price_in_eur</th>\n      <th>Request_Weekday</th>\n      <th>Request_timeofday</th>\n      <th>Departure_timeofday</th>\n      <th>flight_distance_km</th>\n      <th>Request_hour</th>\n    </tr>\n  </thead>\n  <tbody>\n    <tr>\n      <th>0</th>\n      <td>06/03/19</td>\n      <td>07/02/19</td>\n      <td>692.0</td>\n      <td>7</td>\n      <td>2019-07-02 FR 145</td>\n      <td>STN-SXF</td>\n      <td>FR 145</td>\n      <td>26.87</td>\n      <td>£</td>\n      <td>23.811657</td>\n      <td>Monday</td>\n      <td>Morning</td>\n      <td>Morning</td>\n      <td>907.2</td>\n      <td>11</td>\n    </tr>\n    <tr>\n      <th>1</th>\n      <td>06/03/19</td>\n      <td>07/02/19</td>\n      <td>680.0</td>\n      <td>7</td>\n      <td>2019-07-02 FR 145</td>\n      <td>STN-SXF</td>\n      <td>FR 145</td>\n      <td>39.46</td>\n      <td>£</td>\n      <td>34.968663</td>\n      <td>Monday</td>\n      <td>Night</td>\n      <td>Morning</td>\n      <td>907.2</td>\n      <td>23</td>\n    </tr>\n    <tr>\n      <th>2</th>\n      <td>06/04/19</td>\n      <td>07/02/19</td>\n      <td>668.0</td>\n      <td>7</td>\n      <td>2019-07-02 FR 145</td>\n      <td>STN-SXF</td>\n      <td>FR 145</td>\n      <td>39.46</td>\n      <td>£</td>\n      <td>35.016015</td>\n      <td>Tuesday</td>\n      <td>Morning</td>\n      <td>Morning</td>\n      <td>907.2</td>\n      <td>11</td>\n    </tr>\n    <tr>\n      <th>3</th>\n      <td>06/04/19</td>\n      <td>07/02/19</td>\n      <td>656.0</td>\n      <td>7</td>\n      <td>2019-07-02 FR 145</td>\n      <td>STN-SXF</td>\n      <td>FR 145</td>\n      <td>39.46</td>\n      <td>£</td>\n      <td>35.016015</td>\n      <td>Tuesday</td>\n      <td>Night</td>\n      <td>Morning</td>\n      <td>907.2</td>\n      <td>23</td>\n    </tr>\n    <tr>\n      <th>4</th>\n      <td>06/05/19</td>\n      <td>07/02/19</td>\n      <td>644.0</td>\n      <td>7</td>\n      <td>2019-07-02 FR 145</td>\n      <td>STN-SXF</td>\n      <td>FR 145</td>\n      <td>39.46</td>\n      <td>£</td>\n      <td>34.973793</td>\n      <td>Wednesday</td>\n      <td>Morning</td>\n      <td>Morning</td>\n      <td>907.2</td>\n      <td>11</td>\n    </tr>\n    <tr>\n      <th>...</th>\n      <td>...</td>\n      <td>...</td>\n      <td>...</td>\n      <td>...</td>\n      <td>...</td>\n      <td>...</td>\n      <td>...</td>\n      <td>...</td>\n      <td>...</td>\n      <td>...</td>\n      <td>...</td>\n      <td>...</td>\n      <td>...</td>\n      <td>...</td>\n      <td>...</td>\n    </tr>\n    <tr>\n      <th>5578</th>\n      <td>07/30/19</td>\n      <td>08/02/19</td>\n      <td>71.0</td>\n      <td>22</td>\n      <td>2019-08-02 FR 8545</td>\n      <td>SXF-STN</td>\n      <td>FR 8545</td>\n      <td>42.83</td>\n      <td>€</td>\n      <td>42.830000</td>\n      <td>Tuesday</td>\n      <td>Night</td>\n      <td>Night</td>\n      <td>907.2</td>\n      <td>23</td>\n    </tr>\n    <tr>\n      <th>5579</th>\n      <td>07/31/19</td>\n      <td>08/02/19</td>\n      <td>59.0</td>\n      <td>22</td>\n      <td>2019-08-02 FR 8545</td>\n      <td>SXF-STN</td>\n      <td>FR 8545</td>\n      <td>50.99</td>\n      <td>€</td>\n      <td>50.990000</td>\n      <td>Wednesday</td>\n      <td>Morning</td>\n      <td>Night</td>\n      <td>907.2</td>\n      <td>11</td>\n    </tr>\n    <tr>\n      <th>5580</th>\n      <td>07/31/19</td>\n      <td>08/02/19</td>\n      <td>47.0</td>\n      <td>22</td>\n      <td>2019-08-02 FR 8545</td>\n      <td>SXF-STN</td>\n      <td>FR 8545</td>\n      <td>50.99</td>\n      <td>€</td>\n      <td>50.990000</td>\n      <td>Wednesday</td>\n      <td>Night</td>\n      <td>Night</td>\n      <td>907.2</td>\n      <td>23</td>\n    </tr>\n    <tr>\n      <th>5581</th>\n      <td>08/01/19</td>\n      <td>08/02/19</td>\n      <td>35.0</td>\n      <td>22</td>\n      <td>2019-08-02 FR 8545</td>\n      <td>SXF-STN</td>\n      <td>FR 8545</td>\n      <td>50.99</td>\n      <td>€</td>\n      <td>50.990000</td>\n      <td>Thursday</td>\n      <td>Morning</td>\n      <td>Night</td>\n      <td>907.2</td>\n      <td>11</td>\n    </tr>\n    <tr>\n      <th>5582</th>\n      <td>08/01/19</td>\n      <td>08/02/19</td>\n      <td>23.0</td>\n      <td>22</td>\n      <td>2019-08-02 FR 8545</td>\n      <td>SXF-STN</td>\n      <td>FR 8545</td>\n      <td>50.99</td>\n      <td>€</td>\n      <td>50.990000</td>\n      <td>Thursday</td>\n      <td>Night</td>\n      <td>Night</td>\n      <td>907.2</td>\n      <td>23</td>\n    </tr>\n  </tbody>\n</table>\n<p>5583 rows × 15 columns</p>\n</div>"
     },
     "metadata": {},
     "execution_count": 93
    }
   ],
   "source": [
    "data"
   ]
  },
  {
   "cell_type": "code",
   "execution_count": 94,
   "metadata": {},
   "outputs": [],
   "source": [
    "data.to_csv('./data/converted_test_' + current_datetime + '.csv')"
   ]
  },
  {
   "cell_type": "code",
   "execution_count": 95,
   "metadata": {},
   "outputs": [],
   "source": [
    "train.to_csv('./data/converted_train_' + current_datetime + '.csv')"
   ]
  },
  {
   "cell_type": "code",
   "execution_count": null,
   "metadata": {},
   "outputs": [],
   "source": []
  }
 ],
 "metadata": {
  "kernelspec": {
   "display_name": "Python 3",
   "language": "python",
   "name": "python3"
  },
  "language_info": {
   "codemirror_mode": {
    "name": "ipython",
    "version": 3
   },
   "file_extension": ".py",
   "mimetype": "text/x-python",
   "name": "python",
   "nbconvert_exporter": "python",
   "pygments_lexer": "ipython3",
   "version": "3.7.7-final"
  }
 },
 "nbformat": 4,
 "nbformat_minor": 4
}