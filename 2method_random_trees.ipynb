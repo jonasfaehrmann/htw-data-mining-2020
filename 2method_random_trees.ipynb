{
 "cells": [
  {
   "cell_type": "markdown",
   "metadata": {},
   "source": [
    "# Random forest\n",
    "In the following we use the Random Forest method on the converted data from the descriptive_analysis.ipynb\n",
    "\n",
    "Source Random Forest Model: https://towardsdatascience.com/random-forest-in-python-24d0893d51c0 \n",
    "Linear Regresseion Model: https://towardsdatascience.com/a-beginners-guide-to-linear-regression-in-python-with-scikit-learn-83a8f7ae2b4f\n",
    "Source Kfold Cross Validation on Random Forests: https://www.youtube.com/watch?v=gJo0uNL-5Qw \n",
    "Tuning Hyperparameters with GridSearch: https://www.youtube.com/watch?v=HdlDYng8g9s\n",
    "Sckit learn: https://scikit-learn.org/stable/modules/generated/sklearn.ensemble.RandomForestClassifier.html\n",
    "\n",
    "The following Python code loads in the csv data and displays the structure of the data: "
   ]
  },
  {
   "cell_type": "markdown",
   "metadata": {},
   "source": [
    "# Imported libraries"
   ]
  },
  {
   "cell_type": "code",
   "execution_count": 392,
   "metadata": {},
   "outputs": [],
   "source": [
    "import pandas as pd\n",
    "import numpy as np\n",
    "# matplotlib for plotting \n",
    "import matplotlib.pyplot as plt\n",
    "%matplotlib inline\n",
    "import seaborn as seabornInstance \n",
    "# metrics used for calculating the different mean errors\n",
    "from sklearn import metrics\n",
    "# Import tools needed for visualization\n",
    "from sklearn.tree import export_graphviz \n",
    "import pydot\n",
    "from sklearn.model_selection import train_test_split\n",
    "from sklearn.model_selection import KFold\n",
    "from sklearn.model_selection import StratifiedKFold\n",
    "from sklearn.model_selection import cross_val_score, cross_val_predict\n",
    "from sklearn.linear_model import LassoCV\n",
    "from sklearn.model_selection import GridSearchCV\n",
    "from sklearn.feature_selection import SelectFromModel\n",
    "import datetime as dt\n",
    "from datetime import datetime, timedelta\n",
    "from sklearn import preprocessing"
   ]
  },
  {
   "cell_type": "code",
   "execution_count": 393,
   "metadata": {},
   "outputs": [
    {
     "data": {
      "text/html": [
       "<div>\n",
       "<style scoped>\n",
       "    .dataframe tbody tr th:only-of-type {\n",
       "        vertical-align: middle;\n",
       "    }\n",
       "\n",
       "    .dataframe tbody tr th {\n",
       "        vertical-align: top;\n",
       "    }\n",
       "\n",
       "    .dataframe thead th {\n",
       "        text-align: right;\n",
       "    }\n",
       "</style>\n",
       "<table border=\"1\" class=\"dataframe\">\n",
       "  <thead>\n",
       "    <tr style=\"text-align: right;\">\n",
       "      <th></th>\n",
       "      <th>Request_Date</th>\n",
       "      <th>Flight_Date</th>\n",
       "      <th>Duration_Time</th>\n",
       "      <th>Departure_hour</th>\n",
       "      <th>flight_unique_id</th>\n",
       "      <th>route_abb</th>\n",
       "      <th>flight_number</th>\n",
       "      <th>Price</th>\n",
       "      <th>Currency</th>\n",
       "      <th>min_future_price</th>\n",
       "      <th>...</th>\n",
       "      <th>min_future_price_in_eur</th>\n",
       "      <th>Request_Weekday</th>\n",
       "      <th>Request_timeofday</th>\n",
       "      <th>Departure_timeofday</th>\n",
       "      <th>flight_distance_km</th>\n",
       "      <th>Request_hour</th>\n",
       "      <th>Request_Date_Month</th>\n",
       "      <th>Flight_Date_Month</th>\n",
       "      <th>route_abb_from</th>\n",
       "      <th>route_abb_to</th>\n",
       "    </tr>\n",
       "  </thead>\n",
       "  <tbody>\n",
       "    <tr>\n",
       "      <th>0</th>\n",
       "      <td>2019-06-03 11:00:00</td>\n",
       "      <td>2019-06-05 19:00:00</td>\n",
       "      <td>56.0</td>\n",
       "      <td>19</td>\n",
       "      <td>2019-06-05 FR 146</td>\n",
       "      <td>SXF-STN</td>\n",
       "      <td>FR 146</td>\n",
       "      <td>208.07</td>\n",
       "      <td>€</td>\n",
       "      <td>259.07</td>\n",
       "      <td>...</td>\n",
       "      <td>259.070000</td>\n",
       "      <td>Monday</td>\n",
       "      <td>Morning</td>\n",
       "      <td>Evening</td>\n",
       "      <td>907.2</td>\n",
       "      <td>11</td>\n",
       "      <td>6</td>\n",
       "      <td>6</td>\n",
       "      <td>SXF</td>\n",
       "      <td>STN</td>\n",
       "    </tr>\n",
       "    <tr>\n",
       "      <th>1</th>\n",
       "      <td>2019-06-03 23:00:00</td>\n",
       "      <td>2019-06-05 19:00:00</td>\n",
       "      <td>44.0</td>\n",
       "      <td>19</td>\n",
       "      <td>2019-06-05 FR 146</td>\n",
       "      <td>SXF-STN</td>\n",
       "      <td>FR 146</td>\n",
       "      <td>259.07</td>\n",
       "      <td>€</td>\n",
       "      <td>259.07</td>\n",
       "      <td>...</td>\n",
       "      <td>259.070000</td>\n",
       "      <td>Monday</td>\n",
       "      <td>Night</td>\n",
       "      <td>Evening</td>\n",
       "      <td>907.2</td>\n",
       "      <td>23</td>\n",
       "      <td>6</td>\n",
       "      <td>6</td>\n",
       "      <td>SXF</td>\n",
       "      <td>STN</td>\n",
       "    </tr>\n",
       "    <tr>\n",
       "      <th>2</th>\n",
       "      <td>2019-06-04 11:00:00</td>\n",
       "      <td>2019-06-05 19:00:00</td>\n",
       "      <td>32.0</td>\n",
       "      <td>19</td>\n",
       "      <td>2019-06-05 FR 146</td>\n",
       "      <td>SXF-STN</td>\n",
       "      <td>FR 146</td>\n",
       "      <td>259.07</td>\n",
       "      <td>€</td>\n",
       "      <td>259.07</td>\n",
       "      <td>...</td>\n",
       "      <td>259.070000</td>\n",
       "      <td>Tuesday</td>\n",
       "      <td>Morning</td>\n",
       "      <td>Evening</td>\n",
       "      <td>907.2</td>\n",
       "      <td>11</td>\n",
       "      <td>6</td>\n",
       "      <td>6</td>\n",
       "      <td>SXF</td>\n",
       "      <td>STN</td>\n",
       "    </tr>\n",
       "    <tr>\n",
       "      <th>3</th>\n",
       "      <td>2019-06-04 23:00:00</td>\n",
       "      <td>2019-06-05 19:00:00</td>\n",
       "      <td>20.0</td>\n",
       "      <td>19</td>\n",
       "      <td>2019-06-05 FR 146</td>\n",
       "      <td>SXF-STN</td>\n",
       "      <td>FR 146</td>\n",
       "      <td>259.07</td>\n",
       "      <td>€</td>\n",
       "      <td>259.07</td>\n",
       "      <td>...</td>\n",
       "      <td>259.070000</td>\n",
       "      <td>Tuesday</td>\n",
       "      <td>Night</td>\n",
       "      <td>Evening</td>\n",
       "      <td>907.2</td>\n",
       "      <td>23</td>\n",
       "      <td>6</td>\n",
       "      <td>6</td>\n",
       "      <td>SXF</td>\n",
       "      <td>STN</td>\n",
       "    </tr>\n",
       "    <tr>\n",
       "      <th>4</th>\n",
       "      <td>2019-06-03 11:00:00</td>\n",
       "      <td>2019-06-05 21:00:00</td>\n",
       "      <td>58.0</td>\n",
       "      <td>21</td>\n",
       "      <td>2019-06-05 FR 147</td>\n",
       "      <td>STN-SXF</td>\n",
       "      <td>FR 147</td>\n",
       "      <td>127.49</td>\n",
       "      <td>£</td>\n",
       "      <td>223.37</td>\n",
       "      <td>...</td>\n",
       "      <td>252.059401</td>\n",
       "      <td>Monday</td>\n",
       "      <td>Morning</td>\n",
       "      <td>Night</td>\n",
       "      <td>907.2</td>\n",
       "      <td>11</td>\n",
       "      <td>6</td>\n",
       "      <td>6</td>\n",
       "      <td>STN</td>\n",
       "      <td>SXF</td>\n",
       "    </tr>\n",
       "  </tbody>\n",
       "</table>\n",
       "<p>5 rows × 21 columns</p>\n",
       "</div>"
      ],
      "text/plain": [
       "         Request_Date         Flight_Date  Duration_Time  Departure_hour  \\\n",
       "0 2019-06-03 11:00:00 2019-06-05 19:00:00           56.0              19   \n",
       "1 2019-06-03 23:00:00 2019-06-05 19:00:00           44.0              19   \n",
       "2 2019-06-04 11:00:00 2019-06-05 19:00:00           32.0              19   \n",
       "3 2019-06-04 23:00:00 2019-06-05 19:00:00           20.0              19   \n",
       "4 2019-06-03 11:00:00 2019-06-05 21:00:00           58.0              21   \n",
       "\n",
       "    flight_unique_id route_abb flight_number   Price Currency  \\\n",
       "0  2019-06-05 FR 146   SXF-STN        FR 146  208.07        €   \n",
       "1  2019-06-05 FR 146   SXF-STN        FR 146  259.07        €   \n",
       "2  2019-06-05 FR 146   SXF-STN        FR 146  259.07        €   \n",
       "3  2019-06-05 FR 146   SXF-STN        FR 146  259.07        €   \n",
       "4  2019-06-05 FR 147   STN-SXF        FR 147  127.49        £   \n",
       "\n",
       "   min_future_price  ...  min_future_price_in_eur  Request_Weekday  \\\n",
       "0            259.07  ...               259.070000           Monday   \n",
       "1            259.07  ...               259.070000           Monday   \n",
       "2            259.07  ...               259.070000          Tuesday   \n",
       "3            259.07  ...               259.070000          Tuesday   \n",
       "4            223.37  ...               252.059401           Monday   \n",
       "\n",
       "  Request_timeofday Departure_timeofday flight_distance_km  Request_hour  \\\n",
       "0           Morning             Evening              907.2            11   \n",
       "1             Night             Evening              907.2            23   \n",
       "2           Morning             Evening              907.2            11   \n",
       "3             Night             Evening              907.2            23   \n",
       "4           Morning               Night              907.2            11   \n",
       "\n",
       "   Request_Date_Month  Flight_Date_Month  route_abb_from route_abb_to  \n",
       "0                   6                  6             SXF          STN  \n",
       "1                   6                  6             SXF          STN  \n",
       "2                   6                  6             SXF          STN  \n",
       "3                   6                  6             SXF          STN  \n",
       "4                   6                  6             STN          SXF  \n",
       "\n",
       "[5 rows x 21 columns]"
      ]
     },
     "execution_count": 393,
     "metadata": {},
     "output_type": "execute_result"
    }
   ],
   "source": [
    "# Read in data, set index to column 0, parse dates and display first 5 rows\n",
    "test = pd.read_csv('./data/converted_test_2020_07_17_12-15-40.csv', index_col=0, parse_dates=['Flight_Date','Request_Date'])\n",
    "\n",
    "train = pd.read_csv('./data/converted_train_2020_07_17_12-15-40.csv', index_col=0, parse_dates=['Flight_Date','Request_Date'])\n",
    "train.head(5)"
   ]
  },
  {
   "cell_type": "code",
   "execution_count": 394,
   "metadata": {},
   "outputs": [
    {
     "name": "stdout",
     "output_type": "stream",
     "text": [
      "<class 'pandas.core.frame.DataFrame'>\n",
      "Int64Index: 83624 entries, 0 to 83623\n",
      "Data columns (total 21 columns):\n",
      " #   Column                   Non-Null Count  Dtype         \n",
      "---  ------                   --------------  -----         \n",
      " 0   Request_Date             83624 non-null  datetime64[ns]\n",
      " 1   Flight_Date              83624 non-null  datetime64[ns]\n",
      " 2   Duration_Time            83624 non-null  float64       \n",
      " 3   Departure_hour           83624 non-null  int64         \n",
      " 4   flight_unique_id         83624 non-null  object        \n",
      " 5   route_abb                83624 non-null  object        \n",
      " 6   flight_number            83624 non-null  object        \n",
      " 7   Price                    83624 non-null  float64       \n",
      " 8   Currency                 83624 non-null  object        \n",
      " 9   min_future_price         83624 non-null  float64       \n",
      " 10  price_in_eur             83624 non-null  float64       \n",
      " 11  min_future_price_in_eur  83624 non-null  float64       \n",
      " 12  Request_Weekday          83624 non-null  object        \n",
      " 13  Request_timeofday        83624 non-null  object        \n",
      " 14  Departure_timeofday      83624 non-null  object        \n",
      " 15  flight_distance_km       83624 non-null  float64       \n",
      " 16  Request_hour             83624 non-null  int64         \n",
      " 17  Request_Date_Month       83624 non-null  int64         \n",
      " 18  Flight_Date_Month        83624 non-null  int64         \n",
      " 19  route_abb_from           83624 non-null  object        \n",
      " 20  route_abb_to             83624 non-null  object        \n",
      "dtypes: datetime64[ns](2), float64(6), int64(4), object(9)\n",
      "memory usage: 14.0+ MB\n"
     ]
    }
   ],
   "source": [
    "# Show how many entries and columns, and if there are null-values and show the data types \n",
    "train.info()"
   ]
  },
  {
   "cell_type": "code",
   "execution_count": 395,
   "metadata": {},
   "outputs": [
    {
     "name": "stdout",
     "output_type": "stream",
     "text": [
      "The shape of our features is: (83624, 21)\n"
     ]
    }
   ],
   "source": [
    "print('The shape of our features is:', train.shape)"
   ]
  },
  {
   "cell_type": "markdown",
   "metadata": {},
   "source": [
    "We notice that we have 83.624 rows and 21 columns with 20 features. We have no missing date or null values in our data set. \n",
    "To identify any anomalies we compute the summary statistics and make some plots. "
   ]
  },
  {
   "cell_type": "code",
   "execution_count": 396,
   "metadata": {},
   "outputs": [
    {
     "data": {
      "text/html": [
       "<div>\n",
       "<style scoped>\n",
       "    .dataframe tbody tr th:only-of-type {\n",
       "        vertical-align: middle;\n",
       "    }\n",
       "\n",
       "    .dataframe tbody tr th {\n",
       "        vertical-align: top;\n",
       "    }\n",
       "\n",
       "    .dataframe thead th {\n",
       "        text-align: right;\n",
       "    }\n",
       "</style>\n",
       "<table border=\"1\" class=\"dataframe\">\n",
       "  <thead>\n",
       "    <tr style=\"text-align: right;\">\n",
       "      <th></th>\n",
       "      <th>Duration_Time</th>\n",
       "      <th>Departure_hour</th>\n",
       "      <th>Price</th>\n",
       "      <th>min_future_price</th>\n",
       "      <th>price_in_eur</th>\n",
       "      <th>min_future_price_in_eur</th>\n",
       "      <th>flight_distance_km</th>\n",
       "      <th>Request_hour</th>\n",
       "      <th>Request_Date_Month</th>\n",
       "      <th>Flight_Date_Month</th>\n",
       "    </tr>\n",
       "  </thead>\n",
       "  <tbody>\n",
       "    <tr>\n",
       "      <th>count</th>\n",
       "      <td>83624.00</td>\n",
       "      <td>83624.00</td>\n",
       "      <td>83624.00</td>\n",
       "      <td>83624.00</td>\n",
       "      <td>83624.00</td>\n",
       "      <td>83624.00</td>\n",
       "      <td>83624.00</td>\n",
       "      <td>83624.00</td>\n",
       "      <td>83624.00</td>\n",
       "      <td>83624.00</td>\n",
       "    </tr>\n",
       "    <tr>\n",
       "      <th>mean</th>\n",
       "      <td>929.92</td>\n",
       "      <td>12.97</td>\n",
       "      <td>68.16</td>\n",
       "      <td>53.70</td>\n",
       "      <td>71.95</td>\n",
       "      <td>56.70</td>\n",
       "      <td>805.25</td>\n",
       "      <td>16.98</td>\n",
       "      <td>6.46</td>\n",
       "      <td>7.71</td>\n",
       "    </tr>\n",
       "    <tr>\n",
       "      <th>std</th>\n",
       "      <td>548.57</td>\n",
       "      <td>6.18</td>\n",
       "      <td>51.93</td>\n",
       "      <td>43.79</td>\n",
       "      <td>54.78</td>\n",
       "      <td>46.16</td>\n",
       "      <td>137.93</td>\n",
       "      <td>6.00</td>\n",
       "      <td>0.55</td>\n",
       "      <td>0.83</td>\n",
       "    </tr>\n",
       "    <tr>\n",
       "      <th>min</th>\n",
       "      <td>19.00</td>\n",
       "      <td>6.00</td>\n",
       "      <td>8.99</td>\n",
       "      <td>8.99</td>\n",
       "      <td>8.99</td>\n",
       "      <td>8.99</td>\n",
       "      <td>618.63</td>\n",
       "      <td>11.00</td>\n",
       "      <td>6.00</td>\n",
       "      <td>6.00</td>\n",
       "    </tr>\n",
       "    <tr>\n",
       "      <th>25%</th>\n",
       "      <td>475.00</td>\n",
       "      <td>7.00</td>\n",
       "      <td>30.33</td>\n",
       "      <td>19.99</td>\n",
       "      <td>32.76</td>\n",
       "      <td>22.37</td>\n",
       "      <td>618.63</td>\n",
       "      <td>11.00</td>\n",
       "      <td>6.00</td>\n",
       "      <td>7.00</td>\n",
       "    </tr>\n",
       "    <tr>\n",
       "      <th>50%</th>\n",
       "      <td>883.00</td>\n",
       "      <td>10.00</td>\n",
       "      <td>52.01</td>\n",
       "      <td>39.46</td>\n",
       "      <td>55.07</td>\n",
       "      <td>42.06</td>\n",
       "      <td>907.20</td>\n",
       "      <td>11.00</td>\n",
       "      <td>6.00</td>\n",
       "      <td>8.00</td>\n",
       "    </tr>\n",
       "    <tr>\n",
       "      <th>75%</th>\n",
       "      <td>1328.00</td>\n",
       "      <td>19.00</td>\n",
       "      <td>88.73</td>\n",
       "      <td>73.43</td>\n",
       "      <td>91.79</td>\n",
       "      <td>73.43</td>\n",
       "      <td>907.20</td>\n",
       "      <td>23.00</td>\n",
       "      <td>7.00</td>\n",
       "      <td>8.00</td>\n",
       "    </tr>\n",
       "    <tr>\n",
       "      <th>max</th>\n",
       "      <td>2375.00</td>\n",
       "      <td>22.00</td>\n",
       "      <td>334.87</td>\n",
       "      <td>311.09</td>\n",
       "      <td>372.96</td>\n",
       "      <td>311.09</td>\n",
       "      <td>907.20</td>\n",
       "      <td>23.00</td>\n",
       "      <td>8.00</td>\n",
       "      <td>9.00</td>\n",
       "    </tr>\n",
       "  </tbody>\n",
       "</table>\n",
       "</div>"
      ],
      "text/plain": [
       "       Duration_Time  Departure_hour     Price  min_future_price  \\\n",
       "count       83624.00        83624.00  83624.00          83624.00   \n",
       "mean          929.92           12.97     68.16             53.70   \n",
       "std           548.57            6.18     51.93             43.79   \n",
       "min            19.00            6.00      8.99              8.99   \n",
       "25%           475.00            7.00     30.33             19.99   \n",
       "50%           883.00           10.00     52.01             39.46   \n",
       "75%          1328.00           19.00     88.73             73.43   \n",
       "max          2375.00           22.00    334.87            311.09   \n",
       "\n",
       "       price_in_eur  min_future_price_in_eur  flight_distance_km  \\\n",
       "count      83624.00                 83624.00            83624.00   \n",
       "mean          71.95                    56.70              805.25   \n",
       "std           54.78                    46.16              137.93   \n",
       "min            8.99                     8.99              618.63   \n",
       "25%           32.76                    22.37              618.63   \n",
       "50%           55.07                    42.06              907.20   \n",
       "75%           91.79                    73.43              907.20   \n",
       "max          372.96                   311.09              907.20   \n",
       "\n",
       "       Request_hour  Request_Date_Month  Flight_Date_Month  \n",
       "count      83624.00            83624.00           83624.00  \n",
       "mean          16.98                6.46               7.71  \n",
       "std            6.00                0.55               0.83  \n",
       "min           11.00                6.00               6.00  \n",
       "25%           11.00                6.00               7.00  \n",
       "50%           11.00                6.00               8.00  \n",
       "75%           23.00                7.00               8.00  \n",
       "max           23.00                8.00               9.00  "
      ]
     },
     "execution_count": 396,
     "metadata": {},
     "output_type": "execute_result"
    }
   ],
   "source": [
    "# Descriptive statistics for each column\n",
    "round(train.describe(), 2)"
   ]
  },
  {
   "cell_type": "markdown",
   "metadata": {},
   "source": [
    "There are not any data points immediately appear as anomalous and no zeros in any of the measurement columns. "
   ]
  },
  {
   "cell_type": "markdown",
   "metadata": {},
   "source": [
    "# Data preparation\n",
    "We will now do some minor modifications to put our data into machine-understandable terms. We will use the Python library Pandas for the data manipulation relying on the structure known as dataframe.\n",
    "\n",
    "The first step is the one-hot-encoding of the data. This process takes categorical variables, such as days of the week and converts it to a numerical representation without an arbitrary ordering."
   ]
  },
  {
   "cell_type": "code",
   "execution_count": 397,
   "metadata": {},
   "outputs": [],
   "source": [
    "# One Hot encoding for categorical values\n",
    "train = pd.get_dummies(train, columns=['Request_Weekday', 'Request_timeofday', 'Departure_timeofday', 'route_abb_from', 'route_abb_to', 'Departure_hour'])\n",
    "test = pd.get_dummies(test, columns=['Request_Weekday', 'Request_timeofday', 'Departure_timeofday', 'route_abb_from', 'route_abb_to', 'Departure_hour'])"
   ]
  },
  {
   "cell_type": "code",
   "execution_count": 398,
   "metadata": {},
   "outputs": [],
   "source": [
    "# Add train column\n",
    "test['training'] = 0\n",
    "train['training'] = 1\n",
    "\n",
    "# Equal columns across both tables\n",
    "combined = pd.concat([train,test], sort=False)\n",
    "train = combined[combined['training'] == 1]\n",
    "test = combined[combined['training'] == 0]\n",
    "\n",
    "# Fill NaN with 0\n",
    "train = train.fillna(0)\n",
    "test = test.fillna(0)\n",
    "\n",
    "# Drop train column\n",
    "test.drop(['training'], axis=1, inplace=True)\n",
    "train.drop(['training'], axis=1, inplace=True)"
   ]
  },
  {
   "cell_type": "code",
   "execution_count": 399,
   "metadata": {},
   "outputs": [],
   "source": [
    "# we tranform the date \n",
    "trainFeatures = [['min_future_price_in_eur', 'Duration_Time', 'price_in_eur', 'flight_distance_km']]\n",
    "for feature in trainFeatures:\n",
    "    train[feature] = np.log1p(train[feature])\n",
    "\n",
    "    \n",
    "testFeatures = [['Duration_Time', 'price_in_eur', 'flight_distance_km']]\n",
    "for feature in testFeatures:\n",
    "    test[feature] = np.log1p(test[feature])"
   ]
  },
  {
   "cell_type": "markdown",
   "metadata": {},
   "source": [
    "Now we drop the columns in the train and test date which we do not need for our model. "
   ]
  },
  {
   "cell_type": "code",
   "execution_count": 400,
   "metadata": {},
   "outputs": [],
   "source": [
    "# Drop columns we do not need from train\n",
    "train = train.drop(columns=['route_abb', 'min_future_price', 'Currency', 'flight_unique_id', 'Price', 'Request_Date', 'Flight_Date', 'Request_Date_Month', 'Flight_Date_Month', 'Request_hour', 'flight_number'])\n",
    "\n",
    "# Drop columns we do not need from test\n",
    "test_drop = test.drop(columns=['route_abb', 'min_future_price', 'Currency', 'flight_unique_id', 'Price', 'min_future_price', 'min_future_price_in_eur', 'Request_Date', 'Flight_Date', 'Request_Date_Month', 'Flight_Date_Month', 'Request_hour', 'flight_number'])"
   ]
  },
  {
   "cell_type": "code",
   "execution_count": 401,
   "metadata": {},
   "outputs": [
    {
     "data": {
      "text/html": [
       "<div>\n",
       "<style scoped>\n",
       "    .dataframe tbody tr th:only-of-type {\n",
       "        vertical-align: middle;\n",
       "    }\n",
       "\n",
       "    .dataframe tbody tr th {\n",
       "        vertical-align: top;\n",
       "    }\n",
       "\n",
       "    .dataframe thead th {\n",
       "        text-align: right;\n",
       "    }\n",
       "</style>\n",
       "<table border=\"1\" class=\"dataframe\">\n",
       "  <thead>\n",
       "    <tr style=\"text-align: right;\">\n",
       "      <th></th>\n",
       "      <th>Duration_Time</th>\n",
       "      <th>price_in_eur</th>\n",
       "      <th>min_future_price_in_eur</th>\n",
       "      <th>flight_distance_km</th>\n",
       "      <th>Request_Weekday_Friday</th>\n",
       "      <th>Request_Weekday_Monday</th>\n",
       "      <th>Request_Weekday_Saturday</th>\n",
       "      <th>Request_Weekday_Sunday</th>\n",
       "      <th>Request_Weekday_Thursday</th>\n",
       "      <th>Request_Weekday_Tuesday</th>\n",
       "      <th>...</th>\n",
       "      <th>route_abb_to_SXF</th>\n",
       "      <th>Departure_hour_6</th>\n",
       "      <th>Departure_hour_7</th>\n",
       "      <th>Departure_hour_8</th>\n",
       "      <th>Departure_hour_9</th>\n",
       "      <th>Departure_hour_10</th>\n",
       "      <th>Departure_hour_18</th>\n",
       "      <th>Departure_hour_19</th>\n",
       "      <th>Departure_hour_21</th>\n",
       "      <th>Departure_hour_22</th>\n",
       "    </tr>\n",
       "  </thead>\n",
       "  <tbody>\n",
       "    <tr>\n",
       "      <th>count</th>\n",
       "      <td>83624.00</td>\n",
       "      <td>83624.00</td>\n",
       "      <td>83624.00</td>\n",
       "      <td>83624.00</td>\n",
       "      <td>83624.00</td>\n",
       "      <td>83624.00</td>\n",
       "      <td>83624.00</td>\n",
       "      <td>83624.00</td>\n",
       "      <td>83624.00</td>\n",
       "      <td>83624.00</td>\n",
       "      <td>...</td>\n",
       "      <td>83624.00</td>\n",
       "      <td>83624.00</td>\n",
       "      <td>83624.00</td>\n",
       "      <td>83624.00</td>\n",
       "      <td>83624.00</td>\n",
       "      <td>83624.00</td>\n",
       "      <td>83624.00</td>\n",
       "      <td>83624.00</td>\n",
       "      <td>83624.00</td>\n",
       "      <td>83624.00</td>\n",
       "    </tr>\n",
       "    <tr>\n",
       "      <th>mean</th>\n",
       "      <td>6.59</td>\n",
       "      <td>4.04</td>\n",
       "      <td>3.79</td>\n",
       "      <td>6.68</td>\n",
       "      <td>0.14</td>\n",
       "      <td>0.15</td>\n",
       "      <td>0.14</td>\n",
       "      <td>0.13</td>\n",
       "      <td>0.14</td>\n",
       "      <td>0.15</td>\n",
       "      <td>...</td>\n",
       "      <td>0.32</td>\n",
       "      <td>0.21</td>\n",
       "      <td>0.18</td>\n",
       "      <td>0.05</td>\n",
       "      <td>0.00</td>\n",
       "      <td>0.08</td>\n",
       "      <td>0.15</td>\n",
       "      <td>0.24</td>\n",
       "      <td>0.01</td>\n",
       "      <td>0.08</td>\n",
       "    </tr>\n",
       "    <tr>\n",
       "      <th>std</th>\n",
       "      <td>0.81</td>\n",
       "      <td>0.70</td>\n",
       "      <td>0.73</td>\n",
       "      <td>0.18</td>\n",
       "      <td>0.35</td>\n",
       "      <td>0.36</td>\n",
       "      <td>0.34</td>\n",
       "      <td>0.34</td>\n",
       "      <td>0.35</td>\n",
       "      <td>0.36</td>\n",
       "      <td>...</td>\n",
       "      <td>0.47</td>\n",
       "      <td>0.41</td>\n",
       "      <td>0.38</td>\n",
       "      <td>0.22</td>\n",
       "      <td>0.03</td>\n",
       "      <td>0.27</td>\n",
       "      <td>0.36</td>\n",
       "      <td>0.43</td>\n",
       "      <td>0.10</td>\n",
       "      <td>0.27</td>\n",
       "    </tr>\n",
       "    <tr>\n",
       "      <th>min</th>\n",
       "      <td>3.00</td>\n",
       "      <td>2.30</td>\n",
       "      <td>2.30</td>\n",
       "      <td>6.43</td>\n",
       "      <td>0.00</td>\n",
       "      <td>0.00</td>\n",
       "      <td>0.00</td>\n",
       "      <td>0.00</td>\n",
       "      <td>0.00</td>\n",
       "      <td>0.00</td>\n",
       "      <td>...</td>\n",
       "      <td>0.00</td>\n",
       "      <td>0.00</td>\n",
       "      <td>0.00</td>\n",
       "      <td>0.00</td>\n",
       "      <td>0.00</td>\n",
       "      <td>0.00</td>\n",
       "      <td>0.00</td>\n",
       "      <td>0.00</td>\n",
       "      <td>0.00</td>\n",
       "      <td>0.00</td>\n",
       "    </tr>\n",
       "    <tr>\n",
       "      <th>25%</th>\n",
       "      <td>6.17</td>\n",
       "      <td>3.52</td>\n",
       "      <td>3.15</td>\n",
       "      <td>6.43</td>\n",
       "      <td>0.00</td>\n",
       "      <td>0.00</td>\n",
       "      <td>0.00</td>\n",
       "      <td>0.00</td>\n",
       "      <td>0.00</td>\n",
       "      <td>0.00</td>\n",
       "      <td>...</td>\n",
       "      <td>0.00</td>\n",
       "      <td>0.00</td>\n",
       "      <td>0.00</td>\n",
       "      <td>0.00</td>\n",
       "      <td>0.00</td>\n",
       "      <td>0.00</td>\n",
       "      <td>0.00</td>\n",
       "      <td>0.00</td>\n",
       "      <td>0.00</td>\n",
       "      <td>0.00</td>\n",
       "    </tr>\n",
       "    <tr>\n",
       "      <th>50%</th>\n",
       "      <td>6.78</td>\n",
       "      <td>4.03</td>\n",
       "      <td>3.76</td>\n",
       "      <td>6.81</td>\n",
       "      <td>0.00</td>\n",
       "      <td>0.00</td>\n",
       "      <td>0.00</td>\n",
       "      <td>0.00</td>\n",
       "      <td>0.00</td>\n",
       "      <td>0.00</td>\n",
       "      <td>...</td>\n",
       "      <td>0.00</td>\n",
       "      <td>0.00</td>\n",
       "      <td>0.00</td>\n",
       "      <td>0.00</td>\n",
       "      <td>0.00</td>\n",
       "      <td>0.00</td>\n",
       "      <td>0.00</td>\n",
       "      <td>0.00</td>\n",
       "      <td>0.00</td>\n",
       "      <td>0.00</td>\n",
       "    </tr>\n",
       "    <tr>\n",
       "      <th>75%</th>\n",
       "      <td>7.19</td>\n",
       "      <td>4.53</td>\n",
       "      <td>4.31</td>\n",
       "      <td>6.81</td>\n",
       "      <td>0.00</td>\n",
       "      <td>0.00</td>\n",
       "      <td>0.00</td>\n",
       "      <td>0.00</td>\n",
       "      <td>0.00</td>\n",
       "      <td>0.00</td>\n",
       "      <td>...</td>\n",
       "      <td>1.00</td>\n",
       "      <td>0.00</td>\n",
       "      <td>0.00</td>\n",
       "      <td>0.00</td>\n",
       "      <td>0.00</td>\n",
       "      <td>0.00</td>\n",
       "      <td>0.00</td>\n",
       "      <td>0.00</td>\n",
       "      <td>0.00</td>\n",
       "      <td>0.00</td>\n",
       "    </tr>\n",
       "    <tr>\n",
       "      <th>max</th>\n",
       "      <td>7.77</td>\n",
       "      <td>5.92</td>\n",
       "      <td>5.74</td>\n",
       "      <td>6.81</td>\n",
       "      <td>1.00</td>\n",
       "      <td>1.00</td>\n",
       "      <td>1.00</td>\n",
       "      <td>1.00</td>\n",
       "      <td>1.00</td>\n",
       "      <td>1.00</td>\n",
       "      <td>...</td>\n",
       "      <td>1.00</td>\n",
       "      <td>1.00</td>\n",
       "      <td>1.00</td>\n",
       "      <td>1.00</td>\n",
       "      <td>1.00</td>\n",
       "      <td>1.00</td>\n",
       "      <td>1.00</td>\n",
       "      <td>1.00</td>\n",
       "      <td>1.00</td>\n",
       "      <td>1.00</td>\n",
       "    </tr>\n",
       "  </tbody>\n",
       "</table>\n",
       "<p>8 rows × 31 columns</p>\n",
       "</div>"
      ],
      "text/plain": [
       "       Duration_Time  price_in_eur  min_future_price_in_eur  \\\n",
       "count       83624.00      83624.00                 83624.00   \n",
       "mean            6.59          4.04                     3.79   \n",
       "std             0.81          0.70                     0.73   \n",
       "min             3.00          2.30                     2.30   \n",
       "25%             6.17          3.52                     3.15   \n",
       "50%             6.78          4.03                     3.76   \n",
       "75%             7.19          4.53                     4.31   \n",
       "max             7.77          5.92                     5.74   \n",
       "\n",
       "       flight_distance_km  Request_Weekday_Friday  Request_Weekday_Monday  \\\n",
       "count            83624.00                83624.00                83624.00   \n",
       "mean                 6.68                    0.14                    0.15   \n",
       "std                  0.18                    0.35                    0.36   \n",
       "min                  6.43                    0.00                    0.00   \n",
       "25%                  6.43                    0.00                    0.00   \n",
       "50%                  6.81                    0.00                    0.00   \n",
       "75%                  6.81                    0.00                    0.00   \n",
       "max                  6.81                    1.00                    1.00   \n",
       "\n",
       "       Request_Weekday_Saturday  Request_Weekday_Sunday  \\\n",
       "count                  83624.00                83624.00   \n",
       "mean                       0.14                    0.13   \n",
       "std                        0.34                    0.34   \n",
       "min                        0.00                    0.00   \n",
       "25%                        0.00                    0.00   \n",
       "50%                        0.00                    0.00   \n",
       "75%                        0.00                    0.00   \n",
       "max                        1.00                    1.00   \n",
       "\n",
       "       Request_Weekday_Thursday  Request_Weekday_Tuesday  ...  \\\n",
       "count                  83624.00                 83624.00  ...   \n",
       "mean                       0.14                     0.15  ...   \n",
       "std                        0.35                     0.36  ...   \n",
       "min                        0.00                     0.00  ...   \n",
       "25%                        0.00                     0.00  ...   \n",
       "50%                        0.00                     0.00  ...   \n",
       "75%                        0.00                     0.00  ...   \n",
       "max                        1.00                     1.00  ...   \n",
       "\n",
       "       route_abb_to_SXF  Departure_hour_6  Departure_hour_7  Departure_hour_8  \\\n",
       "count          83624.00          83624.00          83624.00          83624.00   \n",
       "mean               0.32              0.21              0.18              0.05   \n",
       "std                0.47              0.41              0.38              0.22   \n",
       "min                0.00              0.00              0.00              0.00   \n",
       "25%                0.00              0.00              0.00              0.00   \n",
       "50%                0.00              0.00              0.00              0.00   \n",
       "75%                1.00              0.00              0.00              0.00   \n",
       "max                1.00              1.00              1.00              1.00   \n",
       "\n",
       "       Departure_hour_9  Departure_hour_10  Departure_hour_18  \\\n",
       "count          83624.00           83624.00           83624.00   \n",
       "mean               0.00               0.08               0.15   \n",
       "std                0.03               0.27               0.36   \n",
       "min                0.00               0.00               0.00   \n",
       "25%                0.00               0.00               0.00   \n",
       "50%                0.00               0.00               0.00   \n",
       "75%                0.00               0.00               0.00   \n",
       "max                1.00               1.00               1.00   \n",
       "\n",
       "       Departure_hour_19  Departure_hour_21  Departure_hour_22  \n",
       "count           83624.00           83624.00           83624.00  \n",
       "mean                0.24               0.01               0.08  \n",
       "std                 0.43               0.10               0.27  \n",
       "min                 0.00               0.00               0.00  \n",
       "25%                 0.00               0.00               0.00  \n",
       "50%                 0.00               0.00               0.00  \n",
       "75%                 0.00               0.00               0.00  \n",
       "max                 1.00               1.00               1.00  \n",
       "\n",
       "[8 rows x 31 columns]"
      ]
     },
     "execution_count": 401,
     "metadata": {},
     "output_type": "execute_result"
    }
   ],
   "source": [
    "# Descriptive statistics for each column\n",
    "round(train.describe(), 2)"
   ]
  },
  {
   "cell_type": "markdown",
   "metadata": {},
   "source": [
    "In the next step we separate the data into the features and targets. The target, also known as the label, is the value we want to predict, in this case the min_future_price and the features are all the columns the model uses to make a prediction. We will also convert the Pandas dataframes to Numpy arrays because that is the way the algorithm works. "
   ]
  },
  {
   "cell_type": "code",
   "execution_count": 402,
   "metadata": {},
   "outputs": [],
   "source": [
    "# Use numpy to convert the Pandas dataframes to arrays\n",
    "# y is the value or label we want to predict\n",
    "y = np.array(train['min_future_price_in_eur'])\n",
    "\n",
    "# Remove the label from the features\n",
    "# axis 1 refers to the columns\n",
    "X = train.drop('min_future_price_in_eur', axis = 1)\n",
    "\n",
    "# Saving feature names\n",
    "feature_list_1 = list(X.columns)\n",
    "\n",
    "# Convert to numpy array\n",
    "#X = np.array(X)"
   ]
  },
  {
   "cell_type": "markdown",
   "metadata": {},
   "source": [
    "# Feature importance\n",
    "In order to quantify the usefulness of all the variables in the entire random forest, we can look at the relative importances of the variables. The importances returned in Skicit-learn represent how much including a particular variable improves the prediction. "
   ]
  },
  {
   "cell_type": "code",
   "execution_count": 403,
   "metadata": {},
   "outputs": [
    {
     "name": "stdout",
     "output_type": "stream",
     "text": [
      "0.8624987133561871\n",
      "[1.71433116e-01 8.26672501e-01 0.00000000e+00 2.42579394e-02\n",
      " 1.08496877e-02 8.41869757e-03 9.41397849e-03 1.23956749e-02\n",
      " 0.00000000e+00 0.00000000e+00 4.60710603e-03 1.66881496e-16\n",
      " 2.18842475e-02 0.00000000e+00 0.00000000e+00 3.37966837e-02\n",
      " 8.94666279e-03 0.00000000e+00 0.00000000e+00 2.20986130e-17\n",
      " 3.11123235e-02 1.13804303e-02 0.00000000e+00 0.00000000e+00\n",
      " 0.00000000e+00 4.64028556e-02 5.35796432e-02 0.00000000e+00\n",
      " 0.00000000e+00 1.58370878e-02]\n"
     ]
    }
   ],
   "source": [
    "# Features with the highest absolute coef_ value are considered the most important\n",
    "feature_names = X.columns\n",
    "clf = LassoCV(cv=100).fit(X, y)\n",
    "print(clf.score(X, y))\n",
    "importance = np.abs(clf.coef_)\n",
    "print(importance)"
   ]
  },
  {
   "cell_type": "code",
   "execution_count": 404,
   "metadata": {},
   "outputs": [
    {
     "name": "stdout",
     "output_type": "stream",
     "text": [
      "Selected features: ['price_in_eur' 'Duration_Time' 'Departure_hour_18' 'Departure_hour_10'\n",
      " 'route_abb_from_FRA' 'route_abb_to_SXF']\n"
     ]
    }
   ],
   "source": [
    "idx_third = importance.argsort()[-3]\n",
    "threshold = importance[idx_third] + 0.01\n",
    "\n",
    "idx_features = (-importance).argsort()[:6]\n",
    "name_features = np.array(feature_names)[idx_features]\n",
    "print('Selected features: {}'.format(name_features))\n",
    "\n",
    "sfm = SelectFromModel(clf, threshold=threshold)\n",
    "sfm.fit(X, y)\n",
    "X_transform = sfm.transform(X)\n",
    "\n",
    "n_features = sfm.transform(X).shape[1]"
   ]
  },
  {
   "cell_type": "code",
   "execution_count": 405,
   "metadata": {},
   "outputs": [
    {
     "data": {
      "image/png": "[encoded data removed]",
      "text/plain": [
       "<Figure size 432x288 with 1 Axes>"
      ]
     },
     "metadata": {
      "needs_background": "light"
     },
     "output_type": "display_data"
    }
   ],
   "source": [
    "plt.title(\n",
    "    \"Features from data using SelectFromModel with \"\n",
    "    \"threshold %0.3f.\" % sfm.threshold)\n",
    "feature1 = X_transform[:, 0]\n",
    "feature2 = X_transform[:, 1]\n",
    "plt.plot(feature1, feature2, 'r.')\n",
    "plt.xlabel(\"First feature: {}\".format(name_features[0]))\n",
    "plt.ylabel(\"Second feature: {}\".format(name_features[1]))\n",
    "plt.ylim([np.min(feature2), np.max(feature2)])\n",
    "plt.show()"
   ]
  },
  {
   "cell_type": "code",
   "execution_count": 406,
   "metadata": {},
   "outputs": [],
   "source": [
    "features = name_features\n",
    "X = X[features]"
   ]
  },
  {
   "cell_type": "code",
   "execution_count": 407,
   "metadata": {},
   "outputs": [],
   "source": [
    "# Saving feature names for later use for visualizations\n",
    "feature_list = list(X.columns)\n",
    "\n",
    "# Convert to numpy array\n",
    "X = np.array(X)"
   ]
  },
  {
   "cell_type": "markdown",
   "metadata": {},
   "source": [
    "# Splitting data into training and testing sets\n",
    "During training, we let the model ‘see’ the answers, in this case the min_future_price_inr_eur, so it can learn how to predict the price from the features. \n",
    "We split 80% of the data to the training set and 20% to the testing set. We set the random state to 42 which means the results will be the same each time I run the split for reproducible results."
   ]
  },
  {
   "cell_type": "code",
   "execution_count": 408,
   "metadata": {},
   "outputs": [],
   "source": [
    "# Using Skicit-learn to split data into training and testing sets\n",
    "from sklearn.model_selection import train_test_split\n",
    "\n",
    "# Split the data into training and testing sets\n",
    "X_train, X_test, y_train, y_test = train_test_split(X, y, test_size = 0.20, random_state = 42)"
   ]
  },
  {
   "cell_type": "markdown",
   "metadata": {},
   "source": [
    "We look at the shape of all the data to make sure we did everything correctly. The training features number of columns match the testing feature number of columns and the number of rows match for the respective training and testing features and the labels:"
   ]
  },
  {
   "cell_type": "code",
   "execution_count": 409,
   "metadata": {},
   "outputs": [
    {
     "name": "stdout",
     "output_type": "stream",
     "text": [
      "Training Features Shape: (66899, 6)\n",
      "Training Labels Shape: (66899,)\n",
      "Testing Features Shape: (16725, 6)\n",
      "Testing Labels Shape: (16725,)\n"
     ]
    }
   ],
   "source": [
    "print('Training Features Shape:', X_train.shape)\n",
    "print('Training Labels Shape:', y_train.shape)\n",
    "print('Testing Features Shape:', X_test.shape)\n",
    "print('Testing Labels Shape:', y_test.shape)"
   ]
  },
  {
   "cell_type": "markdown",
   "metadata": {},
   "source": [
    "# Establish Baseline\n",
    "Before we can make and evaluate predictions, we need to establish a baseline. If our model cannot improve upon the baseline, then it will be a failure and we should try a different model. The baseline prediction for our case can be the historical average price_in_eur. The baseline is the error we would get if we simply predicted the average price_in_eur for all flight requests.\n",
    "If we can't beat an average error of 0.63, then we need to rethink our approach."
   ]
  },
  {
   "cell_type": "code",
   "execution_count": 410,
   "metadata": {},
   "outputs": [
    {
     "name": "stdout",
     "output_type": "stream",
     "text": [
      "Average baseline error:  0.63\n"
     ]
    }
   ],
   "source": [
    "# The baseline predictions are the historical averages\n",
    "baseline_preds = X_test[:, feature_list.index('price_in_eur')].mean()\n",
    "\n",
    "# Baseline errors, and display average baseline error\n",
    "baseline_errors = abs(baseline_preds - y_test)\n",
    "\n",
    "print('Average baseline error: ', round(np.mean(baseline_errors), 2))"
   ]
  },
  {
   "cell_type": "markdown",
   "metadata": {},
   "source": [
    "# Build and train the model\n",
    "After splitting the data into training and testing set, we can train the algorithm. For that we instantiate the Random Forest Regressor with 80 trees and a random state of 42. We call the fit method along with the training data. "
   ]
  },
  {
   "cell_type": "code",
   "execution_count": 413,
   "metadata": {},
   "outputs": [],
   "source": [
    "# Import the model we are using\n",
    "from sklearn.ensemble import RandomForestRegressor\n",
    "\n",
    "# Instantiate model with 60 decision trees\n",
    "rf_reg = RandomForestRegressor(n_estimators = 80, random_state = 42)\n",
    "\n",
    "# Train the model on training data\n",
    "rf_model = rf_reg.fit(X_train, y_train)"
   ]
  },
  {
   "cell_type": "markdown",
   "metadata": {},
   "source": [
    "To see which parameters are used by our Random Forest we print them out. We use Bootstrapping, which is a statistical resampling technique that involves random sampling of a dataset with replacement. Our criterion is the Mean Squared Error."
   ]
  },
  {
   "cell_type": "code",
   "execution_count": 414,
   "metadata": {},
   "outputs": [
    {
     "name": "stdout",
     "output_type": "stream",
     "text": [
      "Parameters currently in use:\n",
      "\n",
      "{'bootstrap': True,\n",
      " 'ccp_alpha': 0.0,\n",
      " 'criterion': 'mse',\n",
      " 'max_depth': None,\n",
      " 'max_features': 'auto',\n",
      " 'max_leaf_nodes': None,\n",
      " 'max_samples': None,\n",
      " 'min_impurity_decrease': 0.0,\n",
      " 'min_impurity_split': None,\n",
      " 'min_samples_leaf': 1,\n",
      " 'min_samples_split': 2,\n",
      " 'min_weight_fraction_leaf': 0.0,\n",
      " 'n_estimators': 80,\n",
      " 'n_jobs': None,\n",
      " 'oob_score': False,\n",
      " 'random_state': 42,\n",
      " 'verbose': 0,\n",
      " 'warm_start': False}\n"
     ]
    }
   ],
   "source": [
    "from pprint import pprint\n",
    "\n",
    "# Look at parameters used by our current forest\n",
    "print('Parameters currently in use:\\n')\n",
    "pprint(rf_reg.get_params())"
   ]
  },
  {
   "cell_type": "markdown",
   "metadata": {},
   "source": [
    "# Make Predictions on the model\n",
    "Now that we have trained our algorithm, we can make some predictions. Therefore we use the test features and see how accurately the algorithm predict the min future price. \n",
    "When performing regression, we need to make sure to use the absolute error because we expect some of our answers to be low and some to be high. We are interested in how far away our average prediction is from the actual value so we take the absolute value.\n",
    "We compare the actual output values for X_test with the predicted values. \n",
    "We also visualize the comparison result as a bar graph and we take 25 records for the visualization. "
   ]
  },
  {
   "cell_type": "code",
   "execution_count": 416,
   "metadata": {},
   "outputs": [],
   "source": [
    "# Use the forest's predict method on the test data\n",
    "y_pred = rf_reg.predict(X_test)"
   ]
  },
  {
   "cell_type": "code",
   "execution_count": 417,
   "metadata": {},
   "outputs": [
    {
     "data": {
      "text/plain": [
       "<matplotlib.collections.PathCollection at 0x1b81724e608>"
      ]
     },
     "execution_count": 417,
     "metadata": {},
     "output_type": "execute_result"
    },
    {
     "data": {
      "image/png": "[encoded data removed]",
      "text/plain": [
       "<Figure size 432x288 with 1 Axes>"
      ]
     },
     "metadata": {
      "needs_background": "light"
     },
     "output_type": "display_data"
    }
   ],
   "source": [
    "# Make cross validated predictions\n",
    "predictions = cross_val_predict(rf_model, X, y, cv=6)\n",
    "plt.scatter(y, predictions)"
   ]
  },
  {
   "cell_type": "code",
   "execution_count": 418,
   "metadata": {},
   "outputs": [
    {
     "data": {
      "text/html": [
       "<div>\n",
       "<style scoped>\n",
       "    .dataframe tbody tr th:only-of-type {\n",
       "        vertical-align: middle;\n",
       "    }\n",
       "\n",
       "    .dataframe tbody tr th {\n",
       "        vertical-align: top;\n",
       "    }\n",
       "\n",
       "    .dataframe thead th {\n",
       "        text-align: right;\n",
       "    }\n",
       "</style>\n",
       "<table border=\"1\" class=\"dataframe\">\n",
       "  <thead>\n",
       "    <tr style=\"text-align: right;\">\n",
       "      <th></th>\n",
       "      <th>Actual</th>\n",
       "      <th>Predicted</th>\n",
       "    </tr>\n",
       "  </thead>\n",
       "  <tbody>\n",
       "    <tr>\n",
       "      <th>0</th>\n",
       "      <td>3.56</td>\n",
       "      <td>3.64</td>\n",
       "    </tr>\n",
       "    <tr>\n",
       "      <th>1</th>\n",
       "      <td>3.85</td>\n",
       "      <td>3.93</td>\n",
       "    </tr>\n",
       "    <tr>\n",
       "      <th>2</th>\n",
       "      <td>3.70</td>\n",
       "      <td>3.72</td>\n",
       "    </tr>\n",
       "    <tr>\n",
       "      <th>3</th>\n",
       "      <td>4.50</td>\n",
       "      <td>4.54</td>\n",
       "    </tr>\n",
       "    <tr>\n",
       "      <th>4</th>\n",
       "      <td>3.95</td>\n",
       "      <td>4.03</td>\n",
       "    </tr>\n",
       "    <tr>\n",
       "      <th>...</th>\n",
       "      <td>...</td>\n",
       "      <td>...</td>\n",
       "    </tr>\n",
       "    <tr>\n",
       "      <th>16720</th>\n",
       "      <td>3.18</td>\n",
       "      <td>3.22</td>\n",
       "    </tr>\n",
       "    <tr>\n",
       "      <th>16721</th>\n",
       "      <td>3.75</td>\n",
       "      <td>3.30</td>\n",
       "    </tr>\n",
       "    <tr>\n",
       "      <th>16722</th>\n",
       "      <td>4.67</td>\n",
       "      <td>4.68</td>\n",
       "    </tr>\n",
       "    <tr>\n",
       "      <th>16723</th>\n",
       "      <td>3.59</td>\n",
       "      <td>3.58</td>\n",
       "    </tr>\n",
       "    <tr>\n",
       "      <th>16724</th>\n",
       "      <td>2.94</td>\n",
       "      <td>2.94</td>\n",
       "    </tr>\n",
       "  </tbody>\n",
       "</table>\n",
       "<p>16725 rows × 2 columns</p>\n",
       "</div>"
      ],
      "text/plain": [
       "       Actual  Predicted\n",
       "0        3.56       3.64\n",
       "1        3.85       3.93\n",
       "2        3.70       3.72\n",
       "3        4.50       4.54\n",
       "4        3.95       4.03\n",
       "...       ...        ...\n",
       "16720    3.18       3.22\n",
       "16721    3.75       3.30\n",
       "16722    4.67       4.68\n",
       "16723    3.59       3.58\n",
       "16724    2.94       2.94\n",
       "\n",
       "[16725 rows x 2 columns]"
      ]
     },
     "execution_count": 418,
     "metadata": {},
     "output_type": "execute_result"
    }
   ],
   "source": [
    "# compare actual output values with the predicted values\n",
    "df = round(pd.DataFrame({'Actual': y_test.flatten(), 'Predicted': y_pred.flatten()}), 2)\n",
    "df"
   ]
  },
  {
   "cell_type": "code",
   "execution_count": 419,
   "metadata": {},
   "outputs": [
    {
     "data": {
      "image/png": "[encoded data removed]",
      "text/plain": [
       "<Figure size 1152x720 with 1 Axes>"
      ]
     },
     "metadata": {},
     "output_type": "display_data"
    }
   ],
   "source": [
    "# Set the style\n",
    "plt.style.use('seaborn')\n",
    "\n",
    "# plot 25 records where the price is shown on the y-axes and the number of record on the x-axes\n",
    "df1 = df.head(25)\n",
    "df1.plot(kind='bar',figsize=(16,10))\n",
    "plt.grid(which='major', linestyle='-', linewidth='0.5', color='blue')\n",
    "plt.grid(which='minor', linestyle=':', linewidth='0.5', color='black')\n",
    "plt.show()"
   ]
  },
  {
   "cell_type": "markdown",
   "metadata": {},
   "source": [
    "Our model is not very precise, but the predicted percentages are close to the actual ones. "
   ]
  },
  {
   "cell_type": "markdown",
   "metadata": {},
   "source": [
    "# Evaluation of the model \n",
    "We evaluate the performance of the algorithm. For regression algorithms, three evaluation metrics are commonly used. Mean Absolute Error (MAE), Mean Squared Error (MSE) and the Root Mean Squared Error (RMSE). For these metrics we are using the test data. "
   ]
  },
  {
   "cell_type": "code",
   "execution_count": 420,
   "metadata": {},
   "outputs": [
    {
     "name": "stdout",
     "output_type": "stream",
     "text": [
      "Score: 0.8886026455705849\n",
      "Cross-validated scores: [0.74452201 0.83362214 0.81512264 0.72688247 0.70680095 0.7162352 ]\n"
     ]
    }
   ],
   "source": [
    "# Return the mean accuracy on the given test data and labels\n",
    "print('Score:', rf_reg.score(X_test, y_test))\n",
    "\n",
    "# Return the mean accuracy on the given test data and labels with cross validation \n",
    "scores = cross_val_score(rf_model, X, y, cv=6)\n",
    "print('Cross-validated scores:', scores)"
   ]
  },
  {
   "cell_type": "markdown",
   "metadata": {},
   "source": [
    "With our model we have a mean accuracy of 88.9%. With Cross Validation we have a worse result where 83,4% is the highest. "
   ]
  },
  {
   "cell_type": "code",
   "execution_count": 421,
   "metadata": {},
   "outputs": [
    {
     "name": "stdout",
     "output_type": "stream",
     "text": [
      "Mean Absolute Error: 0.17\n",
      "Mean Squared Error: 0.06\n",
      "Root Mean Squared Error: 0.24\n"
     ]
    }
   ],
   "source": [
    "# Calculate the absolute errors\n",
    "errors = abs(y_pred - y_test)\n",
    "\n",
    "# Print out the mean absolute error (MAE)\n",
    "print('Mean Absolute Error:', round(np.mean(errors), 2))\n",
    "\n",
    "# Print out the mean squared error (MSE)\n",
    "print('Mean Squared Error:', round(np.square(errors).mean(), 2))  \n",
    "\n",
    "# Print out the root mean squared error (RMSE)\n",
    "print('Root Mean Squared Error:', round(np.sqrt(metrics.mean_squared_error(y_test, y_pred)), 2))"
   ]
  },
  {
   "cell_type": "code",
   "execution_count": 422,
   "metadata": {},
   "outputs": [
    {
     "name": "stdout",
     "output_type": "stream",
     "text": [
      "Accuracy: 95.49 %\n"
     ]
    }
   ],
   "source": [
    "# Calculate mean absolute percentage error (MAPE)\n",
    "mape = 100 * (errors / y_test)\n",
    "\n",
    "# Calculate and display accuracy\n",
    "accuracy = 100 - np.mean(mape)\n",
    "print('Accuracy:', round(accuracy, 2), '%')"
   ]
  },
  {
   "cell_type": "markdown",
   "metadata": {},
   "source": [
    "Our model has learned how to predict the min future price for a flight with 95.94% accuracy. "
   ]
  },
  {
   "cell_type": "markdown",
   "metadata": {},
   "source": [
    "# Improve the model \n",
    "First we will look at a single tree in the forest, and second, we look at the feature importances. "
   ]
  },
  {
   "cell_type": "code",
   "execution_count": 236,
   "metadata": {},
   "outputs": [],
   "source": [
    "# Pull out one tree from the forest\n",
    "#tree = rf_reg.estimators_[5]\n",
    "\n",
    "# Export the image to a dot file\n",
    "#export_graphviz(tree, out_file = 'tree.dot', feature_names = feature_list, rounded = True, precision = 1)\n",
    "\n",
    "# Use dot file to create a graph\n",
    "#(graph, ) = pydot.graph_from_dot_file('tree.dot')\n",
    "\n",
    "# Write graph to a png file\n",
    "#graph.write_png('tree.png')"
   ]
  },
  {
   "cell_type": "code",
   "execution_count": 423,
   "metadata": {},
   "outputs": [],
   "source": [
    "# The following code takes one tree from the forest and saves it as an image.\n",
    "# Limit depth of tree to 3 levels\n",
    "rf_reg_small = RandomForestRegressor(n_estimators=10, max_depth = 3)\n",
    "rf_reg_small.fit(X_train, y_train)\n",
    "\n",
    "# Extract the small tree\n",
    "tree_small = rf_reg_small.estimators_[5]\n",
    "\n",
    "# Save the tree as a png image\n",
    "export_graphviz(tree_small, out_file = 'small_tree.dot', feature_names = features, rounded = True, precision = 1)\n",
    "(graph, ) = pydot.graph_from_dot_file('small_tree.dot')\n",
    "graph.write_png('small_tree.png');"
   ]
  },
  {
   "cell_type": "markdown",
   "metadata": {},
   "source": [
    "Based solely on this tree, we can make a prediction for any new data point. An interesting observation is that in the root node, there are only 42.271 samples despite there being 66.899 training data points. This is because each tree in the forest is trained on a random subset of the data points with replacement (We can turn off the sampling with replacement and use all the data points by setting bootstrap = False when making the forest).\n",
    "\n",
    "Furthermore, we see that in our tree, there is only one variable we actually used to make a prediction. The only important information according to our simple tree is the price_in_eur and the duration time. "
   ]
  },
  {
   "cell_type": "markdown",
   "metadata": {},
   "source": [
    "We can look at the features again and take the two most important from them. "
   ]
  },
  {
   "cell_type": "code",
   "execution_count": 424,
   "metadata": {},
   "outputs": [
    {
     "name": "stdout",
     "output_type": "stream",
     "text": [
      "Variable: price_in_eur         Importance: 0.8984\n",
      "Variable: Duration_Time        Importance: 0.0829\n",
      "Variable: Departure_hour_18    Importance: 0.0052\n",
      "Variable: route_abb_from_FRA   Importance: 0.0049\n",
      "Variable: route_abb_to_SXF     Importance: 0.0049\n",
      "Variable: Departure_hour_10    Importance: 0.0037\n"
     ]
    }
   ],
   "source": [
    "# Get numerical feature importances\n",
    "importances = list(rf_reg.feature_importances_)\n",
    "\n",
    "# List of tuples with variable and importance\n",
    "feature_importances = [(feature, round(importance, 4)) for feature, importance in zip(feature_list, importances)]\n",
    "\n",
    "# Sort the feature importances by most important first\n",
    "feature_importances = sorted(feature_importances, key = lambda x: x[1], reverse = True)\n",
    "\n",
    "# Print out the feature and importances \n",
    "[print('Variable: {:20} Importance: {}'.format(*pair)) for pair in feature_importances];"
   ]
  },
  {
   "cell_type": "markdown",
   "metadata": {},
   "source": [
    "A simple bar plot of the feature importances to illustrate the disparities in the relative significance of the variables.\n",
    "Next, we plot the entire dataset with predictions highlighted. We can use this plot to determine if there are any outliers in either the data or our predictions."
   ]
  },
  {
   "cell_type": "code",
   "execution_count": 425,
   "metadata": {},
   "outputs": [
    {
     "data": {
      "image/png": "[encoded data removed]",
      "text/plain": [
       "<Figure size 432x288 with 1 Axes>"
      ]
     },
     "metadata": {},
     "output_type": "display_data"
    }
   ],
   "source": [
    "%matplotlib inline\n",
    "\n",
    "# Set the style\n",
    "plt.style.use('fivethirtyeight')\n",
    "\n",
    "# list of x locations for plotting\n",
    "x_values = list(range(len(importances)))\n",
    "\n",
    "# Make a bar chart\n",
    "plt.bar(x_values, importances, orientation = 'vertical')\n",
    "\n",
    "# Tick labels for x axis\n",
    "plt.xticks(x_values, feature_list, rotation='vertical')\n",
    "\n",
    "# Axis labels and title\n",
    "plt.ylabel('Importance'); plt.xlabel('Variable'); plt.title('Variable Importances');"
   ]
  },
  {
   "cell_type": "markdown",
   "metadata": {},
   "source": [
    "At the top of the list is price_in_eur, the price of the flight on the requested date. This tells us the best predictor of the min_future_price is the requested flight price.\n",
    "\n",
    "The second most important factor is the duration time between request and flight date.\n",
    "\n",
    "In future implementations of the model, we can remove those variables that have no importance and the performance will not suffer. Let’s make a random forest with only the two most important variables, the price_in_eur and the duration_time and see how the performance compares."
   ]
  },
  {
   "cell_type": "markdown",
   "metadata": {},
   "source": [
    "# Hyperparameter tuning \n",
    "The score of the model is changed by its samples. For that reason we use the random hyperparameter grid to find the best parameters for the best performance."
   ]
  },
  {
   "cell_type": "code",
   "execution_count": 426,
   "metadata": {},
   "outputs": [],
   "source": [
    "model_params = {\n",
    "    'random_forest':{\n",
    "        'model': RandomForestRegressor(),\n",
    "        'params': {\n",
    "            'n_estimators': [50, 60, 80]\n",
    "        }\n",
    "    }\n",
    "}"
   ]
  },
  {
   "cell_type": "code",
   "execution_count": 427,
   "metadata": {},
   "outputs": [],
   "source": [
    "scores = []\n",
    "\n",
    "for model_name, mp in model_params.items():\n",
    "    clf = GridSearchCV(mp['model'], mp['params'], cv=5, return_train_score=False)\n",
    "    clf.fit(X, y)\n",
    "    scores.append({\n",
    "        'model': model_name,\n",
    "        'best_score': clf.best_score_,\n",
    "        'best_params': clf.best_params_\n",
    "    })"
   ]
  },
  {
   "cell_type": "code",
   "execution_count": 428,
   "metadata": {},
   "outputs": [
    {
     "data": {
      "text/html": [
       "<div>\n",
       "<style scoped>\n",
       "    .dataframe tbody tr th:only-of-type {\n",
       "        vertical-align: middle;\n",
       "    }\n",
       "\n",
       "    .dataframe tbody tr th {\n",
       "        vertical-align: top;\n",
       "    }\n",
       "\n",
       "    .dataframe thead th {\n",
       "        text-align: right;\n",
       "    }\n",
       "</style>\n",
       "<table border=\"1\" class=\"dataframe\">\n",
       "  <thead>\n",
       "    <tr style=\"text-align: right;\">\n",
       "      <th></th>\n",
       "      <th>model</th>\n",
       "      <th>best_score</th>\n",
       "      <th>best_params</th>\n",
       "    </tr>\n",
       "  </thead>\n",
       "  <tbody>\n",
       "    <tr>\n",
       "      <th>0</th>\n",
       "      <td>random_forest</td>\n",
       "      <td>0.749772</td>\n",
       "      <td>{'n_estimators': 50}</td>\n",
       "    </tr>\n",
       "  </tbody>\n",
       "</table>\n",
       "</div>"
      ],
      "text/plain": [
       "           model  best_score           best_params\n",
       "0  random_forest    0.749772  {'n_estimators': 50}"
      ]
     },
     "execution_count": 428,
     "metadata": {},
     "output_type": "execute_result"
    }
   ],
   "source": [
    "hyper = pd.DataFrame(scores, columns=['model', 'best_score', 'best_params'])\n",
    "hyper"
   ]
  },
  {
   "cell_type": "markdown",
   "metadata": {},
   "source": [
    "We receive the best score if we set the estimator to 50 trees. "
   ]
  },
  {
   "cell_type": "code",
   "execution_count": 429,
   "metadata": {},
   "outputs": [
    {
     "data": {
      "text/plain": [
       "array([0.7224658 , 0.8257877 , 0.74843187, 0.73213849, 0.71892332])"
      ]
     },
     "execution_count": 429,
     "metadata": {},
     "output_type": "execute_result"
    }
   ],
   "source": [
    "# using cross validation score with different estimator values \n",
    "cross_val_score(RandomForestRegressor(n_estimators=90), X, y)"
   ]
  },
  {
   "cell_type": "code",
   "execution_count": 430,
   "metadata": {},
   "outputs": [
    {
     "data": {
      "text/plain": [
       "array([0.72233508, 0.82600063, 0.74869079, 0.73182271, 0.71819845])"
      ]
     },
     "execution_count": 430,
     "metadata": {},
     "output_type": "execute_result"
    }
   ],
   "source": [
    "# using cross validation score with different estimator values \n",
    "cross_val_score(RandomForestRegressor(n_estimators=100), X, y)"
   ]
  },
  {
   "cell_type": "markdown",
   "metadata": {},
   "source": [
    "With cross validation we received a better score with 100 trees. Now we build a new random forest with 100 trees and only 2 variables, the price_in_eur and the duration time. "
   ]
  },
  {
   "cell_type": "code",
   "execution_count": 431,
   "metadata": {},
   "outputs": [
    {
     "name": "stdout",
     "output_type": "stream",
     "text": [
      "Mean Absolute Error: 0.19\n",
      "Accuracy: 94.87 %\n",
      "Mean Squared Error: 0.07\n"
     ]
    }
   ],
   "source": [
    "# New random forest with only the two most important variables\n",
    "rf_reg_most_important = RandomForestRegressor(n_estimators= 100, random_state=42)\n",
    "\n",
    "# Extract the most important features\n",
    "important_indices = [feature_list.index('price_in_eur'), feature_list.index('Duration_Time')]\n",
    "train_important = X_train[:, important_indices]\n",
    "test_important = X_test[:, important_indices]\n",
    "\n",
    "# Train the random forest\n",
    "rf_reg_most_important.fit(train_important, y_train)\n",
    "\n",
    "# Make predictions and determine the error\n",
    "predictions = rf_reg_most_important.predict(test_important)\n",
    "errors = abs(predictions - y_test)\n",
    "\n",
    "# Display the performance metrics\n",
    "print('Mean Absolute Error:', round(np.mean(errors), 2))\n",
    "mape = np.mean(100 * (errors / y_test))\n",
    "accuracy = 100 - mape\n",
    "print('Accuracy:', round(accuracy, 2), '%')\n",
    "\n",
    "# Print out the mean squared error (MSE)\n",
    "print('Mean Squared Error:', round(np.square(errors).mean(), 2))  "
   ]
  },
  {
   "cell_type": "markdown",
   "metadata": {},
   "source": [
    "The percentage of accuracy doesn't changed a lot. This tells us that we do not need all the data we collected to make accurate predictions. \n",
    "\n",
    "At this point we have created a random forest model for a supervised regression problem. We can feel confident that our model can predict the min future price of a flight with 94.87% accuracy."
   ]
  },
  {
   "cell_type": "markdown",
   "metadata": {},
   "source": [
    "# Use on Test Data"
   ]
  },
  {
   "cell_type": "code",
   "execution_count": 432,
   "metadata": {},
   "outputs": [],
   "source": [
    "test_prediction = rf_reg.predict(np.array(test_drop[features]))"
   ]
  },
  {
   "cell_type": "code",
   "execution_count": 433,
   "metadata": {},
   "outputs": [
    {
     "data": {
      "text/html": [
       "<div>\n",
       "<style scoped>\n",
       "    .dataframe tbody tr th:only-of-type {\n",
       "        vertical-align: middle;\n",
       "    }\n",
       "\n",
       "    .dataframe tbody tr th {\n",
       "        vertical-align: top;\n",
       "    }\n",
       "\n",
       "    .dataframe thead th {\n",
       "        text-align: right;\n",
       "    }\n",
       "</style>\n",
       "<table border=\"1\" class=\"dataframe\">\n",
       "  <thead>\n",
       "    <tr style=\"text-align: right;\">\n",
       "      <th></th>\n",
       "      <th>Request_Date</th>\n",
       "      <th>flight_unique_id</th>\n",
       "      <th>price_in_eur</th>\n",
       "      <th>min_future_price_eur</th>\n",
       "    </tr>\n",
       "  </thead>\n",
       "  <tbody>\n",
       "    <tr>\n",
       "      <th>0</th>\n",
       "      <td>2019-06-03 11:00:00</td>\n",
       "      <td>2019-07-02 FR 145</td>\n",
       "      <td>31.321154</td>\n",
       "      <td>20.562790</td>\n",
       "    </tr>\n",
       "    <tr>\n",
       "      <th>1</th>\n",
       "      <td>2019-06-03 23:00:00</td>\n",
       "      <td>2019-07-02 FR 145</td>\n",
       "      <td>45.528200</td>\n",
       "      <td>28.949633</td>\n",
       "    </tr>\n",
       "    <tr>\n",
       "      <th>2</th>\n",
       "      <td>2019-06-04 11:00:00</td>\n",
       "      <td>2019-07-02 FR 145</td>\n",
       "      <td>45.467984</td>\n",
       "      <td>37.731222</td>\n",
       "    </tr>\n",
       "    <tr>\n",
       "      <th>3</th>\n",
       "      <td>2019-06-04 23:00:00</td>\n",
       "      <td>2019-07-02 FR 145</td>\n",
       "      <td>45.467984</td>\n",
       "      <td>36.876885</td>\n",
       "    </tr>\n",
       "    <tr>\n",
       "      <th>4</th>\n",
       "      <td>2019-06-05 11:00:00</td>\n",
       "      <td>2019-07-02 FR 145</td>\n",
       "      <td>45.521668</td>\n",
       "      <td>33.510655</td>\n",
       "    </tr>\n",
       "    <tr>\n",
       "      <th>...</th>\n",
       "      <td>...</td>\n",
       "      <td>...</td>\n",
       "      <td>...</td>\n",
       "      <td>...</td>\n",
       "    </tr>\n",
       "    <tr>\n",
       "      <th>5578</th>\n",
       "      <td>2019-07-30 23:00:00</td>\n",
       "      <td>2019-08-02 FR 8545</td>\n",
       "      <td>43.830000</td>\n",
       "      <td>51.879163</td>\n",
       "    </tr>\n",
       "    <tr>\n",
       "      <th>5579</th>\n",
       "      <td>2019-07-31 11:00:00</td>\n",
       "      <td>2019-08-02 FR 8545</td>\n",
       "      <td>51.990000</td>\n",
       "      <td>73.247051</td>\n",
       "    </tr>\n",
       "    <tr>\n",
       "      <th>5580</th>\n",
       "      <td>2019-07-31 23:00:00</td>\n",
       "      <td>2019-08-02 FR 8545</td>\n",
       "      <td>51.990000</td>\n",
       "      <td>53.763015</td>\n",
       "    </tr>\n",
       "    <tr>\n",
       "      <th>5581</th>\n",
       "      <td>2019-08-01 11:00:00</td>\n",
       "      <td>2019-08-02 FR 8545</td>\n",
       "      <td>51.990000</td>\n",
       "      <td>51.990000</td>\n",
       "    </tr>\n",
       "    <tr>\n",
       "      <th>5582</th>\n",
       "      <td>2019-08-01 23:00:00</td>\n",
       "      <td>2019-08-02 FR 8545</td>\n",
       "      <td>51.990000</td>\n",
       "      <td>51.990000</td>\n",
       "    </tr>\n",
       "  </tbody>\n",
       "</table>\n",
       "<p>5583 rows × 4 columns</p>\n",
       "</div>"
      ],
      "text/plain": [
       "            Request_Date    flight_unique_id  price_in_eur  \\\n",
       "0    2019-06-03 11:00:00   2019-07-02 FR 145     31.321154   \n",
       "1    2019-06-03 23:00:00   2019-07-02 FR 145     45.528200   \n",
       "2    2019-06-04 11:00:00   2019-07-02 FR 145     45.467984   \n",
       "3    2019-06-04 23:00:00   2019-07-02 FR 145     45.467984   \n",
       "4    2019-06-05 11:00:00   2019-07-02 FR 145     45.521668   \n",
       "...                  ...                 ...           ...   \n",
       "5578 2019-07-30 23:00:00  2019-08-02 FR 8545     43.830000   \n",
       "5579 2019-07-31 11:00:00  2019-08-02 FR 8545     51.990000   \n",
       "5580 2019-07-31 23:00:00  2019-08-02 FR 8545     51.990000   \n",
       "5581 2019-08-01 11:00:00  2019-08-02 FR 8545     51.990000   \n",
       "5582 2019-08-01 23:00:00  2019-08-02 FR 8545     51.990000   \n",
       "\n",
       "      min_future_price_eur  \n",
       "0                20.562790  \n",
       "1                28.949633  \n",
       "2                37.731222  \n",
       "3                36.876885  \n",
       "4                33.510655  \n",
       "...                    ...  \n",
       "5578             51.879163  \n",
       "5579             73.247051  \n",
       "5580             53.763015  \n",
       "5581             51.990000  \n",
       "5582             51.990000  \n",
       "\n",
       "[5583 rows x 4 columns]"
      ]
     },
     "execution_count": 433,
     "metadata": {},
     "output_type": "execute_result"
    }
   ],
   "source": [
    "final_prediction = pd.DataFrame({'Request_Date': test['Request_Date'], 'flight_unique_id': test['flight_unique_id'], 'price_in_eur': np.exp(test['price_in_eur']), 'min_future_price_eur': np.exp(test_prediction)})\n",
    "final_prediction"
   ]
  },
  {
   "cell_type": "markdown",
   "metadata": {},
   "source": [
    "# Compute Buy False/ True"
   ]
  },
  {
   "cell_type": "code",
   "execution_count": 434,
   "metadata": {},
   "outputs": [
    {
     "name": "stdout",
     "output_type": "stream",
     "text": [
      "            Request_Date    flight_unique_id  price_in_eur  \\\n",
      "0    2019-06-03 11:00:00   2019-07-02 FR 145     31.321154   \n",
      "1    2019-06-03 23:00:00   2019-07-02 FR 145     45.528200   \n",
      "2    2019-06-04 11:00:00   2019-07-02 FR 145     45.467984   \n",
      "3    2019-06-04 23:00:00   2019-07-02 FR 145     45.467984   \n",
      "4    2019-06-05 11:00:00   2019-07-02 FR 145     45.521668   \n",
      "...                  ...                 ...           ...   \n",
      "5578 2019-07-30 23:00:00  2019-08-02 FR 8545     43.830000   \n",
      "5579 2019-07-31 11:00:00  2019-08-02 FR 8545     51.990000   \n",
      "5580 2019-07-31 23:00:00  2019-08-02 FR 8545     51.990000   \n",
      "5581 2019-08-01 11:00:00  2019-08-02 FR 8545     51.990000   \n",
      "5582 2019-08-01 23:00:00  2019-08-02 FR 8545     51.990000   \n",
      "\n",
      "      min_future_price_eur  buy  \n",
      "0                20.562790  0.0  \n",
      "1                28.949633  0.0  \n",
      "2                37.731222  0.0  \n",
      "3                36.876885  0.0  \n",
      "4                33.510655  0.0  \n",
      "...                    ...  ...  \n",
      "5578             51.879163  1.0  \n",
      "5579             73.247051  1.0  \n",
      "5580             53.763015  1.0  \n",
      "5581             51.990000  0.0  \n",
      "5582             51.990000  0.0  \n",
      "\n",
      "[5583 rows x 5 columns]\n"
     ]
    }
   ],
   "source": [
    "final_prediction['buy'] = np.nan\n",
    "for index, row in final_prediction.iterrows():\n",
    "    if row.price_in_eur > row.min_future_price_eur:\n",
    "        final_prediction.at[index,'buy']=0\n",
    "    else:\n",
    "        final_prediction.at[index,'buy']=1\n",
    "print(final_prediction)\n",
    "# final_prediction.to_csv('./data/linear_regression_test.csv', sep=',')"
   ]
  },
  {
   "cell_type": "markdown",
   "metadata": {},
   "source": [
    "# Optimization Performance \n",
    "Das Vorhersagemodell für die Entscheidung Warten oder Kaufen eines Flugtickets soll hinsichtlich der Vorhersagegenauigkeit optimiert werden, d.h. Genauigkeit = Anzahl der richtigen Entscheidungen / Anzahl aller Entscheidungen."
   ]
  },
  {
   "cell_type": "code",
   "execution_count": 435,
   "metadata": {},
   "outputs": [
    {
     "name": "stdout",
     "output_type": "stream",
     "text": [
      "True: 755\n",
      "Total: 5583\n"
     ]
    },
    {
     "data": {
      "text/plain": [
       "0.1352319541465162"
      ]
     },
     "execution_count": 435,
     "metadata": {},
     "output_type": "execute_result"
    }
   ],
   "source": [
    "optimize_final_prediction = final_prediction\n",
    "def getModelScore(data):\n",
    "    data['Request_Date'] = pd.to_datetime(data['Request_Date'], format='%Y-%m-%d %H:%M:%S')\n",
    "    decision_true_total = 0\n",
    "    unique_flights_id = data['flight_unique_id'].unique()\n",
    "    for element in unique_flights_id:\n",
    "        flights = data[data['flight_unique_id'] == element].sort_values('Request_Date', ascending=False)\n",
    "        for index, flight in flights.iterrows():\n",
    "            filtered_flights = flights[flights['Request_Date'] >= flight.Request_Date].sort_values('Request_Date', ascending=False)\n",
    "            if flight.buy == 1:\n",
    "                filtered_flights = filtered_flights[filtered_flights['price_in_eur'] < flight.price_in_eur]\n",
    "            if flight.buy == 0:\n",
    "                filtered_flights = filtered_flights[filtered_flights['price_in_eur'] > flight.price_in_eur]\n",
    "            if len(filtered_flights) == 0:\n",
    "                decision_true_total = decision_true_total + 1\n",
    "    print('True: ' + str(decision_true_total))\n",
    "    print('Total: ' + str(len(data)))\n",
    "    return decision_true_total/len(data)\n",
    "\n",
    "getModelScore(optimize_final_prediction)\n",
    "# 537 ['price_in_eur' 'Duration_Time' 'Departure_hour_18:00' 'Departure_hour_6:00']"
   ]
  },
  {
   "cell_type": "code",
   "execution_count": 436,
   "metadata": {},
   "outputs": [
    {
     "data": {
      "text/plain": [
       "[datetime.datetime(2019, 5, 1, 0, 0),\n",
       " -13.892722225248217,\n",
       " Timestamp('2019-06-10 11:00:00')]"
      ]
     },
     "execution_count": 436,
     "metadata": {},
     "output_type": "execute_result"
    }
   ],
   "source": [
    "check_final_prediction = final_prediction\n",
    "def checkDateToBuy(data, flight_unique_id, request_date):\n",
    "    flights = data[data['flight_unique_id'] == flight_unique_id].sort_values('Request_Date', ascending=False)\n",
    "    price_saving = 0\n",
    "    if request_date <= flights.iloc[0].Request_Date:\n",
    "        flights['Request_Date'] = pd.to_datetime(flights['Request_Date'], format='%Y-%m-%d %H:%M:%S')\n",
    "        flights = flights[flights['Request_Date'] > request_date].sort_values('Request_Date', ascending=True)\n",
    "        initialPrice = 0\n",
    "        flights = flights.reset_index()\n",
    "        for index, flight in flights.iterrows():\n",
    "            if index == 0:\n",
    "                initialPrice = flight.price_in_eur\n",
    "            if flight.buy == 1:\n",
    "                price_saving = initialPrice - flight.price_in_eur\n",
    "                return [request_date, price_saving, flight.Request_Date]\n",
    "        return 0\n",
    "    else:\n",
    "        print('No data available for the supplied Request_Date')\n",
    "\n",
    "checkDateToBuy(check_final_prediction, '2019-07-02 FR 145', datetime(2019, 5, 1))"
   ]
  }
 ],
 "metadata": {
  "kernelspec": {
   "display_name": "Python 3",
   "language": "python",
   "name": "python3"
  },
  "language_info": {
   "codemirror_mode": {
    "name": "ipython",
    "version": 3
   },
   "file_extension": ".py",
   "mimetype": "text/x-python",
   "name": "python",
   "nbconvert_exporter": "python",
   "pygments_lexer": "ipython3",
   "version": "3.7.7"
  }
 },
 "nbformat": 4,
 "nbformat_minor": 4
}
