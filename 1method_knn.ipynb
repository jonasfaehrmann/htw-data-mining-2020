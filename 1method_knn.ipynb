{
 "cells": [
  {
   "cell_type": "markdown",
   "metadata": {},
   "source": [
    "# k-Nearest-Neighbour classifiers\n",
    "Here we use the k-nearest-neighbor method on the converted data from the descriptive_analysis.ipynb.\n",
    "As reference we use dataMining_R_8_ml.Rmd (./uebung/knn_uebung/) from the lecture."
   ]
  },
  {
   "cell_type": "code",
   "execution_count": 1,
   "metadata": {},
   "outputs": [],
   "source": [
    "import pandas as pd\n",
    "import matplotlib.pyplot as plt\n",
    "import numpy as np\n",
    "from sklearn import preprocessing\n",
    "from sklearn.neighbors import KNeighborsClassifier\n",
    "from sklearn.model_selection import train_test_split\n",
    "from sklearn.model_selection import KFold"
   ]
  },
  {
   "cell_type": "code",
   "execution_count": 2,
   "metadata": {},
   "outputs": [],
   "source": [
    "data = pd.read_csv('./data/converted_test_2020_06_03_16-14-12.csv')\n",
    "train = pd.read_csv('./data/converted_train_2020_06_03_16-14-12.csv')"
   ]
  },
  {
   "cell_type": "code",
   "execution_count": 3,
   "metadata": {},
   "outputs": [],
   "source": [
    "# Encode Request_Weekday column\n",
    "encoder = preprocessing.LabelEncoder()\n",
    "data['Request_Weekday']=encoder.fit_transform(data['Request_Weekday'])\n",
    "train['Request_Weekday']=encoder.fit_transform(train['Request_Weekday'])\n",
    "\n",
    "# Encode route abb column\n",
    "data['route_abb']=encoder.fit_transform(data['route_abb'])\n",
    "train['route_abb']=encoder.fit_transform(train['route_abb'])\n",
    "\n",
    "# Encode Request_AM_PM column\n",
    "data['Request_AM_PM']=encoder.fit_transform(data['Request_AM_PM'])\n",
    "train['Request_AM_PM']=encoder.fit_transform(train['Request_AM_PM'])\n",
    "\n",
    "# Encode currency_in_eur column\n",
    "data['price_in_eur']=encoder.fit_transform(data['price_in_eur'])\n",
    "train['price_in_eur']=encoder.fit_transform(train['price_in_eur'])\n",
    "\n",
    "# Encode Duration Time\n",
    "data['Duration_Time']=encoder.fit_transform(data['Duration_Time'])\n",
    "train['Duration_Time']=encoder.fit_transform(train['Duration_Time'])\n",
    "\n",
    "# Encode min_future_price\n",
    "train['min_future_price_in_eur']=encoder.fit_transform(train['min_future_price_in_eur'])"
   ]
  },
  {
   "cell_type": "code",
   "execution_count": 4,
   "metadata": {},
   "outputs": [],
   "source": [
    "# Drop columns we do not need from data\n",
    "data_dropped = data.drop(columns=['Request_Date', 'Flight_Date', 'flight_unique_id', 'flight_number', 'Currency', 'Price'])\n",
    "data_dropped = data_dropped.loc[:, ~data_dropped.columns.str.contains('^Unnamed')]\n",
    "\n",
    "# Drop columns we do not need from train\n",
    "train_dropped = train.drop(columns=['Request_Date', 'Flight_Date', 'flight_unique_id', 'flight_number', 'Currency', 'Price', 'min_future_price'])\n",
    "train_dropped = train_dropped.loc[:, ~train_dropped.columns.str.contains('^Unnamed')]"
   ]
  },
  {
   "cell_type": "code",
   "execution_count": 5,
   "metadata": {},
   "outputs": [
    {
     "name": "stdout",
     "output_type": "stream",
     "text": [
      "   Duration_Time  Departure_hour  route_abb  price_in_eur  Request_Weekday  \\\n",
      "0              0              18          3           118                2   \n",
      "1              1              22          3           180                2   \n",
      "2              2               6          3           102                2   \n",
      "3              0               6          3           118                2   \n",
      "4              5              10          3           180                2   \n",
      "\n",
      "   Request_AM_PM  \n",
      "0              0  \n",
      "1              0  \n",
      "2              0  \n",
      "3              1  \n",
      "4              0  \n",
      "   Duration_Time  Departure_hour  route_abb  price_in_eur  \\\n",
      "0             10              19          3           602   \n",
      "1              5              19          3           620   \n",
      "2              1              19          3           620   \n",
      "3             12              21          2           450   \n",
      "4              7              21          2           586   \n",
      "\n",
      "   min_future_price_in_eur  Request_Weekday  Request_AM_PM  \n",
      "0                      328                1              0  \n",
      "1                      328                1              1  \n",
      "2                      328                5              0  \n",
      "3                      309                1              0  \n",
      "4                      309                1              1  \n"
     ]
    }
   ],
   "source": [
    "print(data_dropped.head())\n",
    "print(train_dropped.head())"
   ]
  },
  {
   "cell_type": "code",
   "execution_count": 9,
   "metadata": {},
   "outputs": [
    {
     "data": {
      "text/html": [
       "<div>\n",
       "<style scoped>\n",
       "    .dataframe tbody tr th:only-of-type {\n",
       "        vertical-align: middle;\n",
       "    }\n",
       "\n",
       "    .dataframe tbody tr th {\n",
       "        vertical-align: top;\n",
       "    }\n",
       "\n",
       "    .dataframe thead th {\n",
       "        text-align: right;\n",
       "    }\n",
       "</style>\n",
       "<table border=\"1\" class=\"dataframe\">\n",
       "  <thead>\n",
       "    <tr style=\"text-align: right;\">\n",
       "      <th></th>\n",
       "      <th>Duration_Time</th>\n",
       "      <th>price_in_eur</th>\n",
       "      <th>Request_Weekday</th>\n",
       "    </tr>\n",
       "  </thead>\n",
       "  <tbody>\n",
       "    <tr>\n",
       "      <th>0</th>\n",
       "      <td>10</td>\n",
       "      <td>602</td>\n",
       "      <td>1</td>\n",
       "    </tr>\n",
       "    <tr>\n",
       "      <th>1</th>\n",
       "      <td>5</td>\n",
       "      <td>620</td>\n",
       "      <td>1</td>\n",
       "    </tr>\n",
       "    <tr>\n",
       "      <th>2</th>\n",
       "      <td>1</td>\n",
       "      <td>620</td>\n",
       "      <td>5</td>\n",
       "    </tr>\n",
       "    <tr>\n",
       "      <th>3</th>\n",
       "      <td>12</td>\n",
       "      <td>450</td>\n",
       "      <td>1</td>\n",
       "    </tr>\n",
       "    <tr>\n",
       "      <th>4</th>\n",
       "      <td>7</td>\n",
       "      <td>586</td>\n",
       "      <td>1</td>\n",
       "    </tr>\n",
       "    <tr>\n",
       "      <th>...</th>\n",
       "      <td>...</td>\n",
       "      <td>...</td>\n",
       "      <td>...</td>\n",
       "    </tr>\n",
       "    <tr>\n",
       "      <th>83006</th>\n",
       "      <td>453</td>\n",
       "      <td>10</td>\n",
       "      <td>4</td>\n",
       "    </tr>\n",
       "    <tr>\n",
       "      <th>83007</th>\n",
       "      <td>448</td>\n",
       "      <td>10</td>\n",
       "      <td>0</td>\n",
       "    </tr>\n",
       "    <tr>\n",
       "      <th>83008</th>\n",
       "      <td>443</td>\n",
       "      <td>10</td>\n",
       "      <td>0</td>\n",
       "    </tr>\n",
       "    <tr>\n",
       "      <th>83009</th>\n",
       "      <td>438</td>\n",
       "      <td>10</td>\n",
       "      <td>2</td>\n",
       "    </tr>\n",
       "    <tr>\n",
       "      <th>83010</th>\n",
       "      <td>433</td>\n",
       "      <td>10</td>\n",
       "      <td>2</td>\n",
       "    </tr>\n",
       "  </tbody>\n",
       "</table>\n",
       "<p>83011 rows × 3 columns</p>\n",
       "</div>"
      ],
      "text/plain": [
       "       Duration_Time  price_in_eur  Request_Weekday\n",
       "0                 10           602                1\n",
       "1                  5           620                1\n",
       "2                  1           620                5\n",
       "3                 12           450                1\n",
       "4                  7           586                1\n",
       "...              ...           ...              ...\n",
       "83006            453            10                4\n",
       "83007            448            10                0\n",
       "83008            443            10                0\n",
       "83009            438            10                2\n",
       "83010            433            10                2\n",
       "\n",
       "[83011 rows x 3 columns]"
      ]
     },
     "execution_count": 9,
     "metadata": {},
     "output_type": "execute_result"
    }
   ],
   "source": [
    "# Generate test and target / Figure out which features to drop. 'min_future_price_in_eur' needs to be dropped!\n",
    "X = train_dropped.drop(columns=['min_future_price_in_eur'])\n",
    "y = train_dropped['min_future_price_in_eur'].values\n",
    "X"
   ]
  },
  {
   "cell_type": "code",
   "execution_count": 10,
   "metadata": {},
   "outputs": [
    {
     "name": "stdout",
     "output_type": "stream",
     "text": [
      "(49806, 3)\n",
      "(49806,)\n"
     ]
    }
   ],
   "source": [
    "# Split dataset into train and test data (might want to try random_state=0 to randomize each calculation)\n",
    "X_train, X_test, y_train, y_test = train_test_split(X, y, test_size=0.4, random_state=1)\n",
    "print(X_train.shape)\n",
    "print(y_train.shape)"
   ]
  },
  {
   "cell_type": "code",
   "execution_count": 11,
   "metadata": {},
   "outputs": [],
   "source": [
    "# We try to find the best value for k.\n",
    "k_list = np.arange(1,20)\n",
    "train_accuracy = np.empty(len(k_list))\n",
    "test_accuracy = np.empty(len(k_list))\n",
    "\n",
    "for i,k in enumerate(k_list):\n",
    "    knn_test = KNeighborsClassifier(n_neighbors=k)\n",
    "    knn_test.fit(X_train, y_train)\n",
    "    train_accuracy[i] = knn_test.score(X_train, y_train)\n",
    "    test_accuracy[i] = knn_test.score(X_test, y_test) "
   ]
  },
  {
   "cell_type": "code",
   "execution_count": 12,
   "metadata": {},
   "outputs": [
    {
     "data": {
      "image/png": "[encoded data removed]",
      "text/plain": [
       "<Figure size 432x288 with 1 Axes>"
      ]
     },
     "metadata": {
      "needs_background": "light"
     },
     "output_type": "display_data"
    }
   ],
   "source": [
    "#Generate plot\n",
    "plt.plot(k_list, test_accuracy, label='Testing Accuracy')\n",
    "plt.plot(k_list, train_accuracy, label='Training accuracy')\n",
    "plt.legend()\n",
    "plt.xlabel('Number of neighbors')\n",
    "plt.ylabel('Accuracy (Cross−Validation)')\n",
    "plt.show()"
   ]
  },
  {
   "cell_type": "code",
   "execution_count": 13,
   "metadata": {},
   "outputs": [
    {
     "data": {
      "text/plain": [
       "0.2038548411383828"
      ]
     },
     "execution_count": 13,
     "metadata": {},
     "output_type": "execute_result"
    }
   ],
   "source": [
    "knn = KNeighborsClassifier(n_neighbors=15)\n",
    "#Fit the model\n",
    "knn.fit(X_train,y_train)\n",
    "#Get accuracy\n",
    "knn.score(X_test,y_test)"
   ]
  },
  {
   "cell_type": "code",
   "execution_count": null,
   "metadata": {},
   "outputs": [],
   "source": []
  }
 ],
 "metadata": {
  "kernelspec": {
   "display_name": "Python 3",
   "language": "python",
   "name": "python3"
  },
  "language_info": {
   "codemirror_mode": {
    "name": "ipython",
    "version": 3
   },
   "file_extension": ".py",
   "mimetype": "text/x-python",
   "name": "python",
   "nbconvert_exporter": "python",
   "pygments_lexer": "ipython3",
   "version": "3.7.7"
  }
 },
 "nbformat": 4,
 "nbformat_minor": 4
}
